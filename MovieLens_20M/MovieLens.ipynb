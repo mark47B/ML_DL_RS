{
  "nbformat": 4,
  "nbformat_minor": 0,
  "metadata": {
    "colab": {
      "name": "VK_test_.ipynb",
      "provenance": []
    },
    "kernelspec": {
      "name": "python3",
      "display_name": "Python 3"
    },
    "language_info": {
      "name": "python"
    },
    "widgets": {
      "application/vnd.jupyter.widget-state+json": {
        "eaed7be0402a4e02a8132736d724ae07": {
          "model_module": "@jupyter-widgets/controls",
          "model_name": "HBoxModel",
          "model_module_version": "1.5.0",
          "state": {
            "_dom_classes": [],
            "_model_module": "@jupyter-widgets/controls",
            "_model_module_version": "1.5.0",
            "_model_name": "HBoxModel",
            "_view_count": null,
            "_view_module": "@jupyter-widgets/controls",
            "_view_module_version": "1.5.0",
            "_view_name": "HBoxView",
            "box_style": "",
            "children": [
              "IPY_MODEL_423f39f00a01465990eb8c5149c92d06",
              "IPY_MODEL_3b04b543d2244a22804f44b4c74d28c6",
              "IPY_MODEL_9ee909e4c7c34c58bdf741de496aab24"
            ],
            "layout": "IPY_MODEL_e3c3e24a822047c281eaf1c33bb7baf4"
          }
        },
        "423f39f00a01465990eb8c5149c92d06": {
          "model_module": "@jupyter-widgets/controls",
          "model_name": "HTMLModel",
          "model_module_version": "1.5.0",
          "state": {
            "_dom_classes": [],
            "_model_module": "@jupyter-widgets/controls",
            "_model_module_version": "1.5.0",
            "_model_name": "HTMLModel",
            "_view_count": null,
            "_view_module": "@jupyter-widgets/controls",
            "_view_module_version": "1.5.0",
            "_view_name": "HTMLView",
            "description": "",
            "description_tooltip": null,
            "layout": "IPY_MODEL_a69adb00eb6b483ea945191e12a20495",
            "placeholder": "​",
            "style": "IPY_MODEL_309605a03c4741d6831112b37998b118",
            "value": "100%"
          }
        },
        "3b04b543d2244a22804f44b4c74d28c6": {
          "model_module": "@jupyter-widgets/controls",
          "model_name": "FloatProgressModel",
          "model_module_version": "1.5.0",
          "state": {
            "_dom_classes": [],
            "_model_module": "@jupyter-widgets/controls",
            "_model_module_version": "1.5.0",
            "_model_name": "FloatProgressModel",
            "_view_count": null,
            "_view_module": "@jupyter-widgets/controls",
            "_view_module_version": "1.5.0",
            "_view_name": "ProgressView",
            "bar_style": "success",
            "description": "",
            "description_tooltip": null,
            "layout": "IPY_MODEL_d00ebc190e474195b2d1ca8f08af1d72",
            "max": 20,
            "min": 0,
            "orientation": "horizontal",
            "style": "IPY_MODEL_df5e305d6f1f4eeca5380c74b7f5d10f",
            "value": 20
          }
        },
        "9ee909e4c7c34c58bdf741de496aab24": {
          "model_module": "@jupyter-widgets/controls",
          "model_name": "HTMLModel",
          "model_module_version": "1.5.0",
          "state": {
            "_dom_classes": [],
            "_model_module": "@jupyter-widgets/controls",
            "_model_module_version": "1.5.0",
            "_model_name": "HTMLModel",
            "_view_count": null,
            "_view_module": "@jupyter-widgets/controls",
            "_view_module_version": "1.5.0",
            "_view_name": "HTMLView",
            "description": "",
            "description_tooltip": null,
            "layout": "IPY_MODEL_234db2247c1d499f967300c1b983a5f6",
            "placeholder": "​",
            "style": "IPY_MODEL_b6e67549c14b4145a3ee403fcfa0d004",
            "value": " 20/20 [00:08&lt;00:00,  2.38it/s]"
          }
        },
        "e3c3e24a822047c281eaf1c33bb7baf4": {
          "model_module": "@jupyter-widgets/base",
          "model_name": "LayoutModel",
          "model_module_version": "1.2.0",
          "state": {
            "_model_module": "@jupyter-widgets/base",
            "_model_module_version": "1.2.0",
            "_model_name": "LayoutModel",
            "_view_count": null,
            "_view_module": "@jupyter-widgets/base",
            "_view_module_version": "1.2.0",
            "_view_name": "LayoutView",
            "align_content": null,
            "align_items": null,
            "align_self": null,
            "border": null,
            "bottom": null,
            "display": null,
            "flex": null,
            "flex_flow": null,
            "grid_area": null,
            "grid_auto_columns": null,
            "grid_auto_flow": null,
            "grid_auto_rows": null,
            "grid_column": null,
            "grid_gap": null,
            "grid_row": null,
            "grid_template_areas": null,
            "grid_template_columns": null,
            "grid_template_rows": null,
            "height": null,
            "justify_content": null,
            "justify_items": null,
            "left": null,
            "margin": null,
            "max_height": null,
            "max_width": null,
            "min_height": null,
            "min_width": null,
            "object_fit": null,
            "object_position": null,
            "order": null,
            "overflow": null,
            "overflow_x": null,
            "overflow_y": null,
            "padding": null,
            "right": null,
            "top": null,
            "visibility": null,
            "width": null
          }
        },
        "a69adb00eb6b483ea945191e12a20495": {
          "model_module": "@jupyter-widgets/base",
          "model_name": "LayoutModel",
          "model_module_version": "1.2.0",
          "state": {
            "_model_module": "@jupyter-widgets/base",
            "_model_module_version": "1.2.0",
            "_model_name": "LayoutModel",
            "_view_count": null,
            "_view_module": "@jupyter-widgets/base",
            "_view_module_version": "1.2.0",
            "_view_name": "LayoutView",
            "align_content": null,
            "align_items": null,
            "align_self": null,
            "border": null,
            "bottom": null,
            "display": null,
            "flex": null,
            "flex_flow": null,
            "grid_area": null,
            "grid_auto_columns": null,
            "grid_auto_flow": null,
            "grid_auto_rows": null,
            "grid_column": null,
            "grid_gap": null,
            "grid_row": null,
            "grid_template_areas": null,
            "grid_template_columns": null,
            "grid_template_rows": null,
            "height": null,
            "justify_content": null,
            "justify_items": null,
            "left": null,
            "margin": null,
            "max_height": null,
            "max_width": null,
            "min_height": null,
            "min_width": null,
            "object_fit": null,
            "object_position": null,
            "order": null,
            "overflow": null,
            "overflow_x": null,
            "overflow_y": null,
            "padding": null,
            "right": null,
            "top": null,
            "visibility": null,
            "width": null
          }
        },
        "309605a03c4741d6831112b37998b118": {
          "model_module": "@jupyter-widgets/controls",
          "model_name": "DescriptionStyleModel",
          "model_module_version": "1.5.0",
          "state": {
            "_model_module": "@jupyter-widgets/controls",
            "_model_module_version": "1.5.0",
            "_model_name": "DescriptionStyleModel",
            "_view_count": null,
            "_view_module": "@jupyter-widgets/base",
            "_view_module_version": "1.2.0",
            "_view_name": "StyleView",
            "description_width": ""
          }
        },
        "d00ebc190e474195b2d1ca8f08af1d72": {
          "model_module": "@jupyter-widgets/base",
          "model_name": "LayoutModel",
          "model_module_version": "1.2.0",
          "state": {
            "_model_module": "@jupyter-widgets/base",
            "_model_module_version": "1.2.0",
            "_model_name": "LayoutModel",
            "_view_count": null,
            "_view_module": "@jupyter-widgets/base",
            "_view_module_version": "1.2.0",
            "_view_name": "LayoutView",
            "align_content": null,
            "align_items": null,
            "align_self": null,
            "border": null,
            "bottom": null,
            "display": null,
            "flex": null,
            "flex_flow": null,
            "grid_area": null,
            "grid_auto_columns": null,
            "grid_auto_flow": null,
            "grid_auto_rows": null,
            "grid_column": null,
            "grid_gap": null,
            "grid_row": null,
            "grid_template_areas": null,
            "grid_template_columns": null,
            "grid_template_rows": null,
            "height": null,
            "justify_content": null,
            "justify_items": null,
            "left": null,
            "margin": null,
            "max_height": null,
            "max_width": null,
            "min_height": null,
            "min_width": null,
            "object_fit": null,
            "object_position": null,
            "order": null,
            "overflow": null,
            "overflow_x": null,
            "overflow_y": null,
            "padding": null,
            "right": null,
            "top": null,
            "visibility": null,
            "width": null
          }
        },
        "df5e305d6f1f4eeca5380c74b7f5d10f": {
          "model_module": "@jupyter-widgets/controls",
          "model_name": "ProgressStyleModel",
          "model_module_version": "1.5.0",
          "state": {
            "_model_module": "@jupyter-widgets/controls",
            "_model_module_version": "1.5.0",
            "_model_name": "ProgressStyleModel",
            "_view_count": null,
            "_view_module": "@jupyter-widgets/base",
            "_view_module_version": "1.2.0",
            "_view_name": "StyleView",
            "bar_color": null,
            "description_width": ""
          }
        },
        "234db2247c1d499f967300c1b983a5f6": {
          "model_module": "@jupyter-widgets/base",
          "model_name": "LayoutModel",
          "model_module_version": "1.2.0",
          "state": {
            "_model_module": "@jupyter-widgets/base",
            "_model_module_version": "1.2.0",
            "_model_name": "LayoutModel",
            "_view_count": null,
            "_view_module": "@jupyter-widgets/base",
            "_view_module_version": "1.2.0",
            "_view_name": "LayoutView",
            "align_content": null,
            "align_items": null,
            "align_self": null,
            "border": null,
            "bottom": null,
            "display": null,
            "flex": null,
            "flex_flow": null,
            "grid_area": null,
            "grid_auto_columns": null,
            "grid_auto_flow": null,
            "grid_auto_rows": null,
            "grid_column": null,
            "grid_gap": null,
            "grid_row": null,
            "grid_template_areas": null,
            "grid_template_columns": null,
            "grid_template_rows": null,
            "height": null,
            "justify_content": null,
            "justify_items": null,
            "left": null,
            "margin": null,
            "max_height": null,
            "max_width": null,
            "min_height": null,
            "min_width": null,
            "object_fit": null,
            "object_position": null,
            "order": null,
            "overflow": null,
            "overflow_x": null,
            "overflow_y": null,
            "padding": null,
            "right": null,
            "top": null,
            "visibility": null,
            "width": null
          }
        },
        "b6e67549c14b4145a3ee403fcfa0d004": {
          "model_module": "@jupyter-widgets/controls",
          "model_name": "DescriptionStyleModel",
          "model_module_version": "1.5.0",
          "state": {
            "_model_module": "@jupyter-widgets/controls",
            "_model_module_version": "1.5.0",
            "_model_name": "DescriptionStyleModel",
            "_view_count": null,
            "_view_module": "@jupyter-widgets/base",
            "_view_module_version": "1.2.0",
            "_view_name": "StyleView",
            "description_width": ""
          }
        }
      }
    }
  },
  "cells": [
    {
      "cell_type": "markdown",
      "source": [
        "# Подключим все необходимые библиотеки\n",
        "Так как вся основная работа происходит в Google colab, то некотрые библиотеки могут быть не подгружены"
      ],
      "metadata": {
        "id": "Luh9OFANQu8U"
      }
    },
    {
      "cell_type": "code",
      "source": [
        "!pip install surprise"
      ],
      "metadata": {
        "colab": {
          "base_uri": "https://localhost:8080/"
        },
        "id": "DCCdpSKuEV_Y",
        "outputId": "a5fd11a9-bdc1-4819-e48f-c5c39633a537"
      },
      "execution_count": 2,
      "outputs": [
        {
          "output_type": "stream",
          "name": "stdout",
          "text": [
            "Requirement already satisfied: surprise in /usr/local/lib/python3.7/dist-packages (0.1)\n",
            "Requirement already satisfied: scikit-surprise in /usr/local/lib/python3.7/dist-packages (from surprise) (1.1.1)\n",
            "Requirement already satisfied: numpy>=1.11.2 in /usr/local/lib/python3.7/dist-packages (from scikit-surprise->surprise) (1.21.5)\n",
            "Requirement already satisfied: six>=1.10.0 in /usr/local/lib/python3.7/dist-packages (from scikit-surprise->surprise) (1.15.0)\n",
            "Requirement already satisfied: scipy>=1.0.0 in /usr/local/lib/python3.7/dist-packages (from scikit-surprise->surprise) (1.4.1)\n",
            "Requirement already satisfied: joblib>=0.11 in /usr/local/lib/python3.7/dist-packages (from scikit-surprise->surprise) (1.1.0)\n"
          ]
        }
      ]
    },
    {
      "cell_type": "code",
      "execution_count": 34,
      "metadata": {
        "colab": {
          "base_uri": "https://localhost:8080/",
          "height": 576
        },
        "id": "ltrJeZd7Qlw5",
        "outputId": "dffde64d-e426-4549-ddfc-2a168c0ab238"
      },
      "outputs": [
        {
          "output_type": "stream",
          "name": "stdout",
          "text": [
            "Collecting matplotlib==3.1.3\n",
            "  Downloading matplotlib-3.1.3-cp37-cp37m-manylinux1_x86_64.whl (13.1 MB)\n",
            "\u001b[K     |████████████████████████████████| 13.1 MB 4.8 MB/s \n",
            "\u001b[?25hRequirement already satisfied: kiwisolver>=1.0.1 in /usr/local/lib/python3.7/dist-packages (from matplotlib==3.1.3) (1.4.0)\n",
            "Requirement already satisfied: numpy>=1.11 in /usr/local/lib/python3.7/dist-packages (from matplotlib==3.1.3) (1.21.5)\n",
            "Requirement already satisfied: pyparsing!=2.0.4,!=2.1.2,!=2.1.6,>=2.0.1 in /usr/local/lib/python3.7/dist-packages (from matplotlib==3.1.3) (3.0.7)\n",
            "Requirement already satisfied: python-dateutil>=2.1 in /usr/local/lib/python3.7/dist-packages (from matplotlib==3.1.3) (2.8.2)\n",
            "Requirement already satisfied: cycler>=0.10 in /usr/local/lib/python3.7/dist-packages (from matplotlib==3.1.3) (0.11.0)\n",
            "Requirement already satisfied: typing-extensions in /usr/local/lib/python3.7/dist-packages (from kiwisolver>=1.0.1->matplotlib==3.1.3) (3.10.0.2)\n",
            "Requirement already satisfied: six>=1.5 in /usr/local/lib/python3.7/dist-packages (from python-dateutil>=2.1->matplotlib==3.1.3) (1.15.0)\n",
            "Installing collected packages: matplotlib\n",
            "  Attempting uninstall: matplotlib\n",
            "    Found existing installation: matplotlib 3.2.2\n",
            "    Uninstalling matplotlib-3.2.2:\n",
            "      Successfully uninstalled matplotlib-3.2.2\n",
            "\u001b[31mERROR: pip's dependency resolver does not currently take into account all the packages that are installed. This behaviour is the source of the following dependency conflicts.\n",
            "albumentations 0.1.12 requires imgaug<0.2.7,>=0.2.5, but you have imgaug 0.2.9 which is incompatible.\u001b[0m\n",
            "Successfully installed matplotlib-3.1.3\n"
          ]
        },
        {
          "output_type": "display_data",
          "data": {
            "application/vnd.colab-display-data+json": {
              "pip_warning": {
                "packages": [
                  "matplotlib",
                  "mpl_toolkits"
                ]
              }
            }
          },
          "metadata": {}
        },
        {
          "output_type": "stream",
          "name": "stdout",
          "text": [
            "Collecting implicit\n",
            "  Downloading implicit-0.5.2-cp37-cp37m-manylinux2014_x86_64.whl (18.5 MB)\n",
            "\u001b[K     |████████████████████████████████| 18.5 MB 443 kB/s \n",
            "\u001b[?25hRequirement already satisfied: scipy>=0.16 in /usr/local/lib/python3.7/dist-packages (from implicit) (1.4.1)\n",
            "Requirement already satisfied: numpy in /usr/local/lib/python3.7/dist-packages (from implicit) (1.21.5)\n",
            "Requirement already satisfied: tqdm>=4.27 in /usr/local/lib/python3.7/dist-packages (from implicit) (4.63.0)\n",
            "Installing collected packages: implicit\n",
            "Successfully installed implicit-0.5.2\n"
          ]
        }
      ],
      "source": [
        "!pip install matplotlib==3.1.3\n",
        "!pip install implicit "
      ]
    },
    {
      "cell_type": "code",
      "source": [
        "from google.colab import drive\n",
        "drive.mount('/content/drive')\n",
        "%cd /content/drive/MyDrive/Colab Notebooks/VK_test"
      ],
      "metadata": {
        "colab": {
          "base_uri": "https://localhost:8080/"
        },
        "id": "AnzTW5jRRImL",
        "outputId": "dac007c3-5b74-479a-8e98-9e8c7c019a47"
      },
      "execution_count": 3,
      "outputs": [
        {
          "output_type": "stream",
          "name": "stdout",
          "text": [
            "Drive already mounted at /content/drive; to attempt to forcibly remount, call drive.mount(\"/content/drive\", force_remount=True).\n",
            "/content/drive/MyDrive/Colab Notebooks/VK_test\n"
          ]
        }
      ]
    },
    {
      "cell_type": "markdown",
      "source": [
        "Подключим самые нужные библиотеки, так сказать, ЭТО БАЗА "
      ],
      "metadata": {
        "id": "EF169zazRTdH"
      }
    },
    {
      "cell_type": "code",
      "source": [
        "import numpy as np\n",
        "import pandas as pd"
      ],
      "metadata": {
        "id": "4X7D_D3BHXli"
      },
      "execution_count": 4,
      "outputs": []
    },
    {
      "cell_type": "code",
      "source": [
        "import seaborn as sns\n",
        "import matplotlib.pyplot as plt\n",
        "%matplotlib inline"
      ],
      "metadata": {
        "id": "3L5vzikSRNMJ"
      },
      "execution_count": 37,
      "outputs": []
    },
    {
      "cell_type": "code",
      "source": [
        "# установим фиксированный размер наших графиков\n",
        "from pylab import rcParams\n",
        "rcParams['figure.figsize'] = 10, 10"
      ],
      "metadata": {
        "id": "OmMb8KmaU4U7"
      },
      "execution_count": null,
      "outputs": []
    },
    {
      "cell_type": "code",
      "source": [
        "# для того, чтобы не засорять вывод предупреждениями\n",
        "import warnings\n",
        "warnings.filterwarnings('ignore')"
      ],
      "metadata": {
        "id": "RG8paOGxU60f"
      },
      "execution_count": null,
      "outputs": []
    },
    {
      "cell_type": "markdown",
      "source": [
        "Дальше пойдут сюрпризы"
      ],
      "metadata": {
        "id": "JCc_h573RnFh"
      }
    },
    {
      "cell_type": "code",
      "source": [
        "from sklearn.metrics.pairwise import cosine_similarity\n",
        "from sklearn.metrics import mean_squared_error\n",
        "from sklearn.model_selection import train_test_split\n",
        "from surprise import Reader, Dataset, KNNBasic\n",
        "from surprise.model_selection import cross_validate\n",
        "from surprise import SVD\n",
        "from surprise.prediction_algorithms.baseline_only import BaselineOnly\n",
        "from surprise.prediction_algorithms.co_clustering import CoClustering"
      ],
      "metadata": {
        "id": "fecUKElpRmrV"
      },
      "execution_count": 5,
      "outputs": []
    },
    {
      "cell_type": "markdown",
      "source": [
        "# Подгрузим необходимые датасеты и посмотрим на данные \n",
        "Будем проверять алгоритмы на small датасете, а финальные тесты будем проводить на large датасете. Нужно ещё убедиться корреллируют ли данные на двух датасетах (конечно они будут коррелировать, но проверить лишний раз нужно)"
      ],
      "metadata": {
        "id": "mkfZGv61RveZ"
      }
    },
    {
      "cell_type": "code",
      "source": [
        "data_large = pd.read_csv('rating.csv')"
      ],
      "metadata": {
        "id": "y4XErqsUGTft"
      },
      "execution_count": 39,
      "outputs": []
    },
    {
      "cell_type": "code",
      "source": [
        "data_small = pd.read_csv('Mini_dataset/ratings.csv')"
      ],
      "metadata": {
        "id": "ZGQ4i3NlST_N"
      },
      "execution_count": null,
      "outputs": []
    },
    {
      "cell_type": "code",
      "source": [
        "data_large['timestamp'] = pd.to_datetime(data_large['timestamp'], format=None)\n",
        "data_large['ts'] = data_large.timestamp.values.astype(np.int64) // 10 ** 9\n",
        "data_large = data_large.drop(columns='timestamp')\n",
        "data_large.rename(columns = {'ts' : 'timestamp'}, inplace = True) "
      ],
      "metadata": {
        "id": "rHm5Y78um7FB"
      },
      "execution_count": 40,
      "outputs": []
    },
    {
      "cell_type": "code",
      "source": [
        "print(data_small.head())\n",
        "print(data_large.head())"
      ],
      "metadata": {
        "colab": {
          "base_uri": "https://localhost:8080/"
        },
        "id": "5HR9ByZPSWxk",
        "outputId": "cc125dd0-48e5-4f14-9690-5025705265a0"
      },
      "execution_count": null,
      "outputs": [
        {
          "output_type": "stream",
          "name": "stdout",
          "text": [
            "   userId  movieId  rating  timestamp\n",
            "0       1        1     4.0  964982703\n",
            "1       1        3     4.0  964981247\n",
            "2       1        6     4.0  964982224\n",
            "3       1       47     5.0  964983815\n",
            "4       1       50     5.0  964982931\n",
            "   userId  movieId  rating   timestamp\n",
            "0       1        2     3.5  1112486027\n",
            "1       1       29     3.5  1112484676\n",
            "2       1       32     3.5  1112484819\n",
            "3       1       47     3.5  1112484727\n",
            "4       1       50     3.5  1112484580\n"
          ]
        }
      ]
    },
    {
      "cell_type": "code",
      "source": [
        "print(data_small.info())\n",
        "print(data_large.info())"
      ],
      "metadata": {
        "colab": {
          "base_uri": "https://localhost:8080/"
        },
        "id": "iuBH9wnKS5zf",
        "outputId": "0ad45a81-a7b2-4888-a48d-5a33aebc2fb8"
      },
      "execution_count": null,
      "outputs": [
        {
          "output_type": "stream",
          "name": "stdout",
          "text": [
            "<class 'pandas.core.frame.DataFrame'>\n",
            "RangeIndex: 100836 entries, 0 to 100835\n",
            "Data columns (total 4 columns):\n",
            " #   Column     Non-Null Count   Dtype  \n",
            "---  ------     --------------   -----  \n",
            " 0   userId     100836 non-null  int64  \n",
            " 1   movieId    100836 non-null  int64  \n",
            " 2   rating     100836 non-null  float64\n",
            " 3   timestamp  100836 non-null  int64  \n",
            "dtypes: float64(1), int64(3)\n",
            "memory usage: 3.1 MB\n",
            "None\n",
            "<class 'pandas.core.frame.DataFrame'>\n",
            "RangeIndex: 20000263 entries, 0 to 20000262\n",
            "Data columns (total 4 columns):\n",
            " #   Column     Dtype  \n",
            "---  ------     -----  \n",
            " 0   userId     int64  \n",
            " 1   movieId    int64  \n",
            " 2   rating     float64\n",
            " 3   timestamp  int64  \n",
            "dtypes: float64(1), int64(3)\n",
            "memory usage: 610.4 MB\n",
            "None\n"
          ]
        }
      ]
    },
    {
      "cell_type": "markdown",
      "source": [
        "Убедимся, что small и large датасеты кореллируют между собой "
      ],
      "metadata": {
        "id": "b6-3O74cI2-i"
      }
    },
    {
      "cell_type": "code",
      "source": [
        "data_large['rating'].describe()"
      ],
      "metadata": {
        "colab": {
          "base_uri": "https://localhost:8080/"
        },
        "id": "tkRIlX49TWQj",
        "outputId": "9a5f5d33-bb8c-4cf8-8379-497c53021c61"
      },
      "execution_count": null,
      "outputs": [
        {
          "output_type": "execute_result",
          "data": {
            "text/plain": [
              "count    2.000026e+07\n",
              "mean     3.525529e+00\n",
              "std      1.051989e+00\n",
              "min      5.000000e-01\n",
              "25%      3.000000e+00\n",
              "50%      3.500000e+00\n",
              "75%      4.000000e+00\n",
              "max      5.000000e+00\n",
              "Name: rating, dtype: float64"
            ]
          },
          "metadata": {},
          "execution_count": 11
        }
      ]
    },
    {
      "cell_type": "code",
      "source": [
        "data_small['rating'].describe()"
      ],
      "metadata": {
        "colab": {
          "base_uri": "https://localhost:8080/"
        },
        "id": "HIa_X_0uTHwR",
        "outputId": "46d2b97d-73ff-4f7f-c553-1b40834fae7f"
      },
      "execution_count": null,
      "outputs": [
        {
          "output_type": "execute_result",
          "data": {
            "text/plain": [
              "count    100836.000000\n",
              "mean          3.501557\n",
              "std           1.042529\n",
              "min           0.500000\n",
              "25%           3.000000\n",
              "50%           3.500000\n",
              "75%           4.000000\n",
              "max           5.000000\n",
              "Name: rating, dtype: float64"
            ]
          },
          "metadata": {},
          "execution_count": 12
        }
      ]
    },
    {
      "cell_type": "code",
      "source": [
        "fig, axes = plt.subplots(ncols=2, figsize=(20, 5))\n",
        "\n",
        "axes[0].hist(data_small['rating'], range=(0, 5), bins=10, alpha=0.5, color=\"orange\", edgecolor='black')\n",
        "axes[0].set(xlabel = 'Small_dataset')\n",
        "axes[1].hist(data_large['rating'], range=(0, 5), bins=10, alpha=0.5, color=\"orange\", edgecolor='black')\n",
        "axes[1].set(xlabel = 'large_dataset')"
      ],
      "metadata": {
        "colab": {
          "base_uri": "https://localhost:8080/",
          "height": 363
        },
        "id": "EsoLONuUVRPP",
        "outputId": "5c198785-0685-42cb-c132-ab3a0500acb7"
      },
      "execution_count": null,
      "outputs": [
        {
          "output_type": "execute_result",
          "data": {
            "text/plain": [
              "[Text(0.5, 0, 'large_dataset')]"
            ]
          },
          "metadata": {},
          "execution_count": 13
        },
        {
          "output_type": "display_data",
          "data": {
            "text/plain": [
              "<Figure size 1440x360 with 2 Axes>"
            ],
            "image/png": "[encoded data removed]"
          },
          "metadata": {
            "needs_background": "light"
          }
        }
      ]
    },
    {
      "cell_type": "markdown",
      "source": [
        "# Препроцессинг данных"
      ],
      "metadata": {
        "id": "11Dj41TZo-Ip"
      }
    },
    {
      "cell_type": "markdown",
      "source": [
        "Посмотрим на long_tail графики"
      ],
      "metadata": {
        "id": "65ly9dUYEZbr"
      }
    },
    {
      "cell_type": "code",
      "source": [
        "df = data_small.copy()\n",
        "item_id_column='movieId'\n",
        "volume_df = df[item_id_column].value_counts().reset_index()\n",
        "volume_df.columns = [item_id_column, \"volume\"]\n",
        "volume_df[item_id_column] = volume_df[item_id_column].astype(str)\n",
        "volume_df['cumulative_volume'] = volume_df['volume'].cumsum()\n",
        "volume_df['percent_of_total_volume'] = volume_df['cumulative_volume']/volume_df['volume'].sum()\n",
        "print(volume_df.iloc[int(len(volume_df)*0.2):int(len(volume_df)*0.2)+3, :])\n",
        "x=range(0,len(volume_df))\n",
        "ax = sns.lineplot(x, y='volume', data=volume_df, color=\"black\")\n",
        "ax.set_ylabel('Number of users')\n",
        "ax.set_xlabel(item_id_column)\n",
        "x1 = volume_df[item_id_column]\n",
        "y1 = volume_df['volume']\n",
        "ax.fill_between(x1, y1, color=\"blue\", alpha=0.3)\n",
        "plt.xticks([], [])\n",
        "ax.set(xticklabels=[])\n",
        "plt.show()"
      ],
      "metadata": {
        "colab": {
          "base_uri": "https://localhost:8080/",
          "height": 658
        },
        "id": "jxqvBCj8_syR",
        "outputId": "b16b14a9-7b72-4c9f-af1c-ca94c898e329"
      },
      "execution_count": null,
      "outputs": [
        {
          "output_type": "stream",
          "name": "stdout",
          "text": [
            "     movieId  volume  cumulative_volume  percent_of_total_volume\n",
            "1944    2739      12              77678                 0.770340\n",
            "1945     125      12              77690                 0.770459\n",
            "1946    2672      12              77702                 0.770578\n"
          ]
        },
        {
          "output_type": "display_data",
          "data": {
            "text/plain": [
              "<Figure size 720x720 with 1 Axes>"
            ],
            "image/png": "[encoded data removed]"
          },
          "metadata": {
            "needs_background": "light"
          }
        }
      ]
    },
    {
      "cell_type": "markdown",
      "source": [
        "Если мы исключим 80% фильмов из выборки, у которых оценок меньше чем 12, то примерно 77% данных о взаимодействиях у нас останется, но зато мы получим более сильную модель"
      ],
      "metadata": {
        "id": "UxLoSoliE0HJ"
      }
    },
    {
      "cell_type": "code",
      "source": [
        "data_small = data_small[~data_small['movieId'].isin(set(volume_df[volume_df['volume' ] < 12]['movieId'].astype(int)))]"
      ],
      "metadata": {
        "id": "gNCVps2GIo8P"
      },
      "execution_count": null,
      "outputs": []
    },
    {
      "cell_type": "code",
      "source": [
        "df = data_large.copy()\n",
        "item_id_column='movieId'\n",
        "volume_df = df[item_id_column].value_counts().reset_index()\n",
        "volume_df.columns = [item_id_column, \"volume\"]\n",
        "volume_df[item_id_column] = volume_df[item_id_column].astype(str)\n",
        "volume_df['cumulative_volume'] = volume_df['volume'].cumsum()\n",
        "volume_df['percent_of_total_volume'] = volume_df['cumulative_volume']/volume_df['volume'].sum()"
      ],
      "metadata": {
        "id": "sHBe0ql2HubL"
      },
      "execution_count": 41,
      "outputs": []
    },
    {
      "cell_type": "code",
      "source": [
        "print(volume_df.iloc[int(len(volume_df)*0.1):int(len(volume_df)*0.1)+3, :])\n",
        "x=range(0,len(volume_df))\n",
        "ax = sns.lineplot(x, y='volume', data=volume_df, color=\"black\")\n",
        "ax.set_ylabel('Number of users')\n",
        "ax.set_xlabel(item_id_column)\n",
        "x1 = volume_df[item_id_column]\n",
        "y1 = volume_df['volume']\n",
        "ax.fill_between(x1, y1, color=\"blue\", alpha=0.3)\n",
        "plt.xticks([], [])\n",
        "ax.set(xticklabels=[])\n",
        "plt.show()"
      ],
      "metadata": {
        "colab": {
          "base_uri": "https://localhost:8080/",
          "height": 388
        },
        "id": "pQfdmcoSMkK4",
        "outputId": "f0c4514d-911f-4b36-deeb-7ad07c6041c8"
      },
      "execution_count": 43,
      "outputs": [
        {
          "output_type": "stream",
          "name": "stdout",
          "text": [
            "     movieId  volume  cumulative_volume  percent_of_total_volume\n",
            "2674    8860    1306           17211678                 0.860573\n",
            "2675    2579    1305           17212983                 0.860638\n",
            "2676    5047    1305           17214288                 0.860703\n"
          ]
        },
        {
          "output_type": "stream",
          "name": "stderr",
          "text": [
            "/usr/local/lib/python3.7/dist-packages/seaborn/_decorators.py:43: FutureWarning: Pass the following variable as a keyword arg: x. From version 0.12, the only valid positional argument will be `data`, and passing other arguments without an explicit keyword will result in an error or misinterpretation.\n",
            "  FutureWarning\n"
          ]
        },
        {
          "output_type": "display_data",
          "data": {
            "text/plain": [
              "<Figure size 432x288 with 1 Axes>"
            ],
            "image/png": "[encoded data removed]"
          },
          "metadata": {
            "needs_background": "light"
          }
        }
      ]
    },
    {
      "cell_type": "markdown",
      "source": [
        "Исключим все фильмы, у которых оценком меньше, чем 1306, тогда у нас останется примерно 86% исходных данных"
      ],
      "metadata": {
        "id": "ImeDsUydwHkp"
      }
    },
    {
      "cell_type": "code",
      "source": [
        "data_large = data_large[~data_large['movieId'].isin(set(volume_df[volume_df['volume' ] < 1306]['movieId'].astype(int)))]"
      ],
      "metadata": {
        "id": "doThFnXUNIbE"
      },
      "execution_count": 8,
      "outputs": []
    },
    {
      "cell_type": "code",
      "source": [
        "del df\n",
        "del volume_df"
      ],
      "metadata": {
        "id": "_CgCzTPGJTCE"
      },
      "execution_count": 9,
      "outputs": []
    },
    {
      "cell_type": "markdown",
      "source": [
        "# Выбор метрики\n",
        "На одном стуле у нас квадратичные методы измерения ошибки, а на другом абсолютные, на какой пользователя посадим?\n",
        "Ясно, что квадратичные методы будут увеличивать нам ошибку за счёт квадратов, т.е. штраф за большие ошибки будет ещё больше, значит мы будем улучшать точность с помощью этой метрики, в то время как абсолютный метод даст нам среднее улучшение по всем предсказаниям. Если наша задача выбрать один фильм да такой, чтоб пользователь плакал от удовольствия, то логичнее будет использовать квадратичный метод - RMSE"
      ],
      "metadata": {
        "id": "H3hCN8qkSi1w"
      }
    },
    {
      "cell_type": "markdown",
      "source": [
        "# Подбор разбиения данных на train, valid, test\n",
        "Для начала нужно разделить данные на train и test, а потому уже на CV мы будем пилить train ещё и на valid.\n",
        "\n",
        "Есть несколько подходов к разделению: \n",
        "1. Leave One Last \n",
        "*   Leave One Last Item\n",
        "Удаляем последний item для юзера, чтобы дальше использовать на тесте. Возможен leak, не подойдёт для оценки гибридных алгоритмов, так как в будущем мы будем использовать информацию о предметах, что может также привести к leak-у\n",
        "*   Leave One Last Basket/Session\n",
        "Удаляем одну сессию у юзера, обычно используется для продуктовых корзин и пр. Нам не подойдёт\n",
        "\n",
        "2. Temporal User/Global Split (метод, основанный на разделении данных по времени)\n",
        "* Temporal User \n",
        "Удаляем долю последних item-ов юзера, в нашем случае последних просмотренных фильмов\n",
        "\n",
        "* Temporal Global\n",
        "Так как время одинаково для всех, то мы относительно определённой даты и времени разделяем выборку, возможно самый реалистичный вариант. Но возможно такое разбиение, после которого юзера не окажется в данных train-а \n",
        "3. Random Split\n",
        "Не будем использовать этот метод, так как он плохо воспроизводим и кажется, что разбиение относительно времени будет более реалистичным для данного датасета\n",
        "4. User Split\n",
        "Деление по юзерам, берём одно множество юзеров для трейна, а другое, не пересекающееся с первым, для теста. Нам не подойдёт, так как нужно использовать алгоритмы рассчитаные на холодный старт. \n",
        "\n"
      ],
      "metadata": {
        "id": "l1Bz4ub2Qdlo"
      }
    },
    {
      "cell_type": "markdown",
      "source": [
        "## Проверяем возможность разбиения Temporal Global"
      ],
      "metadata": {
        "id": "Si0CXf7ExwLq"
      }
    },
    {
      "cell_type": "code",
      "source": [
        "large_sorted = data_large.sort_values('timestamp')"
      ],
      "metadata": {
        "id": "IzBuKCZotiCy"
      },
      "execution_count": null,
      "outputs": []
    },
    {
      "cell_type": "code",
      "source": [
        "train_percent = 0.7\n",
        "train_index = int(len(large_sorted)*train_percent)"
      ],
      "metadata": {
        "id": "ys81_cH_urHI"
      },
      "execution_count": null,
      "outputs": []
    },
    {
      "cell_type": "code",
      "source": [
        "X_test = large_sorted.iloc[:train_index, :]\n",
        "X_train = large_sorted.iloc[train_index:, :]\n",
        "print(np.sort(X_test['userId'].unique()), '\\n', np.sort(X_train['userId'].unique()))\n",
        "set_test = set(X_test['userId'].unique())\n",
        "set_train = set(X_train['userId'].unique())\n",
        "print('-'*100)\n",
        "print('Количество юзеров в трейне: ', len(X_train['userId'].unique()))\n",
        "print('Количество юзеров в тестовой выборке: ', len(X_test['userId'].unique()))\n",
        "print('Количество юзеоров, которых нет в тестовой выборке: ', len(set_train - set_test))\n",
        "print('Количество юзеров количество юзеров в пересечении тестовой и трейновой выборки: ', len(set_train & set_test))"
      ],
      "metadata": {
        "colab": {
          "base_uri": "https://localhost:8080/"
        },
        "id": "XAUrG37-uIV3",
        "outputId": "370961b9-bdf1-4d48-e728-92a98b501e7a"
      },
      "execution_count": null,
      "outputs": [
        {
          "output_type": "stream",
          "name": "stdout",
          "text": [
            "[     1      2      3 ... 138488 138490 138492] \n",
            " [    11     14     18 ... 138489 138491 138493]\n",
            "----------------------------------------------------------------------------------------------------\n",
            "Количество юзеров в трейне:  45254\n",
            "Количество юзеров в тестовой выборке:  98400\n",
            "Количество юзеоров, которых нет в тестовой выборке:  40093\n",
            "Количество юзеров количество юзеров в пересечении тестовой и трейновой выборки:  5161\n"
          ]
        }
      ]
    },
    {
      "cell_type": "markdown",
      "source": [
        "Выборки получаются довольно несбалансированные, фактически нам нужно будет использовать алгоритмы рассчитанные на холодный старт, чтобы пользоваться таким разбиением"
      ],
      "metadata": {
        "id": "AVqjEWzyZOqF"
      }
    },
    {
      "cell_type": "markdown",
      "source": [
        "# Сделаем разбиение Temporal User \n",
        "Так как предыдущее разбиение нам не подошло, то будем разбивать выборку относительно времени по юзерам"
      ],
      "metadata": {
        "id": "gkXqPExHZyp3"
      }
    },
    {
      "cell_type": "code",
      "source": [
        "film_train_percent = 0.7\n",
        "X_train = pd.DataFrame()\n",
        "X_test = pd.DataFrame()"
      ],
      "metadata": {
        "id": "__hmbP1_oNu9"
      },
      "execution_count": 10,
      "outputs": []
    },
    {
      "cell_type": "code",
      "source": [
        "def fnc(x):\n",
        "    l = len(x)\n",
        "    pivot = int(l*film_train_percent)\n",
        "    return [True,]*pivot + [False,]*(l-pivot)"
      ],
      "metadata": {
        "id": "gwthc51O5dTo"
      },
      "execution_count": 11,
      "outputs": []
    },
    {
      "cell_type": "code",
      "source": [
        "tmp = data_large.sort_values(['userId','timestamp']).groupby('userId')['timestamp']\n",
        "large_sorted = data_large.assign(is_train=tmp.transform(fnc))"
      ],
      "metadata": {
        "id": "DlyP6RaB5iss"
      },
      "execution_count": 12,
      "outputs": []
    },
    {
      "cell_type": "code",
      "source": [
        "X_train = large_sorted[large_sorted['is_train']]\n",
        "X_test = large_sorted[~(large_sorted['is_train'])]\n",
        "\n",
        "X_train = X_train.drop(columns=['timestamp', 'is_train'])\n",
        "X_test = X_test.drop(columns=['timestamp', 'is_train'])"
      ],
      "metadata": {
        "id": "sL66Wc_e6OzH"
      },
      "execution_count": 13,
      "outputs": []
    },
    {
      "cell_type": "code",
      "source": [
        "del tmp\n",
        "del large_sorted"
      ],
      "metadata": {
        "id": "xJ5uZfKqJe5l"
      },
      "execution_count": 14,
      "outputs": []
    },
    {
      "cell_type": "code",
      "source": [
        "# Это лучше никогда не трогать\n",
        "# large_sorted = data_large.set_index('userId')\n",
        "# large_sorted = large_sorted[['timestamp', 'movieId', 'rating']]\n",
        "# large_sorted = large_sorted.sort_values(['userId','timestamp'])\n",
        "# for i in set(large_sorted.index):\n",
        "#   userById = large_sorted.loc[i, :]\n",
        "#   X_train = X_train.append(userById.iloc[:int(userById.shape[0]*film_train_percent)])\n",
        "#   X_test = X_test.append(userById.iloc[int(userById.shape[0]*film_train_percent):])"
      ],
      "metadata": {
        "id": "wlsRJFKS6g-g"
      },
      "execution_count": null,
      "outputs": []
    },
    {
      "cell_type": "markdown",
      "source": [
        "И для small датасета"
      ],
      "metadata": {
        "id": "HngmfZdk3HGo"
      }
    },
    {
      "cell_type": "code",
      "source": [
        "film_train_percent = 0.7\n",
        "small_train = pd.DataFrame()\n",
        "small_test = pd.DataFrame()\n",
        "small_sorted = data_small.sort_values('timestamp')"
      ],
      "metadata": {
        "id": "QHp75Ie83LSB"
      },
      "execution_count": null,
      "outputs": []
    },
    {
      "cell_type": "code",
      "source": [
        "for i in small_sorted['userId'].unique():\n",
        "  user_id_data = small_sorted[small_sorted['userId'] == i]\n",
        "  user_id_data.sort_values('timestamp')\n",
        "  film_cnt = len(user_id_data)\n",
        "  pivot = 1 if film_cnt == 1 else int(film_cnt*film_train_percent)\n",
        "  small_train = small_train.append(user_id_data.iloc[:pivot, :])\n",
        "  small_test = small_test.append(user_id_data.iloc[pivot:, :])"
      ],
      "metadata": {
        "id": "XpYEFWjz3VcZ"
      },
      "execution_count": null,
      "outputs": []
    },
    {
      "cell_type": "markdown",
      "source": [
        "Также попробуем случайное разбиение \n"
      ],
      "metadata": {
        "id": "u4NLa6ZjtdxA"
      }
    },
    {
      "cell_type": "code",
      "source": [
        "random_train, random_test, Yrandom_train, Yrandom_test = train_test_split(data_small, data_small['userId'], test_size = 0.3, stratify=data_small['userId'], shuffle=True)"
      ],
      "metadata": {
        "id": "tC-VfF1TSJJH"
      },
      "execution_count": null,
      "outputs": []
    },
    {
      "cell_type": "markdown",
      "source": [
        "# Сделаем стандартизацию данных \n",
        "Так как далее будет использован алгоритм коллабаративной фильтрации(CF) на основе kNN, то нужно бы превести данные к нормальному распределению "
      ],
      "metadata": {
        "id": "_ig49yr3J56L"
      }
    },
    {
      "cell_type": "code",
      "source": [
        "from sklearn.preprocessing import StandardScaler\n",
        "\n",
        "scaler_small = StandardScaler()\n",
        "scaler_small.fit(np.array(small_train['rating']).reshape(-1, 1))\n",
        "\n",
        "scaler_random = StandardScaler()\n",
        "scaler_random.fit(np.array(random_train['rating']).reshape(-1, 1))"
      ],
      "metadata": {
        "colab": {
          "base_uri": "https://localhost:8080/"
        },
        "id": "huyi15TFLyYS",
        "outputId": "57c014b0-ecc1-47c6-b3f0-72b2658cd1f4"
      },
      "execution_count": null,
      "outputs": [
        {
          "output_type": "execute_result",
          "data": {
            "text/plain": [
              "StandardScaler()"
            ]
          },
          "metadata": {},
          "execution_count": 58
        }
      ]
    },
    {
      "cell_type": "code",
      "source": [
        "from sklearn.preprocessing import StandardScaler\n",
        "\n",
        "scaler_large = StandardScaler()\n",
        "scaler_large.fit(np.array(X_train['rating']).reshape(-1, 1))"
      ],
      "metadata": {
        "colab": {
          "base_uri": "https://localhost:8080/"
        },
        "id": "6frySksuGkTU",
        "outputId": "a8a03402-5c5c-43dc-b2aa-b95795650d5c"
      },
      "execution_count": 15,
      "outputs": [
        {
          "output_type": "execute_result",
          "data": {
            "text/plain": [
              "StandardScaler()"
            ]
          },
          "metadata": {},
          "execution_count": 15
        }
      ]
    },
    {
      "cell_type": "code",
      "source": [
        "transformed_large_train = scaler_large.transform(np.array(X_train['rating']).reshape(-1, 1))\n",
        "transformed_large_test = scaler_large.transform(np.array(X_test['rating']).reshape(-1, 1))"
      ],
      "metadata": {
        "id": "EGL_PqX3Gnss"
      },
      "execution_count": 16,
      "outputs": []
    },
    {
      "cell_type": "code",
      "source": [
        "transformed_small_train = scaler_small.transform(np.array(small_train['rating']).reshape(-1, 1))\n",
        "transformed_random_train = scaler_random.transform(np.array(random_train['rating']).reshape(-1, 1))\n",
        "\n",
        "transformed_small_test= scaler_small.transform(np.array(small_test['rating']).reshape(-1, 1))\n",
        "transformed_random_test = scaler_random.transform(np.array(random_test['rating']).reshape(-1, 1))"
      ],
      "metadata": {
        "id": "nyZm6riBNTQ3"
      },
      "execution_count": null,
      "outputs": []
    },
    {
      "cell_type": "markdown",
      "source": [
        "# SVD, kNN, CoClustering FC \n",
        "С датасетом TemporalUser small"
      ],
      "metadata": {
        "id": "BpLdxkEGEpgh"
      }
    },
    {
      "cell_type": "code",
      "source": [
        "from surprise.accuracy import rmse"
      ],
      "metadata": {
        "id": "GV7TdZRe_mZR"
      },
      "execution_count": null,
      "outputs": []
    },
    {
      "cell_type": "code",
      "source": [
        "X = small_train.copy()\n",
        "X['rating'] = transformed_small_train\n",
        "ratings = X.drop(columns='timestamp')\n",
        "\n",
        "y = small_test.copy()\n",
        "y['rating'] = transformed_small_test\n",
        "y = y.drop(columns='timestamp')\n",
        "\n",
        "reader = Reader(line_format='user item rating', rating_scale=(-4,2))\n",
        "formed_ratings = Dataset.load_from_df(ratings, reader)\n",
        "train = formed_ratings.build_full_trainset()\n",
        "\n",
        "reader = Reader(line_format='user item rating', rating_scale=(-4,2))\n",
        "test = Dataset.load_from_df(y, reader)\n",
        "test = test.build_full_trainset()\n",
        "test = test.build_testset()"
      ],
      "metadata": {
        "id": "R7jQQCExOwKX"
      },
      "execution_count": null,
      "outputs": []
    },
    {
      "cell_type": "code",
      "source": [
        "baseline = BaselineOnly()\n",
        "kNN = KNNBasic()\n",
        "svd = SVD(n_factors=50, n_epochs=30)\n",
        "coCluster = CoClustering()\n",
        "\n",
        "baseline.fit(train)\n",
        "kNN.fit(train)\n",
        "svd.fit(train)\n",
        "coCluster.fit(train)\n",
        "\n",
        "print(rmse(baseline.test(test)), rmse(kNN.test(test)), rmse(svd.test(test)),\n",
        "      rmse(coCluster.test(test)))"
      ],
      "metadata": {
        "colab": {
          "base_uri": "https://localhost:8080/"
        },
        "id": "IYXT_3DGaQRH",
        "outputId": "898bb2c1-a016-48f5-e4dd-aa83f65133d4"
      },
      "execution_count": null,
      "outputs": [
        {
          "output_type": "stream",
          "name": "stdout",
          "text": [
            "Estimating biases using als...\n",
            "Computing the msd similarity matrix...\n",
            "Done computing similarity matrix.\n",
            "RMSE: 0.8624\n",
            "RMSE: 0.9220\n",
            "RMSE: 0.8636\n",
            "RMSE: 0.8992\n",
            "0.8624493633156017 0.9219662386833217 0.863641580877668 0.8991795061607294\n"
          ]
        }
      ]
    },
    {
      "cell_type": "code",
      "source": [
        "baseline = BaselineOnly()\n",
        "kNN = KNNBasic()\n",
        "svd = SVD(n_factors=50, n_epochs=30)\n",
        "coCluster = CoClustering()\n",
        "\n",
        "# Попробуем сделать просто кросс-валидацию\n",
        "\n",
        "print(cross_validate(baseline, formed_ratings, measures=['RMSE'], cv = 2, verbose=True))\n",
        "print(cross_validate(kNN, formed_ratings, measures=['RMSE'], cv = 2, verbose=True))\n",
        "print(cross_validate(svd, formed_ratings, measures=['RMSE'], cv = 2, verbose=True))\n",
        "print(cross_validate(coCluster, formed_ratings, measures=['RMSE'], cv = 2, verbose=True))"
      ],
      "metadata": {
        "colab": {
          "base_uri": "https://localhost:8080/"
        },
        "id": "6b7K6UhCSF9j",
        "outputId": "8709f46e-d375-4a7b-e785-a376c2a61545"
      },
      "execution_count": null,
      "outputs": [
        {
          "output_type": "stream",
          "name": "stdout",
          "text": [
            "Estimating biases using als...\n",
            "Estimating biases using als...\n",
            "Evaluating RMSE of algorithm BaselineOnly on 2 split(s).\n",
            "\n",
            "                  Fold 1  Fold 2  Mean    Std     \n",
            "RMSE (testset)    0.8559  0.8583  0.8571  0.0012  \n",
            "Fit time          0.12    0.12    0.12    0.00    \n",
            "Test time         0.16    0.15    0.15    0.00    \n",
            "{'test_rmse': array([0.85591937, 0.85834612]), 'fit_time': (0.11705565452575684, 0.12269306182861328), 'test_time': (0.15674281120300293, 0.1487877368927002)}\n",
            "Computing the msd similarity matrix...\n",
            "Done computing similarity matrix.\n",
            "Computing the msd similarity matrix...\n",
            "Done computing similarity matrix.\n",
            "Evaluating RMSE of algorithm KNNBasic on 2 split(s).\n",
            "\n",
            "                  Fold 1  Fold 2  Mean    Std     \n",
            "RMSE (testset)    0.9221  0.9262  0.9241  0.0021  \n",
            "Fit time          0.05    0.06    0.06    0.00    \n",
            "Test time         1.56    1.51    1.54    0.02    \n",
            "{'test_rmse': array([0.92208454, 0.92620759]), 'fit_time': (0.05414438247680664, 0.06017732620239258), 'test_time': (1.5567259788513184, 1.5148835182189941)}\n",
            "Evaluating RMSE of algorithm SVD on 2 split(s).\n",
            "\n",
            "                  Fold 1  Fold 2  Mean    Std     \n",
            "RMSE (testset)    0.8569  0.8603  0.8586  0.0017  \n",
            "Fit time          1.63    1.64    1.64    0.01    \n",
            "Test time         0.24    0.32    0.28    0.04    \n",
            "{'test_rmse': array([0.8568925 , 0.86034336]), 'fit_time': (1.6288082599639893, 1.6431801319122314), 'test_time': (0.2421708106994629, 0.32189154624938965)}\n",
            "Evaluating RMSE of algorithm CoClustering on 2 split(s).\n",
            "\n",
            "                  Fold 1  Fold 2  Mean    Std     \n",
            "RMSE (testset)    0.8895  0.9004  0.8950  0.0054  \n",
            "Fit time          1.01    1.01    1.01    0.00    \n",
            "Test time         0.55    0.14    0.35    0.21    \n",
            "{'test_rmse': array([0.88954822, 0.90039453]), 'fit_time': (1.0065398216247559, 1.0135705471038818), 'test_time': (0.553783655166626, 0.1393568515777588)}\n"
          ]
        }
      ]
    },
    {
      "cell_type": "markdown",
      "source": [
        "# Implicit-ALS\n"
      ],
      "metadata": {
        "id": "cFIgEKPlb_FR"
      }
    },
    {
      "cell_type": "code",
      "source": [
        "!pip install nmslib"
      ],
      "metadata": {
        "colab": {
          "base_uri": "https://localhost:8080/"
        },
        "id": "md9gqDOteKSf",
        "outputId": "f9e9eada-3397-4f0b-a03a-54c4e94bb397"
      },
      "execution_count": null,
      "outputs": [
        {
          "output_type": "stream",
          "name": "stdout",
          "text": [
            "Collecting nmslib\n",
            "  Downloading nmslib-2.1.1-cp37-cp37m-manylinux2010_x86_64.whl (13.5 MB)\n",
            "\u001b[K     |████████████████████████████████| 13.5 MB 5.5 MB/s \n",
            "\u001b[?25hCollecting pybind11<2.6.2\n",
            "  Downloading pybind11-2.6.1-py2.py3-none-any.whl (188 kB)\n",
            "\u001b[K     |████████████████████████████████| 188 kB 50.2 MB/s \n",
            "\u001b[?25hRequirement already satisfied: psutil in /usr/local/lib/python3.7/dist-packages (from nmslib) (5.4.8)\n",
            "Requirement already satisfied: numpy>=1.10.0 in /usr/local/lib/python3.7/dist-packages (from nmslib) (1.21.5)\n",
            "Installing collected packages: pybind11, nmslib\n",
            "Successfully installed nmslib-2.1.1 pybind11-2.6.1\n"
          ]
        }
      ]
    },
    {
      "cell_type": "code",
      "source": [
        "import scipy.sparse as sparse\n",
        "import implicit\n",
        "from implicit.als import AlternatingLeastSquares\n",
        "from sklearn.metrics import mean_squared_error\n",
        "\n",
        "sparse_user_item_FILMS = sparse.csr_matrix((X['rating'].astype(float), (X['userId'], X['movieId'])))\n",
        "ALS = AlternatingLeastSquares(factors=10, regularization=0.1, iterations=20, random_state=42)\n",
        "\n",
        "alpha_val = 19\n",
        "data_conf = (sparse_user_item_FILMS * alpha_val).astype('double')"
      ],
      "metadata": {
        "id": "WSXywN0WcNdR"
      },
      "execution_count": null,
      "outputs": []
    },
    {
      "cell_type": "code",
      "source": [
        "ALS.fit(data_conf)"
      ],
      "metadata": {
        "id": "dypX0hWTcLue",
        "colab": {
          "base_uri": "https://localhost:8080/",
          "height": 49,
          "referenced_widgets": [
            "eaed7be0402a4e02a8132736d724ae07",
            "423f39f00a01465990eb8c5149c92d06",
            "3b04b543d2244a22804f44b4c74d28c6",
            "9ee909e4c7c34c58bdf741de496aab24",
            "e3c3e24a822047c281eaf1c33bb7baf4",
            "a69adb00eb6b483ea945191e12a20495",
            "309605a03c4741d6831112b37998b118",
            "d00ebc190e474195b2d1ca8f08af1d72",
            "df5e305d6f1f4eeca5380c74b7f5d10f",
            "234db2247c1d499f967300c1b983a5f6",
            "b6e67549c14b4145a3ee403fcfa0d004"
          ]
        },
        "outputId": "b520c042-8119-410d-e34f-7c11c50b7ac2"
      },
      "execution_count": null,
      "outputs": [
        {
          "output_type": "display_data",
          "data": {
            "text/plain": [
              "  0%|          | 0/20 [00:00<?, ?it/s]"
            ],
            "application/vnd.jupyter.widget-view+json": {
              "version_major": 2,
              "version_minor": 0,
              "model_id": "eaed7be0402a4e02a8132736d724ae07"
            }
          },
          "metadata": {}
        }
      ]
    },
    {
      "cell_type": "code",
      "source": [
        "ALS_MATR = np.matmul(ALS.user_factors, ALS.item_factors.T)\n",
        "test = y.copy()\n",
        "test.insert(loc=2, column='predRatin', value=0.0)\n",
        "\n",
        "for i in range(len(test)):\n",
        "  test.iloc[i, 2] = ALS_MATR[test.iloc[i, 0].astype('int'), test.iloc[i, 1].astype('int')]"
      ],
      "metadata": {
        "id": "foFEAcYS47Xg"
      },
      "execution_count": null,
      "outputs": []
    },
    {
      "cell_type": "code",
      "source": [
        "print('RMSE:', np.sqrt(mean_squared_error(test['rating'], test['predRatin'])))"
      ],
      "metadata": {
        "colab": {
          "base_uri": "https://localhost:8080/"
        },
        "id": "a-PiZ3CCWSrY",
        "outputId": "9f2b6c6c-eef4-4b7e-e287-0453f0ec037b"
      },
      "execution_count": null,
      "outputs": [
        {
          "output_type": "stream",
          "name": "stdout",
          "text": [
            "RMSE: 0.9954158051875825\n"
          ]
        }
      ]
    },
    {
      "cell_type": "markdown",
      "source": [
        "# LightFM\n"
      ],
      "metadata": {
        "id": "Y2IURj_sm4uC"
      }
    },
    {
      "cell_type": "code",
      "source": [
        "!pip install lightfm\n",
        "\n",
        "from lightfm import LightFM\n",
        "from lightfm.evaluation import precision_at_k\n",
        "from lightfm.evaluation import auc_score"
      ],
      "metadata": {
        "id": "BZR0SAsNn-ka",
        "colab": {
          "base_uri": "https://localhost:8080/"
        },
        "outputId": "8403463f-b841-4a09-bc90-3fb33e791f16"
      },
      "execution_count": null,
      "outputs": [
        {
          "output_type": "stream",
          "name": "stdout",
          "text": [
            "Collecting lightfm\n",
            "  Downloading lightfm-1.16.tar.gz (310 kB)\n",
            "\u001b[K     |████████████████████████████████| 310 kB 5.0 MB/s \n",
            "\u001b[?25hRequirement already satisfied: numpy in /usr/local/lib/python3.7/dist-packages (from lightfm) (1.21.5)\n",
            "Requirement already satisfied: scipy>=0.17.0 in /usr/local/lib/python3.7/dist-packages (from lightfm) (1.4.1)\n",
            "Requirement already satisfied: requests in /usr/local/lib/python3.7/dist-packages (from lightfm) (2.23.0)\n",
            "Requirement already satisfied: scikit-learn in /usr/local/lib/python3.7/dist-packages (from lightfm) (1.0.2)\n",
            "Requirement already satisfied: chardet<4,>=3.0.2 in /usr/local/lib/python3.7/dist-packages (from requests->lightfm) (3.0.4)\n",
            "Requirement already satisfied: urllib3!=1.25.0,!=1.25.1,<1.26,>=1.21.1 in /usr/local/lib/python3.7/dist-packages (from requests->lightfm) (1.24.3)\n",
            "Requirement already satisfied: certifi>=2017.4.17 in /usr/local/lib/python3.7/dist-packages (from requests->lightfm) (2021.10.8)\n",
            "Requirement already satisfied: idna<3,>=2.5 in /usr/local/lib/python3.7/dist-packages (from requests->lightfm) (2.10)\n",
            "Requirement already satisfied: joblib>=0.11 in /usr/local/lib/python3.7/dist-packages (from scikit-learn->lightfm) (1.1.0)\n",
            "Requirement already satisfied: threadpoolctl>=2.0.0 in /usr/local/lib/python3.7/dist-packages (from scikit-learn->lightfm) (3.1.0)\n",
            "Building wheels for collected packages: lightfm\n",
            "  Building wheel for lightfm (setup.py) ... \u001b[?25l\u001b[?25hdone\n",
            "  Created wheel for lightfm: filename=lightfm-1.16-cp37-cp37m-linux_x86_64.whl size=705356 sha256=b6996cd7e73aa226e4bc1b50d56c5a39e9315db81e12fba8f8179ea40119a92d\n",
            "  Stored in directory: /root/.cache/pip/wheels/f8/56/28/5772a3bd3413d65f03aa452190b00898b680b10028a1021914\n",
            "Successfully built lightfm\n",
            "Installing collected packages: lightfm\n",
            "Successfully installed lightfm-1.16\n"
          ]
        }
      ]
    },
    {
      "cell_type": "markdown",
      "source": [
        "## Подгрузим данные и обработаем их"
      ],
      "metadata": {
        "id": "VoIfB-r7t_kD"
      }
    },
    {
      "cell_type": "code",
      "source": [
        "movie_for_ind = pd.read_csv('Mini_dataset/movies.csv')\n",
        "indexes = movie_for_ind['movieId']\n",
        "movie = pd.read_csv('Mini_dataset/movies.csv', index_col = 'movieId')\n",
        "movie['year'] = movie['title'].str.extract('.*\\((.*)\\).*',expand = False)\n",
        "\n",
        "genres = set()\n",
        "for s in movie['genres'].str.split('|').values:\n",
        "    genres = genres.union(set(s))\n",
        "\n",
        "for i in genres:\n",
        "  movie.insert(3, column=i, value=0)"
      ],
      "metadata": {
        "id": "izprm8sKuH0r"
      },
      "execution_count": null,
      "outputs": []
    },
    {
      "cell_type": "code",
      "source": [
        "for i in indexes:\n",
        "  for g in movie.loc[i, 'genres'].split('|'):\n",
        "    movie.loc[i, str(g)] = 1\n",
        "movie = movie.drop(columns=['title', 'genres', 'year'])"
      ],
      "metadata": {
        "id": "h_R-Zl2qeqFz"
      },
      "execution_count": null,
      "outputs": []
    },
    {
      "cell_type": "code",
      "source": [
        "df_cols = movie.columns"
      ],
      "metadata": {
        "id": "QAEUpYAKkJ66"
      },
      "execution_count": null,
      "outputs": []
    },
    {
      "cell_type": "code",
      "source": [
        "dict_ganres = { value: i for i, value in enumerate(df_cols) }"
      ],
      "metadata": {
        "id": "aY0bWAsLkt-P"
      },
      "execution_count": null,
      "outputs": []
    },
    {
      "cell_type": "code",
      "source": [
        "g_df = pd.DataFrame(columns=['movieId', 'genreId', 'interaction'])\n",
        "\n",
        "for id, value in movie.iterrows():\n",
        "  for k, i in enumerate(value):\n",
        "    if i != 0:\n",
        "      g_df = g_df.append({'movieId':id ,'genreId':k ,'interaction':i}, ignore_index=True)\n",
        "g_df "
      ],
      "metadata": {
        "id": "gww3H0HNkmDx",
        "colab": {
          "base_uri": "https://localhost:8080/",
          "height": 424
        },
        "outputId": "9ee293e5-7b7c-4836-d5ba-e086e0174d65"
      },
      "execution_count": null,
      "outputs": [
        {
          "output_type": "execute_result",
          "data": {
            "text/plain": [
              "      movieId genreId interaction\n",
              "0           1       6           1\n",
              "1           1       8           1\n",
              "2           1      12           1\n",
              "3           1      17           1\n",
              "4           1      19           1\n",
              "...       ...     ...         ...\n",
              "22079  193583      19           1\n",
              "22080  193585       5           1\n",
              "22081  193587      10           1\n",
              "22082  193587      12           1\n",
              "22083  193609      19           1\n",
              "\n",
              "[22084 rows x 3 columns]"
            ],
            "text/html": [
              "\n",
              "  <div id=\"df-84d1d9e3-c98e-439b-8d9a-c97dcda9e887\">\n",
              "    <div class=\"colab-df-container\">\n",
              "      <div>\n",
              "<style scoped>\n",
              "    .dataframe tbody tr th:only-of-type {\n",
              "        vertical-align: middle;\n",
              "    }\n",
              "\n",
              "    .dataframe tbody tr th {\n",
              "        vertical-align: top;\n",
              "    }\n",
              "\n",
              "    .dataframe thead th {\n",
              "        text-align: right;\n",
              "    }\n",
              "</style>\n",
              "<table border=\"1\" class=\"dataframe\">\n",
              "  <thead>\n",
              "    <tr style=\"text-align: right;\">\n",
              "      <th></th>\n",
              "      <th>movieId</th>\n",
              "      <th>genreId</th>\n",
              "      <th>interaction</th>\n",
              "    </tr>\n",
              "  </thead>\n",
              "  <tbody>\n",
              "    <tr>\n",
              "      <th>0</th>\n",
              "      <td>1</td>\n",
              "      <td>6</td>\n",
              "      <td>1</td>\n",
              "    </tr>\n",
              "    <tr>\n",
              "      <th>1</th>\n",
              "      <td>1</td>\n",
              "      <td>8</td>\n",
              "      <td>1</td>\n",
              "    </tr>\n",
              "    <tr>\n",
              "      <th>2</th>\n",
              "      <td>1</td>\n",
              "      <td>12</td>\n",
              "      <td>1</td>\n",
              "    </tr>\n",
              "    <tr>\n",
              "      <th>3</th>\n",
              "      <td>1</td>\n",
              "      <td>17</td>\n",
              "      <td>1</td>\n",
              "    </tr>\n",
              "    <tr>\n",
              "      <th>4</th>\n",
              "      <td>1</td>\n",
              "      <td>19</td>\n",
              "      <td>1</td>\n",
              "    </tr>\n",
              "    <tr>\n",
              "      <th>...</th>\n",
              "      <td>...</td>\n",
              "      <td>...</td>\n",
              "      <td>...</td>\n",
              "    </tr>\n",
              "    <tr>\n",
              "      <th>22079</th>\n",
              "      <td>193583</td>\n",
              "      <td>19</td>\n",
              "      <td>1</td>\n",
              "    </tr>\n",
              "    <tr>\n",
              "      <th>22080</th>\n",
              "      <td>193585</td>\n",
              "      <td>5</td>\n",
              "      <td>1</td>\n",
              "    </tr>\n",
              "    <tr>\n",
              "      <th>22081</th>\n",
              "      <td>193587</td>\n",
              "      <td>10</td>\n",
              "      <td>1</td>\n",
              "    </tr>\n",
              "    <tr>\n",
              "      <th>22082</th>\n",
              "      <td>193587</td>\n",
              "      <td>12</td>\n",
              "      <td>1</td>\n",
              "    </tr>\n",
              "    <tr>\n",
              "      <th>22083</th>\n",
              "      <td>193609</td>\n",
              "      <td>19</td>\n",
              "      <td>1</td>\n",
              "    </tr>\n",
              "  </tbody>\n",
              "</table>\n",
              "<p>22084 rows × 3 columns</p>\n",
              "</div>\n",
              "      <button class=\"colab-df-convert\" onclick=\"convertToInteractive('df-84d1d9e3-c98e-439b-8d9a-c97dcda9e887')\"\n",
              "              title=\"Convert this dataframe to an interactive table.\"\n",
              "              style=\"display:none;\">\n",
              "        \n",
              "  <svg xmlns=\"http://www.w3.org/2000/svg\" height=\"24px\"viewBox=\"0 0 24 24\"\n",
              "       width=\"24px\">\n",
              "    <path d=\"M0 0h24v24H0V0z\" fill=\"none\"/>\n",
              "    <path d=\"M18.56 5.44l.94 2.06.94-2.06 2.06-.94-2.06-.94-.94-2.06-.94 2.06-2.06.94zm-11 1L8.5 8.5l.94-2.06 2.06-.94-2.06-.94L8.5 2.5l-.94 2.06-2.06.94zm10 10l.94 2.06.94-2.06 2.06-.94-2.06-.94-.94-2.06-.94 2.06-2.06.94z\"/><path d=\"M17.41 7.96l-1.37-1.37c-.4-.4-.92-.59-1.43-.59-.52 0-1.04.2-1.43.59L10.3 9.45l-7.72 7.72c-.78.78-.78 2.05 0 2.83L4 21.41c.39.39.9.59 1.41.59.51 0 1.02-.2 1.41-.59l7.78-7.78 2.81-2.81c.8-.78.8-2.07 0-2.86zM5.41 20L4 18.59l7.72-7.72 1.47 1.35L5.41 20z\"/>\n",
              "  </svg>\n",
              "      </button>\n",
              "      \n",
              "  <style>\n",
              "    .colab-df-container {\n",
              "      display:flex;\n",
              "      flex-wrap:wrap;\n",
              "      gap: 12px;\n",
              "    }\n",
              "\n",
              "    .colab-df-convert {\n",
              "      background-color: #E8F0FE;\n",
              "      border: none;\n",
              "      border-radius: 50%;\n",
              "      cursor: pointer;\n",
              "      display: none;\n",
              "      fill: #1967D2;\n",
              "      height: 32px;\n",
              "      padding: 0 0 0 0;\n",
              "      width: 32px;\n",
              "    }\n",
              "\n",
              "    .colab-df-convert:hover {\n",
              "      background-color: #E2EBFA;\n",
              "      box-shadow: 0px 1px 2px rgba(60, 64, 67, 0.3), 0px 1px 3px 1px rgba(60, 64, 67, 0.15);\n",
              "      fill: #174EA6;\n",
              "    }\n",
              "\n",
              "    [theme=dark] .colab-df-convert {\n",
              "      background-color: #3B4455;\n",
              "      fill: #D2E3FC;\n",
              "    }\n",
              "\n",
              "    [theme=dark] .colab-df-convert:hover {\n",
              "      background-color: #434B5C;\n",
              "      box-shadow: 0px 1px 3px 1px rgba(0, 0, 0, 0.15);\n",
              "      filter: drop-shadow(0px 1px 2px rgba(0, 0, 0, 0.3));\n",
              "      fill: #FFFFFF;\n",
              "    }\n",
              "  </style>\n",
              "\n",
              "      <script>\n",
              "        const buttonEl =\n",
              "          document.querySelector('#df-84d1d9e3-c98e-439b-8d9a-c97dcda9e887 button.colab-df-convert');\n",
              "        buttonEl.style.display =\n",
              "          google.colab.kernel.accessAllowed ? 'block' : 'none';\n",
              "\n",
              "        async function convertToInteractive(key) {\n",
              "          const element = document.querySelector('#df-84d1d9e3-c98e-439b-8d9a-c97dcda9e887');\n",
              "          const dataTable =\n",
              "            await google.colab.kernel.invokeFunction('convertToInteractive',\n",
              "                                                     [key], {});\n",
              "          if (!dataTable) return;\n",
              "\n",
              "          const docLinkHtml = 'Like what you see? Visit the ' +\n",
              "            '<a target=\"_blank\" href=https://colab.research.google.com/notebooks/data_table.ipynb>data table notebook</a>'\n",
              "            + ' to learn more about interactive tables.';\n",
              "          element.innerHTML = '';\n",
              "          dataTable['output_type'] = 'display_data';\n",
              "          await google.colab.output.renderOutput(dataTable, element);\n",
              "          const docLink = document.createElement('div');\n",
              "          docLink.innerHTML = docLinkHtml;\n",
              "          element.appendChild(docLink);\n",
              "        }\n",
              "      </script>\n",
              "    </div>\n",
              "  </div>\n",
              "  "
            ]
          },
          "metadata": {},
          "execution_count": 74
        }
      ]
    },
    {
      "cell_type": "code",
      "source": [
        "csr_movie = sparse.csr_matrix((g_df['interaction'].astype(float), (g_df['movieId'], g_df['genreId'])))"
      ],
      "metadata": {
        "id": "RmL5RXfieanj"
      },
      "execution_count": null,
      "outputs": []
    },
    {
      "cell_type": "markdown",
      "source": [
        "Обучим модель"
      ],
      "metadata": {
        "id": "W_WIQS2EuEhL"
      }
    },
    {
      "cell_type": "code",
      "source": [
        "model = LightFM(learning_rate=0.05, loss='warp')\n",
        "model.fit(sparse_user_item_FILMS,\n",
        "          user_features=None,\n",
        "          item_features=csr_movie,\n",
        "          epochs=20)"
      ],
      "metadata": {
        "colab": {
          "base_uri": "https://localhost:8080/"
        },
        "id": "fzURrqfguED9",
        "outputId": "e82e1ac8-bd96-41ba-954f-abc0d5b71a14"
      },
      "execution_count": null,
      "outputs": [
        {
          "output_type": "execute_result",
          "data": {
            "text/plain": [
              "<lightfm.lightfm.LightFM at 0x7fa5b92875d0>"
            ]
          },
          "metadata": {},
          "execution_count": 76
        }
      ]
    },
    {
      "cell_type": "code",
      "source": [
        "predictions = model.predict(user_ids=y['userId'].values, item_ids=y['movieId'].values, item_features=csr_movie)\n",
        "print(np.sqrt(mean_squared_error(predictions, y['rating'].values)))"
      ],
      "metadata": {
        "colab": {
          "base_uri": "https://localhost:8080/"
        },
        "id": "sGs6_sukEdZF",
        "outputId": "7e6ba93d-5c13-4114-cafc-5e3c6233317d"
      },
      "execution_count": null,
      "outputs": [
        {
          "output_type": "stream",
          "name": "stdout",
          "text": [
            "1.8860326700072703\n"
          ]
        }
      ]
    },
    {
      "cell_type": "markdown",
      "source": [
        "# Тренировка лучшего алгоритма на large_dataset-е\n",
        "Исходя из тестов на small_dataset-е лучшим алгоритмом оказался SVD-CF.\n",
        "\n",
        "Далее обучим этот алгоритм на large_dataset-е и подберём оптимальные гиперпараметры."
      ],
      "metadata": {
        "id": "hlHBuGFY1vBn"
      }
    },
    {
      "cell_type": "code",
      "source": [
        "from surprise.model_selection.search import GridSearchCV\n",
        "from surprise import SVD, Reader, Dataset\n",
        "import gc\n"
      ],
      "metadata": {
        "id": "P_6biE9qDOg0"
      },
      "execution_count": 17,
      "outputs": []
    },
    {
      "cell_type": "code",
      "source": [
        "X = X_train.copy()\n",
        "X['rating'] = transformed_large_train\n",
        "\n",
        "y = X_test.copy()\n",
        "y['rating'] = transformed_large_test\n",
        "\n",
        "\n",
        "reader = Reader(line_format='user item rating', rating_scale=(-4,2))\n",
        "formed_ratings = Dataset.load_from_df(X, reader)\n",
        "train = formed_ratings.build_full_trainset()"
      ],
      "metadata": {
        "id": "CVh3EPmYB4Lj"
      },
      "execution_count": 19,
      "outputs": []
    },
    {
      "cell_type": "code",
      "source": [
        "reader = Reader(line_format='user item rating', rating_scale=(-4,2))\n",
        "test = Dataset.load_from_df(y, reader)\n",
        "test = test.build_full_trainset()\n",
        "test = test.build_testset()"
      ],
      "metadata": {
        "id": "XXFWQp4uIY-y"
      },
      "execution_count": null,
      "outputs": []
    },
    {
      "cell_type": "code",
      "source": [
        "svd = SVD\n",
        "param_dict = {'n_factors':[10, 20], 'n_epochs': [15, 30], 'lr_all':[0.001, 0.01, 0.05], 'random_state':[42]}\n",
        "GridSearch = GridSearchCV(svd, param_grid = param_dict, measures=['rmse', 'mae'], n_jobs=-1)\n",
        "GridSearch.fit(formed_ratings)"
      ],
      "metadata": {
        "id": "9wA40WefBrjr"
      },
      "execution_count": 20,
      "outputs": []
    },
    {
      "cell_type": "code",
      "source": [
        "gc.collect()\n",
        "svd_1 = SVD(n_factors=10, n_epochs=10, lr_all=0.01)"
      ],
      "metadata": {
        "id": "QddQEKJmMBue"
      },
      "execution_count": 21,
      "outputs": []
    },
    {
      "cell_type": "code",
      "source": [
        "svd_1.fit(train)"
      ],
      "metadata": {
        "colab": {
          "base_uri": "https://localhost:8080/"
        },
        "id": "5jvpKRpZMfwQ",
        "outputId": "fdcf6370-26b8-47ee-d1f8-47279fd76e66"
      },
      "execution_count": 22,
      "outputs": [
        {
          "output_type": "execute_result",
          "data": {
            "text/plain": [
              "<surprise.prediction_algorithms.matrix_factorization.SVD at 0x7fc758cc32d0>"
            ]
          },
          "metadata": {},
          "execution_count": 22
        }
      ]
    },
    {
      "cell_type": "code",
      "source": [
        "from surprise.accuracy import rmse\n",
        "print(rmse(svd_1.test(test)))"
      ],
      "metadata": {
        "colab": {
          "base_uri": "https://localhost:8080/"
        },
        "id": "UFJqNUVASOp1",
        "outputId": "3e94528c-641e-4bcd-c0bd-c172dbd070ad"
      },
      "execution_count": 26,
      "outputs": [
        {
          "output_type": "stream",
          "name": "stdout",
          "text": [
            "RMSE: 0.7808\n",
            "0.78077386393886\n"
          ]
        }
      ]
    },
    {
      "cell_type": "code",
      "source": [
        "del svd_1"
      ],
      "metadata": {
        "id": "Cxu2HvGFTOcW"
      },
      "execution_count": 27,
      "outputs": []
    },
    {
      "cell_type": "code",
      "source": [
        "gc.collect()"
      ],
      "metadata": {
        "colab": {
          "base_uri": "https://localhost:8080/"
        },
        "id": "73aBDZJiTV_T",
        "outputId": "a305aea6-07db-4db2-eada-4d74701408b9"
      },
      "execution_count": 29,
      "outputs": [
        {
          "output_type": "execute_result",
          "data": {
            "text/plain": [
              "521"
            ]
          },
          "metadata": {},
          "execution_count": 29
        }
      ]
    },
    {
      "cell_type": "code",
      "source": [
        "svd = SVD(n_factors=5, n_epochs=5, lr_all=0.1)"
      ],
      "metadata": {
        "id": "sodeVwoUTgHX"
      },
      "execution_count": 30,
      "outputs": []
    },
    {
      "cell_type": "code",
      "source": [
        "svd.fit(train)"
      ],
      "metadata": {
        "colab": {
          "base_uri": "https://localhost:8080/"
        },
        "id": "1NsnQULBTjn2",
        "outputId": "346181b4-e0df-436c-8a11-5bc10a22d39b"
      },
      "execution_count": 31,
      "outputs": [
        {
          "output_type": "execute_result",
          "data": {
            "text/plain": [
              "<surprise.prediction_algorithms.matrix_factorization.SVD at 0x7fc602bc4c50>"
            ]
          },
          "metadata": {},
          "execution_count": 31
        }
      ]
    },
    {
      "cell_type": "code",
      "source": [
        "print(rmse(svd.test(test)))"
      ],
      "metadata": {
        "colab": {
          "base_uri": "https://localhost:8080/"
        },
        "id": "AK9AlSuKTnbu",
        "outputId": "e16c9117-5de1-4d53-a8ec-2f07e819cd69"
      },
      "execution_count": 32,
      "outputs": [
        {
          "output_type": "stream",
          "name": "stdout",
          "text": [
            "RMSE: 0.8948\n",
            "0.8948374857232102\n"
          ]
        }
      ]
    }
  ]
}