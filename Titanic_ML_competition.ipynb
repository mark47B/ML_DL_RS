{
  "nbformat": 4,
  "nbformat_minor": 0,
  "metadata": {
    "colab": {
      "name": "Titanic_ML_competition.ipynb",
      "provenance": [],
      "collapsed_sections": [],
      "toc_visible": true
    },
    "kernelspec": {
      "name": "python3",
      "display_name": "Python 3"
    },
    "language_info": {
      "name": "python"
    },
    "widgets": {
      "application/vnd.jupyter.widget-state+json": {
        "f3ffbbebf8af4ed98e97d2bea382a7fb": {
          "model_module": "@jupyter-widgets/controls",
          "model_name": "HBoxModel",
          "model_module_version": "1.5.0",
          "state": {
            "_view_name": "HBoxView",
            "_dom_classes": [],
            "_model_name": "HBoxModel",
            "_view_module": "@jupyter-widgets/controls",
            "_model_module_version": "1.5.0",
            "_view_count": null,
            "_view_module_version": "1.5.0",
            "box_style": "",
            "layout": "IPY_MODEL_a268e7c885124a4d9cd33832e344bd1f",
            "_model_module": "@jupyter-widgets/controls",
            "children": [
              "IPY_MODEL_3061d8d06cb84ac9a81e9d86974de868",
              "IPY_MODEL_91fa3809fd86486288d1f1d4e3c72fbd",
              "IPY_MODEL_30466defe11547b49165bb98278a88d4"
            ]
          }
        },
        "a268e7c885124a4d9cd33832e344bd1f": {
          "model_module": "@jupyter-widgets/base",
          "model_name": "LayoutModel",
          "model_module_version": "1.2.0",
          "state": {
            "_view_name": "LayoutView",
            "grid_template_rows": null,
            "right": null,
            "justify_content": null,
            "_view_module": "@jupyter-widgets/base",
            "overflow": null,
            "_model_module_version": "1.2.0",
            "_view_count": null,
            "flex_flow": null,
            "width": null,
            "min_width": null,
            "border": null,
            "align_items": null,
            "bottom": null,
            "_model_module": "@jupyter-widgets/base",
            "top": null,
            "grid_column": null,
            "overflow_y": null,
            "overflow_x": null,
            "grid_auto_flow": null,
            "grid_area": null,
            "grid_template_columns": null,
            "flex": null,
            "_model_name": "LayoutModel",
            "justify_items": null,
            "grid_row": null,
            "max_height": null,
            "align_content": null,
            "visibility": null,
            "align_self": null,
            "height": null,
            "min_height": null,
            "padding": null,
            "grid_auto_rows": null,
            "grid_gap": null,
            "max_width": null,
            "order": null,
            "_view_module_version": "1.2.0",
            "grid_template_areas": null,
            "object_position": null,
            "object_fit": null,
            "grid_auto_columns": null,
            "margin": null,
            "display": null,
            "left": null
          }
        },
        "3061d8d06cb84ac9a81e9d86974de868": {
          "model_module": "@jupyter-widgets/controls",
          "model_name": "HTMLModel",
          "model_module_version": "1.5.0",
          "state": {
            "_view_name": "HTMLView",
            "style": "IPY_MODEL_bdb5cf2610664dbebd6ea2511eaef0b5",
            "_dom_classes": [],
            "description": "",
            "_model_name": "HTMLModel",
            "placeholder": "​",
            "_view_module": "@jupyter-widgets/controls",
            "_model_module_version": "1.5.0",
            "value": "100%",
            "_view_count": null,
            "_view_module_version": "1.5.0",
            "description_tooltip": null,
            "_model_module": "@jupyter-widgets/controls",
            "layout": "IPY_MODEL_bbb04416ad6d4d959766d08ccff0ef50"
          }
        },
        "91fa3809fd86486288d1f1d4e3c72fbd": {
          "model_module": "@jupyter-widgets/controls",
          "model_name": "FloatProgressModel",
          "model_module_version": "1.5.0",
          "state": {
            "_view_name": "ProgressView",
            "style": "IPY_MODEL_c8722ab0febf407488b0f7b9cf2e7bfb",
            "_dom_classes": [],
            "description": "",
            "_model_name": "FloatProgressModel",
            "bar_style": "success",
            "max": 5,
            "_view_module": "@jupyter-widgets/controls",
            "_model_module_version": "1.5.0",
            "value": 5,
            "_view_count": null,
            "_view_module_version": "1.5.0",
            "orientation": "horizontal",
            "min": 0,
            "description_tooltip": null,
            "_model_module": "@jupyter-widgets/controls",
            "layout": "IPY_MODEL_71d4406d57574c9381c3aaaa7e59ed73"
          }
        },
        "30466defe11547b49165bb98278a88d4": {
          "model_module": "@jupyter-widgets/controls",
          "model_name": "HTMLModel",
          "model_module_version": "1.5.0",
          "state": {
            "_view_name": "HTMLView",
            "style": "IPY_MODEL_0be28b5078624ec6933f40d0623420e6",
            "_dom_classes": [],
            "description": "",
            "_model_name": "HTMLModel",
            "placeholder": "​",
            "_view_module": "@jupyter-widgets/controls",
            "_model_module_version": "1.5.0",
            "value": " 5/5 [00:15&lt;00:00,  3.04s/it]",
            "_view_count": null,
            "_view_module_version": "1.5.0",
            "description_tooltip": null,
            "_model_module": "@jupyter-widgets/controls",
            "layout": "IPY_MODEL_50d0f613471d44f7a90582408f67348d"
          }
        },
        "bdb5cf2610664dbebd6ea2511eaef0b5": {
          "model_module": "@jupyter-widgets/controls",
          "model_name": "DescriptionStyleModel",
          "model_module_version": "1.5.0",
          "state": {
            "_view_name": "StyleView",
            "_model_name": "DescriptionStyleModel",
            "description_width": "",
            "_view_module": "@jupyter-widgets/base",
            "_model_module_version": "1.5.0",
            "_view_count": null,
            "_view_module_version": "1.2.0",
            "_model_module": "@jupyter-widgets/controls"
          }
        },
        "bbb04416ad6d4d959766d08ccff0ef50": {
          "model_module": "@jupyter-widgets/base",
          "model_name": "LayoutModel",
          "model_module_version": "1.2.0",
          "state": {
            "_view_name": "LayoutView",
            "grid_template_rows": null,
            "right": null,
            "justify_content": null,
            "_view_module": "@jupyter-widgets/base",
            "overflow": null,
            "_model_module_version": "1.2.0",
            "_view_count": null,
            "flex_flow": null,
            "width": null,
            "min_width": null,
            "border": null,
            "align_items": null,
            "bottom": null,
            "_model_module": "@jupyter-widgets/base",
            "top": null,
            "grid_column": null,
            "overflow_y": null,
            "overflow_x": null,
            "grid_auto_flow": null,
            "grid_area": null,
            "grid_template_columns": null,
            "flex": null,
            "_model_name": "LayoutModel",
            "justify_items": null,
            "grid_row": null,
            "max_height": null,
            "align_content": null,
            "visibility": null,
            "align_self": null,
            "height": null,
            "min_height": null,
            "padding": null,
            "grid_auto_rows": null,
            "grid_gap": null,
            "max_width": null,
            "order": null,
            "_view_module_version": "1.2.0",
            "grid_template_areas": null,
            "object_position": null,
            "object_fit": null,
            "grid_auto_columns": null,
            "margin": null,
            "display": null,
            "left": null
          }
        },
        "c8722ab0febf407488b0f7b9cf2e7bfb": {
          "model_module": "@jupyter-widgets/controls",
          "model_name": "ProgressStyleModel",
          "model_module_version": "1.5.0",
          "state": {
            "_view_name": "StyleView",
            "_model_name": "ProgressStyleModel",
            "description_width": "",
            "_view_module": "@jupyter-widgets/base",
            "_model_module_version": "1.5.0",
            "_view_count": null,
            "_view_module_version": "1.2.0",
            "bar_color": null,
            "_model_module": "@jupyter-widgets/controls"
          }
        },
        "71d4406d57574c9381c3aaaa7e59ed73": {
          "model_module": "@jupyter-widgets/base",
          "model_name": "LayoutModel",
          "model_module_version": "1.2.0",
          "state": {
            "_view_name": "LayoutView",
            "grid_template_rows": null,
            "right": null,
            "justify_content": null,
            "_view_module": "@jupyter-widgets/base",
            "overflow": null,
            "_model_module_version": "1.2.0",
            "_view_count": null,
            "flex_flow": null,
            "width": null,
            "min_width": null,
            "border": null,
            "align_items": null,
            "bottom": null,
            "_model_module": "@jupyter-widgets/base",
            "top": null,
            "grid_column": null,
            "overflow_y": null,
            "overflow_x": null,
            "grid_auto_flow": null,
            "grid_area": null,
            "grid_template_columns": null,
            "flex": null,
            "_model_name": "LayoutModel",
            "justify_items": null,
            "grid_row": null,
            "max_height": null,
            "align_content": null,
            "visibility": null,
            "align_self": null,
            "height": null,
            "min_height": null,
            "padding": null,
            "grid_auto_rows": null,
            "grid_gap": null,
            "max_width": null,
            "order": null,
            "_view_module_version": "1.2.0",
            "grid_template_areas": null,
            "object_position": null,
            "object_fit": null,
            "grid_auto_columns": null,
            "margin": null,
            "display": null,
            "left": null
          }
        },
        "0be28b5078624ec6933f40d0623420e6": {
          "model_module": "@jupyter-widgets/controls",
          "model_name": "DescriptionStyleModel",
          "model_module_version": "1.5.0",
          "state": {
            "_view_name": "StyleView",
            "_model_name": "DescriptionStyleModel",
            "description_width": "",
            "_view_module": "@jupyter-widgets/base",
            "_model_module_version": "1.5.0",
            "_view_count": null,
            "_view_module_version": "1.2.0",
            "_model_module": "@jupyter-widgets/controls"
          }
        },
        "50d0f613471d44f7a90582408f67348d": {
          "model_module": "@jupyter-widgets/base",
          "model_name": "LayoutModel",
          "model_module_version": "1.2.0",
          "state": {
            "_view_name": "LayoutView",
            "grid_template_rows": null,
            "right": null,
            "justify_content": null,
            "_view_module": "@jupyter-widgets/base",
            "overflow": null,
            "_model_module_version": "1.2.0",
            "_view_count": null,
            "flex_flow": null,
            "width": null,
            "min_width": null,
            "border": null,
            "align_items": null,
            "bottom": null,
            "_model_module": "@jupyter-widgets/base",
            "top": null,
            "grid_column": null,
            "overflow_y": null,
            "overflow_x": null,
            "grid_auto_flow": null,
            "grid_area": null,
            "grid_template_columns": null,
            "flex": null,
            "_model_name": "LayoutModel",
            "justify_items": null,
            "grid_row": null,
            "max_height": null,
            "align_content": null,
            "visibility": null,
            "align_self": null,
            "height": null,
            "min_height": null,
            "padding": null,
            "grid_auto_rows": null,
            "grid_gap": null,
            "max_width": null,
            "order": null,
            "_view_module_version": "1.2.0",
            "grid_template_areas": null,
            "object_position": null,
            "object_fit": null,
            "grid_auto_columns": null,
            "margin": null,
            "display": null,
            "left": null
          }
        },
        "6205622ba71b46e1b5d6f2bbe238d66a": {
          "model_module": "@jupyter-widgets/controls",
          "model_name": "HBoxModel",
          "model_module_version": "1.5.0",
          "state": {
            "_view_name": "HBoxView",
            "_dom_classes": [],
            "_model_name": "HBoxModel",
            "_view_module": "@jupyter-widgets/controls",
            "_model_module_version": "1.5.0",
            "_view_count": null,
            "_view_module_version": "1.5.0",
            "box_style": "",
            "layout": "IPY_MODEL_08c3706a4816428192b6a5eb12b5ef98",
            "_model_module": "@jupyter-widgets/controls",
            "children": [
              "IPY_MODEL_bf9ac9ab31c34a2a92757fc01040529a",
              "IPY_MODEL_18dfa264c1e34028ab643fe2b1f7ff79",
              "IPY_MODEL_2d1206393a4947a4b43c438bb28bd94e"
            ]
          }
        },
        "08c3706a4816428192b6a5eb12b5ef98": {
          "model_module": "@jupyter-widgets/base",
          "model_name": "LayoutModel",
          "model_module_version": "1.2.0",
          "state": {
            "_view_name": "LayoutView",
            "grid_template_rows": null,
            "right": null,
            "justify_content": null,
            "_view_module": "@jupyter-widgets/base",
            "overflow": null,
            "_model_module_version": "1.2.0",
            "_view_count": null,
            "flex_flow": null,
            "width": null,
            "min_width": null,
            "border": null,
            "align_items": null,
            "bottom": null,
            "_model_module": "@jupyter-widgets/base",
            "top": null,
            "grid_column": null,
            "overflow_y": null,
            "overflow_x": null,
            "grid_auto_flow": null,
            "grid_area": null,
            "grid_template_columns": null,
            "flex": null,
            "_model_name": "LayoutModel",
            "justify_items": null,
            "grid_row": null,
            "max_height": null,
            "align_content": null,
            "visibility": null,
            "align_self": null,
            "height": null,
            "min_height": null,
            "padding": null,
            "grid_auto_rows": null,
            "grid_gap": null,
            "max_width": null,
            "order": null,
            "_view_module_version": "1.2.0",
            "grid_template_areas": null,
            "object_position": null,
            "object_fit": null,
            "grid_auto_columns": null,
            "margin": null,
            "display": null,
            "left": null
          }
        },
        "bf9ac9ab31c34a2a92757fc01040529a": {
          "model_module": "@jupyter-widgets/controls",
          "model_name": "HTMLModel",
          "model_module_version": "1.5.0",
          "state": {
            "_view_name": "HTMLView",
            "style": "IPY_MODEL_2e2c6d62c136487aa3cc6105c4c41d38",
            "_dom_classes": [],
            "description": "",
            "_model_name": "HTMLModel",
            "placeholder": "​",
            "_view_module": "@jupyter-widgets/controls",
            "_model_module_version": "1.5.0",
            "value": " 98%",
            "_view_count": null,
            "_view_module_version": "1.5.0",
            "description_tooltip": null,
            "_model_module": "@jupyter-widgets/controls",
            "layout": "IPY_MODEL_43a5e97f8fd64e6b94a88ab941ef875d"
          }
        },
        "18dfa264c1e34028ab643fe2b1f7ff79": {
          "model_module": "@jupyter-widgets/controls",
          "model_name": "FloatProgressModel",
          "model_module_version": "1.5.0",
          "state": {
            "_view_name": "ProgressView",
            "style": "IPY_MODEL_8be5fb73a88f4152a78d801820f21be0",
            "_dom_classes": [],
            "description": "",
            "_model_name": "FloatProgressModel",
            "bar_style": "",
            "max": 200,
            "_view_module": "@jupyter-widgets/controls",
            "_model_module_version": "1.5.0",
            "value": 200,
            "_view_count": null,
            "_view_module_version": "1.5.0",
            "orientation": "horizontal",
            "min": 0,
            "description_tooltip": null,
            "_model_module": "@jupyter-widgets/controls",
            "layout": "IPY_MODEL_66d08e6db4cd469db843794956cda3e9"
          }
        },
        "2d1206393a4947a4b43c438bb28bd94e": {
          "model_module": "@jupyter-widgets/controls",
          "model_name": "HTMLModel",
          "model_module_version": "1.5.0",
          "state": {
            "_view_name": "HTMLView",
            "style": "IPY_MODEL_5eb67ea553044e1a83eac41164249275",
            "_dom_classes": [],
            "description": "",
            "_model_name": "HTMLModel",
            "placeholder": "​",
            "_view_module": "@jupyter-widgets/controls",
            "_model_module_version": "1.5.0",
            "value": " 197/200 [00:02&lt;00:00, 45.99it/s]",
            "_view_count": null,
            "_view_module_version": "1.5.0",
            "description_tooltip": null,
            "_model_module": "@jupyter-widgets/controls",
            "layout": "IPY_MODEL_def8decc1454406ab8f2ad21e7fc16cb"
          }
        },
        "2e2c6d62c136487aa3cc6105c4c41d38": {
          "model_module": "@jupyter-widgets/controls",
          "model_name": "DescriptionStyleModel",
          "model_module_version": "1.5.0",
          "state": {
            "_view_name": "StyleView",
            "_model_name": "DescriptionStyleModel",
            "description_width": "",
            "_view_module": "@jupyter-widgets/base",
            "_model_module_version": "1.5.0",
            "_view_count": null,
            "_view_module_version": "1.2.0",
            "_model_module": "@jupyter-widgets/controls"
          }
        },
        "43a5e97f8fd64e6b94a88ab941ef875d": {
          "model_module": "@jupyter-widgets/base",
          "model_name": "LayoutModel",
          "model_module_version": "1.2.0",
          "state": {
            "_view_name": "LayoutView",
            "grid_template_rows": null,
            "right": null,
            "justify_content": null,
            "_view_module": "@jupyter-widgets/base",
            "overflow": null,
            "_model_module_version": "1.2.0",
            "_view_count": null,
            "flex_flow": null,
            "width": null,
            "min_width": null,
            "border": null,
            "align_items": null,
            "bottom": null,
            "_model_module": "@jupyter-widgets/base",
            "top": null,
            "grid_column": null,
            "overflow_y": null,
            "overflow_x": null,
            "grid_auto_flow": null,
            "grid_area": null,
            "grid_template_columns": null,
            "flex": null,
            "_model_name": "LayoutModel",
            "justify_items": null,
            "grid_row": null,
            "max_height": null,
            "align_content": null,
            "visibility": null,
            "align_self": null,
            "height": null,
            "min_height": null,
            "padding": null,
            "grid_auto_rows": null,
            "grid_gap": null,
            "max_width": null,
            "order": null,
            "_view_module_version": "1.2.0",
            "grid_template_areas": null,
            "object_position": null,
            "object_fit": null,
            "grid_auto_columns": null,
            "margin": null,
            "display": null,
            "left": null
          }
        },
        "8be5fb73a88f4152a78d801820f21be0": {
          "model_module": "@jupyter-widgets/controls",
          "model_name": "ProgressStyleModel",
          "model_module_version": "1.5.0",
          "state": {
            "_view_name": "StyleView",
            "_model_name": "ProgressStyleModel",
            "description_width": "",
            "_view_module": "@jupyter-widgets/base",
            "_model_module_version": "1.5.0",
            "_view_count": null,
            "_view_module_version": "1.2.0",
            "bar_color": null,
            "_model_module": "@jupyter-widgets/controls"
          }
        },
        "66d08e6db4cd469db843794956cda3e9": {
          "model_module": "@jupyter-widgets/base",
          "model_name": "LayoutModel",
          "model_module_version": "1.2.0",
          "state": {
            "_view_name": "LayoutView",
            "grid_template_rows": null,
            "right": null,
            "justify_content": null,
            "_view_module": "@jupyter-widgets/base",
            "overflow": null,
            "_model_module_version": "1.2.0",
            "_view_count": null,
            "flex_flow": null,
            "width": null,
            "min_width": null,
            "border": null,
            "align_items": null,
            "bottom": null,
            "_model_module": "@jupyter-widgets/base",
            "top": null,
            "grid_column": null,
            "overflow_y": null,
            "overflow_x": null,
            "grid_auto_flow": null,
            "grid_area": null,
            "grid_template_columns": null,
            "flex": null,
            "_model_name": "LayoutModel",
            "justify_items": null,
            "grid_row": null,
            "max_height": null,
            "align_content": null,
            "visibility": null,
            "align_self": null,
            "height": null,
            "min_height": null,
            "padding": null,
            "grid_auto_rows": null,
            "grid_gap": null,
            "max_width": null,
            "order": null,
            "_view_module_version": "1.2.0",
            "grid_template_areas": null,
            "object_position": null,
            "object_fit": null,
            "grid_auto_columns": null,
            "margin": null,
            "display": null,
            "left": null
          }
        },
        "5eb67ea553044e1a83eac41164249275": {
          "model_module": "@jupyter-widgets/controls",
          "model_name": "DescriptionStyleModel",
          "model_module_version": "1.5.0",
          "state": {
            "_view_name": "StyleView",
            "_model_name": "DescriptionStyleModel",
            "description_width": "",
            "_view_module": "@jupyter-widgets/base",
            "_model_module_version": "1.5.0",
            "_view_count": null,
            "_view_module_version": "1.2.0",
            "_model_module": "@jupyter-widgets/controls"
          }
        },
        "def8decc1454406ab8f2ad21e7fc16cb": {
          "model_module": "@jupyter-widgets/base",
          "model_name": "LayoutModel",
          "model_module_version": "1.2.0",
          "state": {
            "_view_name": "LayoutView",
            "grid_template_rows": null,
            "right": null,
            "justify_content": null,
            "_view_module": "@jupyter-widgets/base",
            "overflow": null,
            "_model_module_version": "1.2.0",
            "_view_count": null,
            "flex_flow": null,
            "width": null,
            "min_width": null,
            "border": null,
            "align_items": null,
            "bottom": null,
            "_model_module": "@jupyter-widgets/base",
            "top": null,
            "grid_column": null,
            "overflow_y": null,
            "overflow_x": null,
            "grid_auto_flow": null,
            "grid_area": null,
            "grid_template_columns": null,
            "flex": null,
            "_model_name": "LayoutModel",
            "justify_items": null,
            "grid_row": null,
            "max_height": null,
            "align_content": null,
            "visibility": null,
            "align_self": null,
            "height": null,
            "min_height": null,
            "padding": null,
            "grid_auto_rows": null,
            "grid_gap": null,
            "max_width": null,
            "order": null,
            "_view_module_version": "1.2.0",
            "grid_template_areas": null,
            "object_position": null,
            "object_fit": null,
            "grid_auto_columns": null,
            "margin": null,
            "display": null,
            "left": null
          }
        },
        "13423aef042743109894179c554a5731": {
          "model_module": "@jupyter-widgets/controls",
          "model_name": "HBoxModel",
          "model_module_version": "1.5.0",
          "state": {
            "_view_name": "HBoxView",
            "_dom_classes": [],
            "_model_name": "HBoxModel",
            "_view_module": "@jupyter-widgets/controls",
            "_model_module_version": "1.5.0",
            "_view_count": null,
            "_view_module_version": "1.5.0",
            "box_style": "",
            "layout": "IPY_MODEL_76533d9995ab4f2eaf3c426ade55fd99",
            "_model_module": "@jupyter-widgets/controls",
            "children": [
              "IPY_MODEL_6edd9d399d05429fbc5907f0328e65c5",
              "IPY_MODEL_29d92e4c56c244ba9a4c5456bbc54239",
              "IPY_MODEL_e154f59cece64f8792828e2730b47ba3"
            ]
          }
        },
        "76533d9995ab4f2eaf3c426ade55fd99": {
          "model_module": "@jupyter-widgets/base",
          "model_name": "LayoutModel",
          "model_module_version": "1.2.0",
          "state": {
            "_view_name": "LayoutView",
            "grid_template_rows": null,
            "right": null,
            "justify_content": null,
            "_view_module": "@jupyter-widgets/base",
            "overflow": null,
            "_model_module_version": "1.2.0",
            "_view_count": null,
            "flex_flow": null,
            "width": null,
            "min_width": null,
            "border": null,
            "align_items": null,
            "bottom": null,
            "_model_module": "@jupyter-widgets/base",
            "top": null,
            "grid_column": null,
            "overflow_y": null,
            "overflow_x": null,
            "grid_auto_flow": null,
            "grid_area": null,
            "grid_template_columns": null,
            "flex": null,
            "_model_name": "LayoutModel",
            "justify_items": null,
            "grid_row": null,
            "max_height": null,
            "align_content": null,
            "visibility": null,
            "align_self": null,
            "height": null,
            "min_height": null,
            "padding": null,
            "grid_auto_rows": null,
            "grid_gap": null,
            "max_width": null,
            "order": null,
            "_view_module_version": "1.2.0",
            "grid_template_areas": null,
            "object_position": null,
            "object_fit": null,
            "grid_auto_columns": null,
            "margin": null,
            "display": null,
            "left": null
          }
        },
        "6edd9d399d05429fbc5907f0328e65c5": {
          "model_module": "@jupyter-widgets/controls",
          "model_name": "HTMLModel",
          "model_module_version": "1.5.0",
          "state": {
            "_view_name": "HTMLView",
            "style": "IPY_MODEL_803f0a899b504073a02fa26b3ce46ca6",
            "_dom_classes": [],
            "description": "",
            "_model_name": "HTMLModel",
            "placeholder": "​",
            "_view_module": "@jupyter-widgets/controls",
            "_model_module_version": "1.5.0",
            "value": "100%",
            "_view_count": null,
            "_view_module_version": "1.5.0",
            "description_tooltip": null,
            "_model_module": "@jupyter-widgets/controls",
            "layout": "IPY_MODEL_8141b36204b246a0ae67f090657fe382"
          }
        },
        "29d92e4c56c244ba9a4c5456bbc54239": {
          "model_module": "@jupyter-widgets/controls",
          "model_name": "FloatProgressModel",
          "model_module_version": "1.5.0",
          "state": {
            "_view_name": "ProgressView",
            "style": "IPY_MODEL_abc2ed43a87a4b71851fe2ea6f9ea1d1",
            "_dom_classes": [],
            "description": "",
            "_model_name": "FloatProgressModel",
            "bar_style": "success",
            "max": 5,
            "_view_module": "@jupyter-widgets/controls",
            "_model_module_version": "1.5.0",
            "value": 5,
            "_view_count": null,
            "_view_module_version": "1.5.0",
            "orientation": "horizontal",
            "min": 0,
            "description_tooltip": null,
            "_model_module": "@jupyter-widgets/controls",
            "layout": "IPY_MODEL_d1f0f9dd6164417b9fe94a6fc4f98ea8"
          }
        },
        "e154f59cece64f8792828e2730b47ba3": {
          "model_module": "@jupyter-widgets/controls",
          "model_name": "HTMLModel",
          "model_module_version": "1.5.0",
          "state": {
            "_view_name": "HTMLView",
            "style": "IPY_MODEL_aa220defd7a243fc9a02931762989476",
            "_dom_classes": [],
            "description": "",
            "_model_name": "HTMLModel",
            "placeholder": "​",
            "_view_module": "@jupyter-widgets/controls",
            "_model_module_version": "1.5.0",
            "value": " 5/5 [00:05&lt;00:00,  1.71s/it]",
            "_view_count": null,
            "_view_module_version": "1.5.0",
            "description_tooltip": null,
            "_model_module": "@jupyter-widgets/controls",
            "layout": "IPY_MODEL_d29b1ad0519947e38afcfa1ff54bb21e"
          }
        },
        "803f0a899b504073a02fa26b3ce46ca6": {
          "model_module": "@jupyter-widgets/controls",
          "model_name": "DescriptionStyleModel",
          "model_module_version": "1.5.0",
          "state": {
            "_view_name": "StyleView",
            "_model_name": "DescriptionStyleModel",
            "description_width": "",
            "_view_module": "@jupyter-widgets/base",
            "_model_module_version": "1.5.0",
            "_view_count": null,
            "_view_module_version": "1.2.0",
            "_model_module": "@jupyter-widgets/controls"
          }
        },
        "8141b36204b246a0ae67f090657fe382": {
          "model_module": "@jupyter-widgets/base",
          "model_name": "LayoutModel",
          "model_module_version": "1.2.0",
          "state": {
            "_view_name": "LayoutView",
            "grid_template_rows": null,
            "right": null,
            "justify_content": null,
            "_view_module": "@jupyter-widgets/base",
            "overflow": null,
            "_model_module_version": "1.2.0",
            "_view_count": null,
            "flex_flow": null,
            "width": null,
            "min_width": null,
            "border": null,
            "align_items": null,
            "bottom": null,
            "_model_module": "@jupyter-widgets/base",
            "top": null,
            "grid_column": null,
            "overflow_y": null,
            "overflow_x": null,
            "grid_auto_flow": null,
            "grid_area": null,
            "grid_template_columns": null,
            "flex": null,
            "_model_name": "LayoutModel",
            "justify_items": null,
            "grid_row": null,
            "max_height": null,
            "align_content": null,
            "visibility": null,
            "align_self": null,
            "height": null,
            "min_height": null,
            "padding": null,
            "grid_auto_rows": null,
            "grid_gap": null,
            "max_width": null,
            "order": null,
            "_view_module_version": "1.2.0",
            "grid_template_areas": null,
            "object_position": null,
            "object_fit": null,
            "grid_auto_columns": null,
            "margin": null,
            "display": null,
            "left": null
          }
        },
        "abc2ed43a87a4b71851fe2ea6f9ea1d1": {
          "model_module": "@jupyter-widgets/controls",
          "model_name": "ProgressStyleModel",
          "model_module_version": "1.5.0",
          "state": {
            "_view_name": "StyleView",
            "_model_name": "ProgressStyleModel",
            "description_width": "",
            "_view_module": "@jupyter-widgets/base",
            "_model_module_version": "1.5.0",
            "_view_count": null,
            "_view_module_version": "1.2.0",
            "bar_color": null,
            "_model_module": "@jupyter-widgets/controls"
          }
        },
        "d1f0f9dd6164417b9fe94a6fc4f98ea8": {
          "model_module": "@jupyter-widgets/base",
          "model_name": "LayoutModel",
          "model_module_version": "1.2.0",
          "state": {
            "_view_name": "LayoutView",
            "grid_template_rows": null,
            "right": null,
            "justify_content": null,
            "_view_module": "@jupyter-widgets/base",
            "overflow": null,
            "_model_module_version": "1.2.0",
            "_view_count": null,
            "flex_flow": null,
            "width": null,
            "min_width": null,
            "border": null,
            "align_items": null,
            "bottom": null,
            "_model_module": "@jupyter-widgets/base",
            "top": null,
            "grid_column": null,
            "overflow_y": null,
            "overflow_x": null,
            "grid_auto_flow": null,
            "grid_area": null,
            "grid_template_columns": null,
            "flex": null,
            "_model_name": "LayoutModel",
            "justify_items": null,
            "grid_row": null,
            "max_height": null,
            "align_content": null,
            "visibility": null,
            "align_self": null,
            "height": null,
            "min_height": null,
            "padding": null,
            "grid_auto_rows": null,
            "grid_gap": null,
            "max_width": null,
            "order": null,
            "_view_module_version": "1.2.0",
            "grid_template_areas": null,
            "object_position": null,
            "object_fit": null,
            "grid_auto_columns": null,
            "margin": null,
            "display": null,
            "left": null
          }
        },
        "aa220defd7a243fc9a02931762989476": {
          "model_module": "@jupyter-widgets/controls",
          "model_name": "DescriptionStyleModel",
          "model_module_version": "1.5.0",
          "state": {
            "_view_name": "StyleView",
            "_model_name": "DescriptionStyleModel",
            "description_width": "",
            "_view_module": "@jupyter-widgets/base",
            "_model_module_version": "1.5.0",
            "_view_count": null,
            "_view_module_version": "1.2.0",
            "_model_module": "@jupyter-widgets/controls"
          }
        },
        "d29b1ad0519947e38afcfa1ff54bb21e": {
          "model_module": "@jupyter-widgets/base",
          "model_name": "LayoutModel",
          "model_module_version": "1.2.0",
          "state": {
            "_view_name": "LayoutView",
            "grid_template_rows": null,
            "right": null,
            "justify_content": null,
            "_view_module": "@jupyter-widgets/base",
            "overflow": null,
            "_model_module_version": "1.2.0",
            "_view_count": null,
            "flex_flow": null,
            "width": null,
            "min_width": null,
            "border": null,
            "align_items": null,
            "bottom": null,
            "_model_module": "@jupyter-widgets/base",
            "top": null,
            "grid_column": null,
            "overflow_y": null,
            "overflow_x": null,
            "grid_auto_flow": null,
            "grid_area": null,
            "grid_template_columns": null,
            "flex": null,
            "_model_name": "LayoutModel",
            "justify_items": null,
            "grid_row": null,
            "max_height": null,
            "align_content": null,
            "visibility": null,
            "align_self": null,
            "height": null,
            "min_height": null,
            "padding": null,
            "grid_auto_rows": null,
            "grid_gap": null,
            "max_width": null,
            "order": null,
            "_view_module_version": "1.2.0",
            "grid_template_areas": null,
            "object_position": null,
            "object_fit": null,
            "grid_auto_columns": null,
            "margin": null,
            "display": null,
            "left": null
          }
        }
      }
    }
  },
  "cells": [
    {
      "cell_type": "markdown",
      "metadata": {
        "id": "6y9om_GwfBNz"
      },
      "source": [
        "## Подключим библиотеки и подгрузим датасет\n",
        "\n"
      ]
    },
    {
      "cell_type": "code",
      "metadata": {
        "colab": {
          "base_uri": "https://localhost:8080/"
        },
        "id": "7MNTqcyJeUz4",
        "outputId": "0b76cceb-e42a-4a8c-fa6f-f99a4e552274"
      },
      "source": [
        "import pandas as pd\n",
        "import numpy as np\n",
        "\n",
        "from google.colab import drive\n",
        "drive.mount('/content/drive')\n"
      ],
      "execution_count": 1,
      "outputs": [
        {
          "output_type": "stream",
          "name": "stdout",
          "text": [
            "Mounted at /content/drive\n"
          ]
        }
      ]
    },
    {
      "cell_type": "code",
      "metadata": {
        "id": "4t5Dv5QofW2_"
      },
      "source": [
        "test= pd.read_csv('/content/drive/MyDrive/Colab Notebooks/Titanic_data/test.csv')\n",
        "train = pd.read_csv('/content/drive/MyDrive/Colab Notebooks/Titanic_data/train.csv')\n",
        "gender_submission = pd.read_csv('/content/drive/MyDrive/Colab Notebooks/Titanic_data/gender_submission.csv')"
      ],
      "execution_count": 65,
      "outputs": []
    },
    {
      "cell_type": "code",
      "metadata": {
        "colab": {
          "base_uri": "https://localhost:8080/",
          "height": 808
        },
        "id": "dPk8kNjzZubh",
        "outputId": "3d231d75-0333-435c-8f66-c22eadc74b8e"
      },
      "source": [
        "test"
      ],
      "execution_count": 66,
      "outputs": [
        {
          "output_type": "execute_result",
          "data": {
            "text/html": [
              "<div>\n",
              "<style scoped>\n",
              "    .dataframe tbody tr th:only-of-type {\n",
              "        vertical-align: middle;\n",
              "    }\n",
              "\n",
              "    .dataframe tbody tr th {\n",
              "        vertical-align: top;\n",
              "    }\n",
              "\n",
              "    .dataframe thead th {\n",
              "        text-align: right;\n",
              "    }\n",
              "</style>\n",
              "<table border=\"1\" class=\"dataframe\">\n",
              "  <thead>\n",
              "    <tr style=\"text-align: right;\">\n",
              "      <th></th>\n",
              "      <th>PassengerId</th>\n",
              "      <th>Pclass</th>\n",
              "      <th>Name</th>\n",
              "      <th>Sex</th>\n",
              "      <th>Age</th>\n",
              "      <th>SibSp</th>\n",
              "      <th>Parch</th>\n",
              "      <th>Ticket</th>\n",
              "      <th>Fare</th>\n",
              "      <th>Cabin</th>\n",
              "      <th>Embarked</th>\n",
              "    </tr>\n",
              "  </thead>\n",
              "  <tbody>\n",
              "    <tr>\n",
              "      <th>0</th>\n",
              "      <td>892</td>\n",
              "      <td>3</td>\n",
              "      <td>Kelly, Mr. James</td>\n",
              "      <td>male</td>\n",
              "      <td>34.5</td>\n",
              "      <td>0</td>\n",
              "      <td>0</td>\n",
              "      <td>330911</td>\n",
              "      <td>7.8292</td>\n",
              "      <td>NaN</td>\n",
              "      <td>Q</td>\n",
              "    </tr>\n",
              "    <tr>\n",
              "      <th>1</th>\n",
              "      <td>893</td>\n",
              "      <td>3</td>\n",
              "      <td>Wilkes, Mrs. James (Ellen Needs)</td>\n",
              "      <td>female</td>\n",
              "      <td>47.0</td>\n",
              "      <td>1</td>\n",
              "      <td>0</td>\n",
              "      <td>363272</td>\n",
              "      <td>7.0000</td>\n",
              "      <td>NaN</td>\n",
              "      <td>S</td>\n",
              "    </tr>\n",
              "    <tr>\n",
              "      <th>2</th>\n",
              "      <td>894</td>\n",
              "      <td>2</td>\n",
              "      <td>Myles, Mr. Thomas Francis</td>\n",
              "      <td>male</td>\n",
              "      <td>62.0</td>\n",
              "      <td>0</td>\n",
              "      <td>0</td>\n",
              "      <td>240276</td>\n",
              "      <td>9.6875</td>\n",
              "      <td>NaN</td>\n",
              "      <td>Q</td>\n",
              "    </tr>\n",
              "    <tr>\n",
              "      <th>3</th>\n",
              "      <td>895</td>\n",
              "      <td>3</td>\n",
              "      <td>Wirz, Mr. Albert</td>\n",
              "      <td>male</td>\n",
              "      <td>27.0</td>\n",
              "      <td>0</td>\n",
              "      <td>0</td>\n",
              "      <td>315154</td>\n",
              "      <td>8.6625</td>\n",
              "      <td>NaN</td>\n",
              "      <td>S</td>\n",
              "    </tr>\n",
              "    <tr>\n",
              "      <th>4</th>\n",
              "      <td>896</td>\n",
              "      <td>3</td>\n",
              "      <td>Hirvonen, Mrs. Alexander (Helga E Lindqvist)</td>\n",
              "      <td>female</td>\n",
              "      <td>22.0</td>\n",
              "      <td>1</td>\n",
              "      <td>1</td>\n",
              "      <td>3101298</td>\n",
              "      <td>12.2875</td>\n",
              "      <td>NaN</td>\n",
              "      <td>S</td>\n",
              "    </tr>\n",
              "    <tr>\n",
              "      <th>...</th>\n",
              "      <td>...</td>\n",
              "      <td>...</td>\n",
              "      <td>...</td>\n",
              "      <td>...</td>\n",
              "      <td>...</td>\n",
              "      <td>...</td>\n",
              "      <td>...</td>\n",
              "      <td>...</td>\n",
              "      <td>...</td>\n",
              "      <td>...</td>\n",
              "      <td>...</td>\n",
              "    </tr>\n",
              "    <tr>\n",
              "      <th>413</th>\n",
              "      <td>1305</td>\n",
              "      <td>3</td>\n",
              "      <td>Spector, Mr. Woolf</td>\n",
              "      <td>male</td>\n",
              "      <td>NaN</td>\n",
              "      <td>0</td>\n",
              "      <td>0</td>\n",
              "      <td>A.5. 3236</td>\n",
              "      <td>8.0500</td>\n",
              "      <td>NaN</td>\n",
              "      <td>S</td>\n",
              "    </tr>\n",
              "    <tr>\n",
              "      <th>414</th>\n",
              "      <td>1306</td>\n",
              "      <td>1</td>\n",
              "      <td>Oliva y Ocana, Dona. Fermina</td>\n",
              "      <td>female</td>\n",
              "      <td>39.0</td>\n",
              "      <td>0</td>\n",
              "      <td>0</td>\n",
              "      <td>PC 17758</td>\n",
              "      <td>108.9000</td>\n",
              "      <td>C105</td>\n",
              "      <td>C</td>\n",
              "    </tr>\n",
              "    <tr>\n",
              "      <th>415</th>\n",
              "      <td>1307</td>\n",
              "      <td>3</td>\n",
              "      <td>Saether, Mr. Simon Sivertsen</td>\n",
              "      <td>male</td>\n",
              "      <td>38.5</td>\n",
              "      <td>0</td>\n",
              "      <td>0</td>\n",
              "      <td>SOTON/O.Q. 3101262</td>\n",
              "      <td>7.2500</td>\n",
              "      <td>NaN</td>\n",
              "      <td>S</td>\n",
              "    </tr>\n",
              "    <tr>\n",
              "      <th>416</th>\n",
              "      <td>1308</td>\n",
              "      <td>3</td>\n",
              "      <td>Ware, Mr. Frederick</td>\n",
              "      <td>male</td>\n",
              "      <td>NaN</td>\n",
              "      <td>0</td>\n",
              "      <td>0</td>\n",
              "      <td>359309</td>\n",
              "      <td>8.0500</td>\n",
              "      <td>NaN</td>\n",
              "      <td>S</td>\n",
              "    </tr>\n",
              "    <tr>\n",
              "      <th>417</th>\n",
              "      <td>1309</td>\n",
              "      <td>3</td>\n",
              "      <td>Peter, Master. Michael J</td>\n",
              "      <td>male</td>\n",
              "      <td>NaN</td>\n",
              "      <td>1</td>\n",
              "      <td>1</td>\n",
              "      <td>2668</td>\n",
              "      <td>22.3583</td>\n",
              "      <td>NaN</td>\n",
              "      <td>C</td>\n",
              "    </tr>\n",
              "  </tbody>\n",
              "</table>\n",
              "<p>418 rows × 11 columns</p>\n",
              "</div>"
            ],
            "text/plain": [
              "     PassengerId  Pclass  ... Cabin Embarked\n",
              "0            892       3  ...   NaN        Q\n",
              "1            893       3  ...   NaN        S\n",
              "2            894       2  ...   NaN        Q\n",
              "3            895       3  ...   NaN        S\n",
              "4            896       3  ...   NaN        S\n",
              "..           ...     ...  ...   ...      ...\n",
              "413         1305       3  ...   NaN        S\n",
              "414         1306       1  ...  C105        C\n",
              "415         1307       3  ...   NaN        S\n",
              "416         1308       3  ...   NaN        S\n",
              "417         1309       3  ...   NaN        C\n",
              "\n",
              "[418 rows x 11 columns]"
            ]
          },
          "metadata": {},
          "execution_count": 66
        }
      ]
    },
    {
      "cell_type": "markdown",
      "metadata": {
        "id": "q1ShH6VbqFf7"
      },
      "source": [
        "Объединим выборки train и test, чтобы в дальнейшем самостоятельно разделять выборку, например, для кросс-валидации, также будет удобно проводить препроцессинг данных сразу с генеральной совокупностью "
      ]
    },
    {
      "cell_type": "code",
      "metadata": {
        "id": "z0TGbVJ7j8vQ"
      },
      "source": [
        "test['Survived'] = gender_submission['Survived']\n",
        "passengers = train.copy()"
      ],
      "execution_count": 3,
      "outputs": []
    },
    {
      "cell_type": "code",
      "metadata": {
        "id": "v307gtOvHdYs"
      },
      "source": [
        "labels = passengers.columns.tolist()\n",
        "labels = labels[0:1] + labels[2:] + labels[1:2]\n",
        "\n",
        "passengers = passengers[labels]\n",
        "passengers = passengers.append(test, ignore_index=True)"
      ],
      "execution_count": 4,
      "outputs": []
    },
    {
      "cell_type": "markdown",
      "metadata": {
        "id": "fIw-clfwiKho"
      },
      "source": [
        "## Посмотрим на данные"
      ]
    },
    {
      "cell_type": "markdown",
      "metadata": {
        "id": "U69ite7GEWLc"
      },
      "source": [
        "### \"Первыми спасаются женщины, дети и старики\"\n",
        "\n",
        "В данном разделе проверим эту гипотезу, найдём неоднородности в данных и просто ознакомимся с этими данными\n",
        "\n",
        "\n"
      ]
    },
    {
      "cell_type": "code",
      "metadata": {
        "colab": {
          "base_uri": "https://localhost:8080/",
          "height": 504
        },
        "id": "hqt2jmHPh2CQ",
        "outputId": "4f710c16-7a90-44f8-8e85-cd81a5f39a15"
      },
      "source": [
        "passengers.head()"
      ],
      "execution_count": 5,
      "outputs": [
        {
          "output_type": "execute_result",
          "data": {
            "text/html": [
              "<div>\n",
              "<style scoped>\n",
              "    .dataframe tbody tr th:only-of-type {\n",
              "        vertical-align: middle;\n",
              "    }\n",
              "\n",
              "    .dataframe tbody tr th {\n",
              "        vertical-align: top;\n",
              "    }\n",
              "\n",
              "    .dataframe thead th {\n",
              "        text-align: right;\n",
              "    }\n",
              "</style>\n",
              "<table border=\"1\" class=\"dataframe\">\n",
              "  <thead>\n",
              "    <tr style=\"text-align: right;\">\n",
              "      <th></th>\n",
              "      <th>PassengerId</th>\n",
              "      <th>Pclass</th>\n",
              "      <th>Name</th>\n",
              "      <th>Sex</th>\n",
              "      <th>Age</th>\n",
              "      <th>SibSp</th>\n",
              "      <th>Parch</th>\n",
              "      <th>Ticket</th>\n",
              "      <th>Fare</th>\n",
              "      <th>Cabin</th>\n",
              "      <th>Embarked</th>\n",
              "      <th>Survived</th>\n",
              "    </tr>\n",
              "  </thead>\n",
              "  <tbody>\n",
              "    <tr>\n",
              "      <th>0</th>\n",
              "      <td>1</td>\n",
              "      <td>3</td>\n",
              "      <td>Braund, Mr. Owen Harris</td>\n",
              "      <td>male</td>\n",
              "      <td>22.0</td>\n",
              "      <td>1</td>\n",
              "      <td>0</td>\n",
              "      <td>A/5 21171</td>\n",
              "      <td>7.2500</td>\n",
              "      <td>NaN</td>\n",
              "      <td>S</td>\n",
              "      <td>0</td>\n",
              "    </tr>\n",
              "    <tr>\n",
              "      <th>1</th>\n",
              "      <td>2</td>\n",
              "      <td>1</td>\n",
              "      <td>Cumings, Mrs. John Bradley (Florence Briggs Th...</td>\n",
              "      <td>female</td>\n",
              "      <td>38.0</td>\n",
              "      <td>1</td>\n",
              "      <td>0</td>\n",
              "      <td>PC 17599</td>\n",
              "      <td>71.2833</td>\n",
              "      <td>C85</td>\n",
              "      <td>C</td>\n",
              "      <td>1</td>\n",
              "    </tr>\n",
              "    <tr>\n",
              "      <th>2</th>\n",
              "      <td>3</td>\n",
              "      <td>3</td>\n",
              "      <td>Heikkinen, Miss. Laina</td>\n",
              "      <td>female</td>\n",
              "      <td>26.0</td>\n",
              "      <td>0</td>\n",
              "      <td>0</td>\n",
              "      <td>STON/O2. 3101282</td>\n",
              "      <td>7.9250</td>\n",
              "      <td>NaN</td>\n",
              "      <td>S</td>\n",
              "      <td>1</td>\n",
              "    </tr>\n",
              "    <tr>\n",
              "      <th>3</th>\n",
              "      <td>4</td>\n",
              "      <td>1</td>\n",
              "      <td>Futrelle, Mrs. Jacques Heath (Lily May Peel)</td>\n",
              "      <td>female</td>\n",
              "      <td>35.0</td>\n",
              "      <td>1</td>\n",
              "      <td>0</td>\n",
              "      <td>113803</td>\n",
              "      <td>53.1000</td>\n",
              "      <td>C123</td>\n",
              "      <td>S</td>\n",
              "      <td>1</td>\n",
              "    </tr>\n",
              "    <tr>\n",
              "      <th>4</th>\n",
              "      <td>5</td>\n",
              "      <td>3</td>\n",
              "      <td>Allen, Mr. William Henry</td>\n",
              "      <td>male</td>\n",
              "      <td>35.0</td>\n",
              "      <td>0</td>\n",
              "      <td>0</td>\n",
              "      <td>373450</td>\n",
              "      <td>8.0500</td>\n",
              "      <td>NaN</td>\n",
              "      <td>S</td>\n",
              "      <td>0</td>\n",
              "    </tr>\n",
              "  </tbody>\n",
              "</table>\n",
              "</div>"
            ],
            "text/plain": [
              "   PassengerId  Pclass  ... Embarked Survived\n",
              "0            1       3  ...        S        0\n",
              "1            2       1  ...        C        1\n",
              "2            3       3  ...        S        1\n",
              "3            4       1  ...        S        1\n",
              "4            5       3  ...        S        0\n",
              "\n",
              "[5 rows x 12 columns]"
            ]
          },
          "metadata": {},
          "execution_count": 5
        }
      ]
    },
    {
      "cell_type": "code",
      "metadata": {
        "colab": {
          "base_uri": "https://localhost:8080/"
        },
        "id": "X1lm_jEwlIjq",
        "outputId": "77e67226-46d4-46df-8220-b34bb53a8439"
      },
      "source": [
        "print('Embarked unique: ', passengers['Embarked'].unique())\n",
        "print('Sex unique: ', passengers['Sex'].unique())\n",
        "print('Pclass unique: ', passengers['Pclass'].unique())\n",
        "print('Parch unique: ', passengers['Parch'].unique())\n",
        "print('SibSp unique: ', passengers['SibSp'].unique())"
      ],
      "execution_count": 6,
      "outputs": [
        {
          "output_type": "stream",
          "name": "stdout",
          "text": [
            "Embarked unique:  ['S' 'C' 'Q' nan]\n",
            "Sex unique:  ['male' 'female']\n",
            "Pclass unique:  [3 1 2]\n",
            "Parch unique:  [0 1 2 5 3 4 6 9]\n",
            "SibSp unique:  [1 0 3 4 2 5 8]\n"
          ]
        }
      ]
    },
    {
      "cell_type": "code",
      "metadata": {
        "colab": {
          "base_uri": "https://localhost:8080/"
        },
        "id": "eevnbOsmgQlf",
        "outputId": "a5855003-d366-4979-9035-bfe4cd75b4de"
      },
      "source": [
        "passengers.info()"
      ],
      "execution_count": 7,
      "outputs": [
        {
          "output_type": "stream",
          "name": "stdout",
          "text": [
            "<class 'pandas.core.frame.DataFrame'>\n",
            "RangeIndex: 1309 entries, 0 to 1308\n",
            "Data columns (total 12 columns):\n",
            " #   Column       Non-Null Count  Dtype  \n",
            "---  ------       --------------  -----  \n",
            " 0   PassengerId  1309 non-null   int64  \n",
            " 1   Pclass       1309 non-null   int64  \n",
            " 2   Name         1309 non-null   object \n",
            " 3   Sex          1309 non-null   object \n",
            " 4   Age          1046 non-null   float64\n",
            " 5   SibSp        1309 non-null   int64  \n",
            " 6   Parch        1309 non-null   int64  \n",
            " 7   Ticket       1309 non-null   object \n",
            " 8   Fare         1308 non-null   float64\n",
            " 9   Cabin        295 non-null    object \n",
            " 10  Embarked     1307 non-null   object \n",
            " 11  Survived     1309 non-null   int64  \n",
            "dtypes: float64(2), int64(5), object(5)\n",
            "memory usage: 122.8+ KB\n"
          ]
        }
      ]
    },
    {
      "cell_type": "code",
      "metadata": {
        "colab": {
          "base_uri": "https://localhost:8080/"
        },
        "id": "SoB1c5pQUQ53",
        "outputId": "0a0e951e-8326-4ea0-cb98-6bb6a9b253fd"
      },
      "source": [
        "print('Age NaNs: ', len(passengers[passengers['Age'].isna()])/len(passengers) * 100, '%')\n",
        "print('Cabin NaNs: ', len(passengers[passengers['Cabin'].isna()])/len(passengers) * 100, '%')"
      ],
      "execution_count": 8,
      "outputs": [
        {
          "output_type": "stream",
          "name": "stdout",
          "text": [
            "Age NaNs:  20.091673032849503 %\n",
            "Cabin NaNs:  77.46371275783041 %\n"
          ]
        }
      ]
    },
    {
      "cell_type": "markdown",
      "metadata": {
        "id": "fYe_kUrbLKJ3"
      },
      "source": [
        "Больше всего NaN значений в фичах 'Cabin', 'Age'"
      ]
    },
    {
      "cell_type": "code",
      "metadata": {
        "colab": {
          "base_uri": "https://localhost:8080/",
          "height": 320
        },
        "id": "FviTCLe2h4_X",
        "outputId": "74fcff31-fa2b-4d88-f8f1-04f3e4cdc70c"
      },
      "source": [
        "passengers.describe()"
      ],
      "execution_count": 9,
      "outputs": [
        {
          "output_type": "execute_result",
          "data": {
            "text/html": [
              "<div>\n",
              "<style scoped>\n",
              "    .dataframe tbody tr th:only-of-type {\n",
              "        vertical-align: middle;\n",
              "    }\n",
              "\n",
              "    .dataframe tbody tr th {\n",
              "        vertical-align: top;\n",
              "    }\n",
              "\n",
              "    .dataframe thead th {\n",
              "        text-align: right;\n",
              "    }\n",
              "</style>\n",
              "<table border=\"1\" class=\"dataframe\">\n",
              "  <thead>\n",
              "    <tr style=\"text-align: right;\">\n",
              "      <th></th>\n",
              "      <th>PassengerId</th>\n",
              "      <th>Pclass</th>\n",
              "      <th>Age</th>\n",
              "      <th>SibSp</th>\n",
              "      <th>Parch</th>\n",
              "      <th>Fare</th>\n",
              "      <th>Survived</th>\n",
              "    </tr>\n",
              "  </thead>\n",
              "  <tbody>\n",
              "    <tr>\n",
              "      <th>count</th>\n",
              "      <td>1309.000000</td>\n",
              "      <td>1309.000000</td>\n",
              "      <td>1046.000000</td>\n",
              "      <td>1309.000000</td>\n",
              "      <td>1309.000000</td>\n",
              "      <td>1308.000000</td>\n",
              "      <td>1309.000000</td>\n",
              "    </tr>\n",
              "    <tr>\n",
              "      <th>mean</th>\n",
              "      <td>655.000000</td>\n",
              "      <td>2.294882</td>\n",
              "      <td>29.881138</td>\n",
              "      <td>0.498854</td>\n",
              "      <td>0.385027</td>\n",
              "      <td>33.295479</td>\n",
              "      <td>0.377387</td>\n",
              "    </tr>\n",
              "    <tr>\n",
              "      <th>std</th>\n",
              "      <td>378.020061</td>\n",
              "      <td>0.837836</td>\n",
              "      <td>14.413493</td>\n",
              "      <td>1.041658</td>\n",
              "      <td>0.865560</td>\n",
              "      <td>51.758668</td>\n",
              "      <td>0.484918</td>\n",
              "    </tr>\n",
              "    <tr>\n",
              "      <th>min</th>\n",
              "      <td>1.000000</td>\n",
              "      <td>1.000000</td>\n",
              "      <td>0.170000</td>\n",
              "      <td>0.000000</td>\n",
              "      <td>0.000000</td>\n",
              "      <td>0.000000</td>\n",
              "      <td>0.000000</td>\n",
              "    </tr>\n",
              "    <tr>\n",
              "      <th>25%</th>\n",
              "      <td>328.000000</td>\n",
              "      <td>2.000000</td>\n",
              "      <td>21.000000</td>\n",
              "      <td>0.000000</td>\n",
              "      <td>0.000000</td>\n",
              "      <td>7.895800</td>\n",
              "      <td>0.000000</td>\n",
              "    </tr>\n",
              "    <tr>\n",
              "      <th>50%</th>\n",
              "      <td>655.000000</td>\n",
              "      <td>3.000000</td>\n",
              "      <td>28.000000</td>\n",
              "      <td>0.000000</td>\n",
              "      <td>0.000000</td>\n",
              "      <td>14.454200</td>\n",
              "      <td>0.000000</td>\n",
              "    </tr>\n",
              "    <tr>\n",
              "      <th>75%</th>\n",
              "      <td>982.000000</td>\n",
              "      <td>3.000000</td>\n",
              "      <td>39.000000</td>\n",
              "      <td>1.000000</td>\n",
              "      <td>0.000000</td>\n",
              "      <td>31.275000</td>\n",
              "      <td>1.000000</td>\n",
              "    </tr>\n",
              "    <tr>\n",
              "      <th>max</th>\n",
              "      <td>1309.000000</td>\n",
              "      <td>3.000000</td>\n",
              "      <td>80.000000</td>\n",
              "      <td>8.000000</td>\n",
              "      <td>9.000000</td>\n",
              "      <td>512.329200</td>\n",
              "      <td>1.000000</td>\n",
              "    </tr>\n",
              "  </tbody>\n",
              "</table>\n",
              "</div>"
            ],
            "text/plain": [
              "       PassengerId       Pclass  ...         Fare     Survived\n",
              "count  1309.000000  1309.000000  ...  1308.000000  1309.000000\n",
              "mean    655.000000     2.294882  ...    33.295479     0.377387\n",
              "std     378.020061     0.837836  ...    51.758668     0.484918\n",
              "min       1.000000     1.000000  ...     0.000000     0.000000\n",
              "25%     328.000000     2.000000  ...     7.895800     0.000000\n",
              "50%     655.000000     3.000000  ...    14.454200     0.000000\n",
              "75%     982.000000     3.000000  ...    31.275000     1.000000\n",
              "max    1309.000000     3.000000  ...   512.329200     1.000000\n",
              "\n",
              "[8 rows x 7 columns]"
            ]
          },
          "metadata": {},
          "execution_count": 9
        }
      ]
    },
    {
      "cell_type": "markdown",
      "metadata": {
        "id": "Y-ZqgIqKMJH_"
      },
      "source": [
        "Выжило 37.7% пассажиров, средний возраст пассажира 29.8, стандартное отклонение 14.4, т.е. рассматривать пассажиров у которых возраст больше 29.8 + 14.4 или пассажиров возрастом меньше 29.8 - 14.4 не имеет смысла, так как их меньшенство и на результат они оказывают небольшое влияние. То есть гипотеза о том, что выживаемость зависит от возраста не отражает действительность "
      ]
    },
    {
      "cell_type": "code",
      "metadata": {
        "colab": {
          "base_uri": "https://localhost:8080/"
        },
        "id": "yaj3AWdlLuWm",
        "outputId": "47a7952e-c67e-40ff-d456-c62bf49d4ac7"
      },
      "source": [
        "women = passengers[passengers['Sex'] == 'female']\n",
        "sum(women['Survived'])/len(women)"
      ],
      "execution_count": 10,
      "outputs": [
        {
          "output_type": "execute_result",
          "data": {
            "text/plain": [
              "0.8261802575107297"
            ]
          },
          "metadata": {},
          "execution_count": 10
        }
      ]
    },
    {
      "cell_type": "markdown",
      "metadata": {
        "id": "JlaGkRm6QJvy"
      },
      "source": [
        "82.6% женщин выжило"
      ]
    },
    {
      "cell_type": "code",
      "metadata": {
        "colab": {
          "base_uri": "https://localhost:8080/"
        },
        "id": "EIirOXR_M6Bb",
        "outputId": "17fd456b-833f-4c87-f0c8-09485381be8c"
      },
      "source": [
        "men = passengers[passengers['Sex'] == 'male']\n",
        "sum(men['Survived'])/len(men)"
      ],
      "execution_count": 11,
      "outputs": [
        {
          "output_type": "execute_result",
          "data": {
            "text/plain": [
              "0.12930011862396204"
            ]
          },
          "metadata": {},
          "execution_count": 11
        }
      ]
    },
    {
      "cell_type": "markdown",
      "metadata": {
        "id": "ImIL4iO-RIp5"
      },
      "source": [
        "12.9% мужчин выжило"
      ]
    },
    {
      "cell_type": "code",
      "metadata": {
        "colab": {
          "base_uri": "https://localhost:8080/"
        },
        "id": "joM6PEHl649K",
        "outputId": "cdb31754-9b1e-4857-d4b4-d7144f4d231f"
      },
      "source": [
        "elderly = passengers[passengers['Age'] >= 44]\n",
        "sum(elderly['Survived'])/len(elderly)"
      ],
      "execution_count": 12,
      "outputs": [
        {
          "output_type": "execute_result",
          "data": {
            "text/plain": [
              "0.4032258064516129"
            ]
          },
          "metadata": {},
          "execution_count": 12
        }
      ]
    },
    {
      "cell_type": "code",
      "metadata": {
        "colab": {
          "base_uri": "https://localhost:8080/"
        },
        "id": "qAGbbdSL7GSq",
        "outputId": "a4c57b96-a01a-437f-cfd1-54de5bafd406"
      },
      "source": [
        "young = passengers[passengers['Age'] < 18]\n",
        "sum(young['Survived'])/len(young)"
      ],
      "execution_count": 13,
      "outputs": [
        {
          "output_type": "execute_result",
          "data": {
            "text/plain": [
              "0.5064935064935064"
            ]
          },
          "metadata": {},
          "execution_count": 13
        }
      ]
    },
    {
      "cell_type": "code",
      "metadata": {
        "colab": {
          "base_uri": "https://localhost:8080/"
        },
        "id": "VPhrdr87RYIh",
        "outputId": "4b529087-218f-4dcf-e2bf-3ca016e7d7fd"
      },
      "source": [
        "elderly_women = women[women['Age'] >= 44]\n",
        "sum(elderly_women['Survived'])/len(elderly_women)"
      ],
      "execution_count": 14,
      "outputs": [
        {
          "output_type": "execute_result",
          "data": {
            "text/plain": [
              "0.8823529411764706"
            ]
          },
          "metadata": {},
          "execution_count": 14
        }
      ]
    },
    {
      "cell_type": "code",
      "metadata": {
        "colab": {
          "base_uri": "https://localhost:8080/"
        },
        "id": "Wl2qAdxiRrnq",
        "outputId": "a2564910-7a72-42d0-da3e-631f4e677955"
      },
      "source": [
        "elderly_men = men[men['Age'] >= 44]\n",
        "sum(elderly_men['Survived'])/len(elderly_men)"
      ],
      "execution_count": 15,
      "outputs": [
        {
          "output_type": "execute_result",
          "data": {
            "text/plain": [
              "0.1271186440677966"
            ]
          },
          "metadata": {},
          "execution_count": 15
        }
      ]
    },
    {
      "cell_type": "code",
      "metadata": {
        "colab": {
          "base_uri": "https://localhost:8080/"
        },
        "id": "A8OnFwqpN0jt",
        "outputId": "5874e030-04f4-4a36-ce4a-3b6efffc1f0e"
      },
      "source": [
        "children_female = women[(women['Age'] < 18)]\n",
        "sum(children_female['Survived'])/len(children_female)"
      ],
      "execution_count": 16,
      "outputs": [
        {
          "output_type": "execute_result",
          "data": {
            "text/plain": [
              "0.7638888888888888"
            ]
          },
          "metadata": {},
          "execution_count": 16
        }
      ]
    },
    {
      "cell_type": "code",
      "metadata": {
        "colab": {
          "base_uri": "https://localhost:8080/"
        },
        "id": "2gOM9aAC6icu",
        "outputId": "d7a0d4a0-01f2-4e67-82ba-bd36ae7415e3"
      },
      "source": [
        "children_male = men[men['Age'] <= 18]\n",
        "sum(children_male['Survived'])/len(children_male)"
      ],
      "execution_count": 17,
      "outputs": [
        {
          "output_type": "execute_result",
          "data": {
            "text/plain": [
              "0.2376237623762376"
            ]
          },
          "metadata": {},
          "execution_count": 17
        }
      ]
    },
    {
      "cell_type": "markdown",
      "metadata": {
        "id": "oaqMo4Mb7_iz"
      },
      "source": [
        "По полученным данным нельзя с уверенностью сказать как возраст влияет на выживаемость, остаётся только детальнее рассмотреть данный признак"
      ]
    },
    {
      "cell_type": "code",
      "metadata": {
        "id": "BI6bhE7k8P-6"
      },
      "source": [
        "import seaborn as sns\n",
        "import matplotlib.pyplot as plt"
      ],
      "execution_count": 18,
      "outputs": []
    },
    {
      "cell_type": "code",
      "metadata": {
        "colab": {
          "base_uri": "https://localhost:8080/",
          "height": 602
        },
        "id": "0pxuL25s6xii",
        "outputId": "651f53a4-b664-42ed-8110-4558be98353d"
      },
      "source": [
        "survived = 'survived'\n",
        "not_survived = 'not survived'\n",
        "fig, axes = plt.subplots(nrows=1, ncols=2,figsize=(16, 8))\n",
        "ax = sns.distplot(women[women['Survived']==1].Age.dropna(), bins=18, label = survived, ax = axes[0], kde =False, color=\"green\")\n",
        "ax = sns.distplot(women[women['Survived']==0].Age.dropna(), bins=18, label = not_survived, ax = axes[0], kde =False, color=\"red\")\n",
        "ax.legend()\n",
        "ax.set_title('Female')\n",
        "ax = sns.distplot(men[men['Survived']==1].Age.dropna(), bins=18, label = survived, ax = axes[1], kde = False, color=\"green\")\n",
        "ax = sns.distplot(men[men['Survived']==0].Age.dropna(), bins=40, label = not_survived, ax = axes[1], kde = False, color=\"red\")\n",
        "ax.legend()\n",
        "_ = ax.set_title('Male');"
      ],
      "execution_count": 19,
      "outputs": [
        {
          "output_type": "stream",
          "name": "stderr",
          "text": [
            "/usr/local/lib/python3.7/dist-packages/seaborn/distributions.py:2619: FutureWarning: `distplot` is a deprecated function and will be removed in a future version. Please adapt your code to use either `displot` (a figure-level function with similar flexibility) or `histplot` (an axes-level function for histograms).\n",
            "  warnings.warn(msg, FutureWarning)\n",
            "/usr/local/lib/python3.7/dist-packages/seaborn/distributions.py:2619: FutureWarning: `distplot` is a deprecated function and will be removed in a future version. Please adapt your code to use either `displot` (a figure-level function with similar flexibility) or `histplot` (an axes-level function for histograms).\n",
            "  warnings.warn(msg, FutureWarning)\n",
            "/usr/local/lib/python3.7/dist-packages/seaborn/distributions.py:2619: FutureWarning: `distplot` is a deprecated function and will be removed in a future version. Please adapt your code to use either `displot` (a figure-level function with similar flexibility) or `histplot` (an axes-level function for histograms).\n",
            "  warnings.warn(msg, FutureWarning)\n",
            "/usr/local/lib/python3.7/dist-packages/seaborn/distributions.py:2619: FutureWarning: `distplot` is a deprecated function and will be removed in a future version. Please adapt your code to use either `displot` (a figure-level function with similar flexibility) or `histplot` (an axes-level function for histograms).\n",
            "  warnings.warn(msg, FutureWarning)\n"
          ]
        },
        {
          "output_type": "display_data",
          "data": {
            "image/png": "[encoded data removed]",
            "text/plain": [
              "<Figure size 1152x576 with 2 Axes>"
            ]
          },
          "metadata": {
            "needs_background": "light"
          }
        }
      ]
    },
    {
      "cell_type": "markdown",
      "metadata": {
        "id": "Sq0rsOTm_qfk"
      },
      "source": [
        "Гипотеза с тем, что должны были спастись старики и дети не подтвердилась.\n",
        "\n",
        "На графике для Female видно, что самое большое количество выживших в районе 20+ лет, также есть всплеск около 0+ лет. Ещё стоит отметить, что частично изначальная гипотеза работает, так как нет смертей среди детей 0+ и стариков 60+ \n",
        "\n",
        "На графике для Male можно наблюдать повышенную смертность в районе 20+ лет. Всплеск в районе 0+ лет подобен как на графике для Female."
      ]
    },
    {
      "cell_type": "markdown",
      "metadata": {
        "id": "2oqG5jJcBjhM"
      },
      "source": [
        "### Проверим признаки 'Class', 'Embarked' и 'Fare'\n",
        "Для начала разберёмся с признаком 'Class' и 'Embarked'\n"
      ]
    },
    {
      "cell_type": "code",
      "metadata": {
        "colab": {
          "base_uri": "https://localhost:8080/",
          "height": 296
        },
        "id": "VPIe3oKACTfT",
        "outputId": "5b3ea45e-749f-490c-96db-9e6b9e50ab4e"
      },
      "source": [
        "sns.barplot(data=passengers, x='Pclass', y='Survived')"
      ],
      "execution_count": 20,
      "outputs": [
        {
          "output_type": "execute_result",
          "data": {
            "text/plain": [
              "<matplotlib.axes._subplots.AxesSubplot at 0x7f1ab305b250>"
            ]
          },
          "metadata": {},
          "execution_count": 20
        },
        {
          "output_type": "display_data",
          "data": {
            "image/png": "[encoded data removed]",
            "text/plain": [
              "<Figure size 432x288 with 1 Axes>"
            ]
          },
          "metadata": {
            "needs_background": "light"
          }
        }
      ]
    },
    {
      "cell_type": "code",
      "metadata": {
        "colab": {
          "base_uri": "https://localhost:8080/",
          "height": 291
        },
        "id": "jxq-sgVl2W2x",
        "outputId": "2b2d3742-1935-402a-ed47-98cc2e696fe2"
      },
      "source": [
        "plt.rc('xtick', labelsize=14) \n",
        "plt.rc('ytick', labelsize=14)\n",
        "\n",
        "plt.figure()\n",
        "fig = passengers.groupby('Survived')['Pclass'].plot.hist(histtype= 'bar', alpha = 0.7)\n",
        "plt.legend(('Died','Survived'), fontsize = 12)\n",
        "plt.xlabel('Pclass', fontsize = 18)\n",
        "plt.show()"
      ],
      "execution_count": 21,
      "outputs": [
        {
          "output_type": "display_data",
          "data": {
            "image/png": "[encoded data removed]",
            "text/plain": [
              "<Figure size 432x288 with 1 Axes>"
            ]
          },
          "metadata": {
            "needs_background": "light"
          }
        }
      ]
    },
    {
      "cell_type": "code",
      "metadata": {
        "colab": {
          "base_uri": "https://localhost:8080/",
          "height": 300
        },
        "id": "8HtjFVjLCtUN",
        "outputId": "b2d81034-5ce1-452f-9a8f-5a1df4a1a0a8"
      },
      "source": [
        "sns.barplot(data=passengers, x='Embarked', y='Survived')"
      ],
      "execution_count": 22,
      "outputs": [
        {
          "output_type": "execute_result",
          "data": {
            "text/plain": [
              "<matplotlib.axes._subplots.AxesSubplot at 0x7f1ab2add850>"
            ]
          },
          "metadata": {},
          "execution_count": 22
        },
        {
          "output_type": "display_data",
          "data": {
            "image/png": "[encoded data removed]",
            "text/plain": [
              "<Figure size 432x288 with 1 Axes>"
            ]
          },
          "metadata": {
            "needs_background": "light"
          }
        }
      ]
    },
    {
      "cell_type": "code",
      "metadata": {
        "colab": {
          "base_uri": "https://localhost:8080/",
          "height": 624
        },
        "id": "mNi60-diDUFe",
        "outputId": "468b8922-df46-47e4-e246-20b4c93d10ab"
      },
      "source": [
        "survived = 'survived'\n",
        "not_survived = 'not survived'\n",
        "fig, axes = plt.subplots(figsize=(12, 8))\n",
        "ax = sns.distplot(passengers[passengers['Survived']==1].Fare.dropna(), bins=40, label = survived, kde =False, color=\"green\")\n",
        "ax = sns.distplot(passengers[passengers['Survived']==0].Fare.dropna(), bins=40, label = not_survived, kde =False, color=\"red\")\n",
        "ax.legend()\n",
        "ax.set_title('Fare_Survived')"
      ],
      "execution_count": 23,
      "outputs": [
        {
          "output_type": "stream",
          "name": "stderr",
          "text": [
            "/usr/local/lib/python3.7/dist-packages/seaborn/distributions.py:2619: FutureWarning: `distplot` is a deprecated function and will be removed in a future version. Please adapt your code to use either `displot` (a figure-level function with similar flexibility) or `histplot` (an axes-level function for histograms).\n",
            "  warnings.warn(msg, FutureWarning)\n",
            "/usr/local/lib/python3.7/dist-packages/seaborn/distributions.py:2619: FutureWarning: `distplot` is a deprecated function and will be removed in a future version. Please adapt your code to use either `displot` (a figure-level function with similar flexibility) or `histplot` (an axes-level function for histograms).\n",
            "  warnings.warn(msg, FutureWarning)\n"
          ]
        },
        {
          "output_type": "execute_result",
          "data": {
            "text/plain": [
              "Text(0.5, 1.0, 'Fare_Survived')"
            ]
          },
          "metadata": {},
          "execution_count": 23
        },
        {
          "output_type": "display_data",
          "data": {
            "image/png": "[encoded data removed]",
            "text/plain": [
              "<Figure size 864x576 with 1 Axes>"
            ]
          },
          "metadata": {
            "needs_background": "light"
          }
        }
      ]
    },
    {
      "cell_type": "markdown",
      "metadata": {
        "id": "5hHimI2peM0k"
      },
      "source": [
        "## Сделаем препроцессинг данных:\n",
        "\n"
      ]
    },
    {
      "cell_type": "markdown",
      "metadata": {
        "id": "T9QaSPoGW-GH"
      },
      "source": [
        "### 0.   Почистим признаки\n",
        "которые по мнению автора не могли повлиять на выживаемость пассажира и которые тяжкло интерпретировать (Name| PassengerID|  Ticket| Cabin| Age)\n",
        "\n",
        "'Cabin' - возможно данный признак мог повлиять на то, выживет ли пассажир, но непонятно как преобразовать эти данные.\n",
        "\n",
        "Далее создадим ещё копию дата сета, так как данный (с категориальными признаками без One-hot encoding) будем использовать с CatBoost"
      ]
    },
    {
      "cell_type": "code",
      "metadata": {
        "id": "riRHI5i4eA_w",
        "colab": {
          "base_uri": "https://localhost:8080/",
          "height": 206
        },
        "outputId": "3047582d-2453-46a8-88de-083470aff22e"
      },
      "source": [
        "passengers_for_cat_boost = passengers.copy()\n",
        "passengers_for_cat_boost = passengers_for_cat_boost.drop(['Name', 'Ticket', 'Cabin', 'PassengerId', 'Age'], axis = 1)\n",
        "passengers_dropped = passengers_for_cat_boost\n",
        "passengers_for_cat_boost.head()"
      ],
      "execution_count": 24,
      "outputs": [
        {
          "output_type": "execute_result",
          "data": {
            "text/html": [
              "<div>\n",
              "<style scoped>\n",
              "    .dataframe tbody tr th:only-of-type {\n",
              "        vertical-align: middle;\n",
              "    }\n",
              "\n",
              "    .dataframe tbody tr th {\n",
              "        vertical-align: top;\n",
              "    }\n",
              "\n",
              "    .dataframe thead th {\n",
              "        text-align: right;\n",
              "    }\n",
              "</style>\n",
              "<table border=\"1\" class=\"dataframe\">\n",
              "  <thead>\n",
              "    <tr style=\"text-align: right;\">\n",
              "      <th></th>\n",
              "      <th>Pclass</th>\n",
              "      <th>Sex</th>\n",
              "      <th>SibSp</th>\n",
              "      <th>Parch</th>\n",
              "      <th>Fare</th>\n",
              "      <th>Embarked</th>\n",
              "      <th>Survived</th>\n",
              "    </tr>\n",
              "  </thead>\n",
              "  <tbody>\n",
              "    <tr>\n",
              "      <th>0</th>\n",
              "      <td>3</td>\n",
              "      <td>male</td>\n",
              "      <td>1</td>\n",
              "      <td>0</td>\n",
              "      <td>7.2500</td>\n",
              "      <td>S</td>\n",
              "      <td>0</td>\n",
              "    </tr>\n",
              "    <tr>\n",
              "      <th>1</th>\n",
              "      <td>1</td>\n",
              "      <td>female</td>\n",
              "      <td>1</td>\n",
              "      <td>0</td>\n",
              "      <td>71.2833</td>\n",
              "      <td>C</td>\n",
              "      <td>1</td>\n",
              "    </tr>\n",
              "    <tr>\n",
              "      <th>2</th>\n",
              "      <td>3</td>\n",
              "      <td>female</td>\n",
              "      <td>0</td>\n",
              "      <td>0</td>\n",
              "      <td>7.9250</td>\n",
              "      <td>S</td>\n",
              "      <td>1</td>\n",
              "    </tr>\n",
              "    <tr>\n",
              "      <th>3</th>\n",
              "      <td>1</td>\n",
              "      <td>female</td>\n",
              "      <td>1</td>\n",
              "      <td>0</td>\n",
              "      <td>53.1000</td>\n",
              "      <td>S</td>\n",
              "      <td>1</td>\n",
              "    </tr>\n",
              "    <tr>\n",
              "      <th>4</th>\n",
              "      <td>3</td>\n",
              "      <td>male</td>\n",
              "      <td>0</td>\n",
              "      <td>0</td>\n",
              "      <td>8.0500</td>\n",
              "      <td>S</td>\n",
              "      <td>0</td>\n",
              "    </tr>\n",
              "  </tbody>\n",
              "</table>\n",
              "</div>"
            ],
            "text/plain": [
              "   Pclass     Sex  SibSp  Parch     Fare Embarked  Survived\n",
              "0       3    male      1      0   7.2500        S         0\n",
              "1       1  female      1      0  71.2833        C         1\n",
              "2       3  female      0      0   7.9250        S         1\n",
              "3       1  female      1      0  53.1000        S         1\n",
              "4       3    male      0      0   8.0500        S         0"
            ]
          },
          "metadata": {},
          "execution_count": 24
        }
      ]
    },
    {
      "cell_type": "markdown",
      "metadata": {
        "id": "XKnuuaalhv1z"
      },
      "source": [
        "### 1. Произведём кодирование столбца 'Sex'  \n",
        "\n",
        "Взаимооднозначное соответствие\n",
        "\n",
        "1.   List item\n",
        "2.   List item\n",
        "\n",
        "\n",
        "$$ male \\leftrightarrow 0 $$ \n",
        "$$ female \\leftrightarrow 1 $$\n"
      ]
    },
    {
      "cell_type": "code",
      "metadata": {
        "colab": {
          "base_uri": "https://localhost:8080/",
          "height": 424
        },
        "id": "PfSt3n45ivP0",
        "outputId": "911b1266-bcb8-458a-885e-703935531168"
      },
      "source": [
        "passengers_dropped = passengers_dropped.replace({'male': 0, 'female': 1})\n",
        "passengers_dropped"
      ],
      "execution_count": 25,
      "outputs": [
        {
          "output_type": "execute_result",
          "data": {
            "text/html": [
              "<div>\n",
              "<style scoped>\n",
              "    .dataframe tbody tr th:only-of-type {\n",
              "        vertical-align: middle;\n",
              "    }\n",
              "\n",
              "    .dataframe tbody tr th {\n",
              "        vertical-align: top;\n",
              "    }\n",
              "\n",
              "    .dataframe thead th {\n",
              "        text-align: right;\n",
              "    }\n",
              "</style>\n",
              "<table border=\"1\" class=\"dataframe\">\n",
              "  <thead>\n",
              "    <tr style=\"text-align: right;\">\n",
              "      <th></th>\n",
              "      <th>Pclass</th>\n",
              "      <th>Sex</th>\n",
              "      <th>SibSp</th>\n",
              "      <th>Parch</th>\n",
              "      <th>Fare</th>\n",
              "      <th>Embarked</th>\n",
              "      <th>Survived</th>\n",
              "    </tr>\n",
              "  </thead>\n",
              "  <tbody>\n",
              "    <tr>\n",
              "      <th>0</th>\n",
              "      <td>3</td>\n",
              "      <td>0</td>\n",
              "      <td>1</td>\n",
              "      <td>0</td>\n",
              "      <td>7.2500</td>\n",
              "      <td>S</td>\n",
              "      <td>0</td>\n",
              "    </tr>\n",
              "    <tr>\n",
              "      <th>1</th>\n",
              "      <td>1</td>\n",
              "      <td>1</td>\n",
              "      <td>1</td>\n",
              "      <td>0</td>\n",
              "      <td>71.2833</td>\n",
              "      <td>C</td>\n",
              "      <td>1</td>\n",
              "    </tr>\n",
              "    <tr>\n",
              "      <th>2</th>\n",
              "      <td>3</td>\n",
              "      <td>1</td>\n",
              "      <td>0</td>\n",
              "      <td>0</td>\n",
              "      <td>7.9250</td>\n",
              "      <td>S</td>\n",
              "      <td>1</td>\n",
              "    </tr>\n",
              "    <tr>\n",
              "      <th>3</th>\n",
              "      <td>1</td>\n",
              "      <td>1</td>\n",
              "      <td>1</td>\n",
              "      <td>0</td>\n",
              "      <td>53.1000</td>\n",
              "      <td>S</td>\n",
              "      <td>1</td>\n",
              "    </tr>\n",
              "    <tr>\n",
              "      <th>4</th>\n",
              "      <td>3</td>\n",
              "      <td>0</td>\n",
              "      <td>0</td>\n",
              "      <td>0</td>\n",
              "      <td>8.0500</td>\n",
              "      <td>S</td>\n",
              "      <td>0</td>\n",
              "    </tr>\n",
              "    <tr>\n",
              "      <th>...</th>\n",
              "      <td>...</td>\n",
              "      <td>...</td>\n",
              "      <td>...</td>\n",
              "      <td>...</td>\n",
              "      <td>...</td>\n",
              "      <td>...</td>\n",
              "      <td>...</td>\n",
              "    </tr>\n",
              "    <tr>\n",
              "      <th>1304</th>\n",
              "      <td>3</td>\n",
              "      <td>0</td>\n",
              "      <td>0</td>\n",
              "      <td>0</td>\n",
              "      <td>8.0500</td>\n",
              "      <td>S</td>\n",
              "      <td>0</td>\n",
              "    </tr>\n",
              "    <tr>\n",
              "      <th>1305</th>\n",
              "      <td>1</td>\n",
              "      <td>1</td>\n",
              "      <td>0</td>\n",
              "      <td>0</td>\n",
              "      <td>108.9000</td>\n",
              "      <td>C</td>\n",
              "      <td>1</td>\n",
              "    </tr>\n",
              "    <tr>\n",
              "      <th>1306</th>\n",
              "      <td>3</td>\n",
              "      <td>0</td>\n",
              "      <td>0</td>\n",
              "      <td>0</td>\n",
              "      <td>7.2500</td>\n",
              "      <td>S</td>\n",
              "      <td>0</td>\n",
              "    </tr>\n",
              "    <tr>\n",
              "      <th>1307</th>\n",
              "      <td>3</td>\n",
              "      <td>0</td>\n",
              "      <td>0</td>\n",
              "      <td>0</td>\n",
              "      <td>8.0500</td>\n",
              "      <td>S</td>\n",
              "      <td>0</td>\n",
              "    </tr>\n",
              "    <tr>\n",
              "      <th>1308</th>\n",
              "      <td>3</td>\n",
              "      <td>0</td>\n",
              "      <td>1</td>\n",
              "      <td>1</td>\n",
              "      <td>22.3583</td>\n",
              "      <td>C</td>\n",
              "      <td>0</td>\n",
              "    </tr>\n",
              "  </tbody>\n",
              "</table>\n",
              "<p>1309 rows × 7 columns</p>\n",
              "</div>"
            ],
            "text/plain": [
              "      Pclass  Sex  SibSp  Parch      Fare Embarked  Survived\n",
              "0          3    0      1      0    7.2500        S         0\n",
              "1          1    1      1      0   71.2833        C         1\n",
              "2          3    1      0      0    7.9250        S         1\n",
              "3          1    1      1      0   53.1000        S         1\n",
              "4          3    0      0      0    8.0500        S         0\n",
              "...      ...  ...    ...    ...       ...      ...       ...\n",
              "1304       3    0      0      0    8.0500        S         0\n",
              "1305       1    1      0      0  108.9000        C         1\n",
              "1306       3    0      0      0    7.2500        S         0\n",
              "1307       3    0      0      0    8.0500        S         0\n",
              "1308       3    0      1      1   22.3583        C         0\n",
              "\n",
              "[1309 rows x 7 columns]"
            ]
          },
          "metadata": {},
          "execution_count": 25
        }
      ]
    },
    {
      "cell_type": "markdown",
      "metadata": {
        "id": "_DJwAsHX-yQZ"
      },
      "source": [
        "### 2. Произведём кодирование столбца 'Embarked' \n",
        "\n"
      ]
    },
    {
      "cell_type": "code",
      "metadata": {
        "colab": {
          "base_uri": "https://localhost:8080/",
          "height": 424
        },
        "id": "VvzOA-BP_KTe",
        "outputId": "fe240953-fb66-48db-d02c-3cf65ef8d7c8"
      },
      "source": [
        "dummy_features = pd.get_dummies(passengers_dropped['Embarked'])\n",
        "passengers_dropped_encoded = passengers_dropped.drop('Embarked', axis=1)\n",
        "passengers_dropped_encoded = pd.concat([passengers_dropped_encoded, dummy_features], axis=1)\n",
        "passengers_dropped_encoded"
      ],
      "execution_count": 26,
      "outputs": [
        {
          "output_type": "execute_result",
          "data": {
            "text/html": [
              "<div>\n",
              "<style scoped>\n",
              "    .dataframe tbody tr th:only-of-type {\n",
              "        vertical-align: middle;\n",
              "    }\n",
              "\n",
              "    .dataframe tbody tr th {\n",
              "        vertical-align: top;\n",
              "    }\n",
              "\n",
              "    .dataframe thead th {\n",
              "        text-align: right;\n",
              "    }\n",
              "</style>\n",
              "<table border=\"1\" class=\"dataframe\">\n",
              "  <thead>\n",
              "    <tr style=\"text-align: right;\">\n",
              "      <th></th>\n",
              "      <th>Pclass</th>\n",
              "      <th>Sex</th>\n",
              "      <th>SibSp</th>\n",
              "      <th>Parch</th>\n",
              "      <th>Fare</th>\n",
              "      <th>Survived</th>\n",
              "      <th>C</th>\n",
              "      <th>Q</th>\n",
              "      <th>S</th>\n",
              "    </tr>\n",
              "  </thead>\n",
              "  <tbody>\n",
              "    <tr>\n",
              "      <th>0</th>\n",
              "      <td>3</td>\n",
              "      <td>0</td>\n",
              "      <td>1</td>\n",
              "      <td>0</td>\n",
              "      <td>7.2500</td>\n",
              "      <td>0</td>\n",
              "      <td>0</td>\n",
              "      <td>0</td>\n",
              "      <td>1</td>\n",
              "    </tr>\n",
              "    <tr>\n",
              "      <th>1</th>\n",
              "      <td>1</td>\n",
              "      <td>1</td>\n",
              "      <td>1</td>\n",
              "      <td>0</td>\n",
              "      <td>71.2833</td>\n",
              "      <td>1</td>\n",
              "      <td>1</td>\n",
              "      <td>0</td>\n",
              "      <td>0</td>\n",
              "    </tr>\n",
              "    <tr>\n",
              "      <th>2</th>\n",
              "      <td>3</td>\n",
              "      <td>1</td>\n",
              "      <td>0</td>\n",
              "      <td>0</td>\n",
              "      <td>7.9250</td>\n",
              "      <td>1</td>\n",
              "      <td>0</td>\n",
              "      <td>0</td>\n",
              "      <td>1</td>\n",
              "    </tr>\n",
              "    <tr>\n",
              "      <th>3</th>\n",
              "      <td>1</td>\n",
              "      <td>1</td>\n",
              "      <td>1</td>\n",
              "      <td>0</td>\n",
              "      <td>53.1000</td>\n",
              "      <td>1</td>\n",
              "      <td>0</td>\n",
              "      <td>0</td>\n",
              "      <td>1</td>\n",
              "    </tr>\n",
              "    <tr>\n",
              "      <th>4</th>\n",
              "      <td>3</td>\n",
              "      <td>0</td>\n",
              "      <td>0</td>\n",
              "      <td>0</td>\n",
              "      <td>8.0500</td>\n",
              "      <td>0</td>\n",
              "      <td>0</td>\n",
              "      <td>0</td>\n",
              "      <td>1</td>\n",
              "    </tr>\n",
              "    <tr>\n",
              "      <th>...</th>\n",
              "      <td>...</td>\n",
              "      <td>...</td>\n",
              "      <td>...</td>\n",
              "      <td>...</td>\n",
              "      <td>...</td>\n",
              "      <td>...</td>\n",
              "      <td>...</td>\n",
              "      <td>...</td>\n",
              "      <td>...</td>\n",
              "    </tr>\n",
              "    <tr>\n",
              "      <th>1304</th>\n",
              "      <td>3</td>\n",
              "      <td>0</td>\n",
              "      <td>0</td>\n",
              "      <td>0</td>\n",
              "      <td>8.0500</td>\n",
              "      <td>0</td>\n",
              "      <td>0</td>\n",
              "      <td>0</td>\n",
              "      <td>1</td>\n",
              "    </tr>\n",
              "    <tr>\n",
              "      <th>1305</th>\n",
              "      <td>1</td>\n",
              "      <td>1</td>\n",
              "      <td>0</td>\n",
              "      <td>0</td>\n",
              "      <td>108.9000</td>\n",
              "      <td>1</td>\n",
              "      <td>1</td>\n",
              "      <td>0</td>\n",
              "      <td>0</td>\n",
              "    </tr>\n",
              "    <tr>\n",
              "      <th>1306</th>\n",
              "      <td>3</td>\n",
              "      <td>0</td>\n",
              "      <td>0</td>\n",
              "      <td>0</td>\n",
              "      <td>7.2500</td>\n",
              "      <td>0</td>\n",
              "      <td>0</td>\n",
              "      <td>0</td>\n",
              "      <td>1</td>\n",
              "    </tr>\n",
              "    <tr>\n",
              "      <th>1307</th>\n",
              "      <td>3</td>\n",
              "      <td>0</td>\n",
              "      <td>0</td>\n",
              "      <td>0</td>\n",
              "      <td>8.0500</td>\n",
              "      <td>0</td>\n",
              "      <td>0</td>\n",
              "      <td>0</td>\n",
              "      <td>1</td>\n",
              "    </tr>\n",
              "    <tr>\n",
              "      <th>1308</th>\n",
              "      <td>3</td>\n",
              "      <td>0</td>\n",
              "      <td>1</td>\n",
              "      <td>1</td>\n",
              "      <td>22.3583</td>\n",
              "      <td>0</td>\n",
              "      <td>1</td>\n",
              "      <td>0</td>\n",
              "      <td>0</td>\n",
              "    </tr>\n",
              "  </tbody>\n",
              "</table>\n",
              "<p>1309 rows × 9 columns</p>\n",
              "</div>"
            ],
            "text/plain": [
              "      Pclass  Sex  SibSp  Parch      Fare  Survived  C  Q  S\n",
              "0          3    0      1      0    7.2500         0  0  0  1\n",
              "1          1    1      1      0   71.2833         1  1  0  0\n",
              "2          3    1      0      0    7.9250         1  0  0  1\n",
              "3          1    1      1      0   53.1000         1  0  0  1\n",
              "4          3    0      0      0    8.0500         0  0  0  1\n",
              "...      ...  ...    ...    ...       ...       ... .. .. ..\n",
              "1304       3    0      0      0    8.0500         0  0  0  1\n",
              "1305       1    1      0      0  108.9000         1  1  0  0\n",
              "1306       3    0      0      0    7.2500         0  0  0  1\n",
              "1307       3    0      0      0    8.0500         0  0  0  1\n",
              "1308       3    0      1      1   22.3583         0  1  0  0\n",
              "\n",
              "[1309 rows x 9 columns]"
            ]
          },
          "metadata": {},
          "execution_count": 26
        }
      ]
    },
    {
      "cell_type": "markdown",
      "metadata": {
        "id": "gsjf85OPg5hc"
      },
      "source": [
        "### 2. Расправляемся с NaN\n",
        "Можно просто убрать данные, можно попробовать заполнить средними значениями, либо попробовать предсказать самостоятельно на основании других признаков. \n",
        "\n",
        "Будем просто избавляться от данных\n",
        "\n",
        "\n"
      ]
    },
    {
      "cell_type": "code",
      "metadata": {
        "colab": {
          "base_uri": "https://localhost:8080/"
        },
        "id": "B3KNpou_8NIm",
        "outputId": "f3c5a0d9-6c6c-443e-c8ca-3a4f1d3a022c"
      },
      "source": [
        "passengers_dropped_encoded.info()"
      ],
      "execution_count": 27,
      "outputs": [
        {
          "output_type": "stream",
          "name": "stdout",
          "text": [
            "<class 'pandas.core.frame.DataFrame'>\n",
            "RangeIndex: 1309 entries, 0 to 1308\n",
            "Data columns (total 9 columns):\n",
            " #   Column    Non-Null Count  Dtype  \n",
            "---  ------    --------------  -----  \n",
            " 0   Pclass    1309 non-null   int64  \n",
            " 1   Sex       1309 non-null   int64  \n",
            " 2   SibSp     1309 non-null   int64  \n",
            " 3   Parch     1309 non-null   int64  \n",
            " 4   Fare      1308 non-null   float64\n",
            " 5   Survived  1309 non-null   int64  \n",
            " 6   C         1309 non-null   uint8  \n",
            " 7   Q         1309 non-null   uint8  \n",
            " 8   S         1309 non-null   uint8  \n",
            "dtypes: float64(1), int64(5), uint8(3)\n",
            "memory usage: 65.3 KB\n"
          ]
        }
      ]
    },
    {
      "cell_type": "code",
      "metadata": {
        "colab": {
          "base_uri": "https://localhost:8080/"
        },
        "id": "toGfHKjZyMxw",
        "outputId": "41eb2687-1cf8-4225-fc44-6c69fea3c4c0"
      },
      "source": [
        "passengers_dropped_encoded = passengers_dropped_encoded.dropna(axis=0, how='any')\n",
        "passengers_dropped_encoded.info()"
      ],
      "execution_count": 28,
      "outputs": [
        {
          "output_type": "stream",
          "name": "stdout",
          "text": [
            "<class 'pandas.core.frame.DataFrame'>\n",
            "Int64Index: 1308 entries, 0 to 1308\n",
            "Data columns (total 9 columns):\n",
            " #   Column    Non-Null Count  Dtype  \n",
            "---  ------    --------------  -----  \n",
            " 0   Pclass    1308 non-null   int64  \n",
            " 1   Sex       1308 non-null   int64  \n",
            " 2   SibSp     1308 non-null   int64  \n",
            " 3   Parch     1308 non-null   int64  \n",
            " 4   Fare      1308 non-null   float64\n",
            " 5   Survived  1308 non-null   int64  \n",
            " 6   C         1308 non-null   uint8  \n",
            " 7   Q         1308 non-null   uint8  \n",
            " 8   S         1308 non-null   uint8  \n",
            "dtypes: float64(1), int64(5), uint8(3)\n",
            "memory usage: 75.4 KB\n"
          ]
        }
      ]
    },
    {
      "cell_type": "markdown",
      "metadata": {
        "id": "Ilx88Tg2qcB7"
      },
      "source": [
        "### 3. Проведём разделение и нормализацию данных\n",
        "\n",
        "\n",
        "\n"
      ]
    },
    {
      "cell_type": "markdown",
      "metadata": {
        "id": "KkbUqA8SfBQw"
      },
      "source": [
        "Предварительно разделим данные на train и test, чтобы в результате нормализации не было утечки данных из тестовой выборки"
      ]
    },
    {
      "cell_type": "code",
      "metadata": {
        "id": "2MIKIpp2WYNu"
      },
      "source": [
        "from sklearn.model_selection import train_test_split"
      ],
      "execution_count": 29,
      "outputs": []
    },
    {
      "cell_type": "code",
      "metadata": {
        "id": "aJt598n9fAzP"
      },
      "source": [
        "X = passengers_dropped_encoded.drop(['Survived'], axis=1)\n",
        "y = passengers_dropped_encoded['Survived']\n",
        "X_train, X_test, y_train, y_test = train_test_split(X.values, y.values, train_size=0.8, random_state=47)"
      ],
      "execution_count": 30,
      "outputs": []
    },
    {
      "cell_type": "markdown",
      "metadata": {
        "id": "wUMscRE8g9HE"
      },
      "source": [
        "Собственно сама нормализация через стандартное отклонение $$z = \\frac{x - \\mu}{\\sigma}, \\text{где $\\sigma$ - стандартное отклонение, а  $\\mu$ - среднее}$$"
      ]
    },
    {
      "cell_type": "code",
      "metadata": {
        "id": "aH-C4Qr_cjUK"
      },
      "source": [
        "from sklearn.preprocessing import StandardScaler\n",
        "\n",
        "scaler = StandardScaler()\n",
        "\n",
        "X_train_scaled = scaler.fit_transform(X_train)\n",
        "X_test_scaled = scaler.transform(X_test)"
      ],
      "execution_count": 31,
      "outputs": []
    },
    {
      "cell_type": "markdown",
      "metadata": {
        "id": "RT5vE5oFBDm2"
      },
      "source": [
        "## Подберём оптимальную модель\n"
      ]
    },
    {
      "cell_type": "markdown",
      "metadata": {
        "id": "xRIA00F4OWIl"
      },
      "source": [
        "### Попробуем классификаторы kNN, Decision Tree"
      ]
    },
    {
      "cell_type": "code",
      "metadata": {
        "id": "OBVBG8cxBDA2"
      },
      "source": [
        "from sklearn.neighbors import KNeighborsClassifier\n",
        "from sklearn.tree import DecisionTreeClassifier\n",
        "\n",
        "from sklearn.model_selection import GridSearchCV\n",
        "from sklearn.model_selection import RandomizedSearchCV\n",
        "\n",
        "from sklearn.metrics import roc_auc_score\n",
        "from sklearn.metrics import roc_auc_score, roc_curve"
      ],
      "execution_count": 32,
      "outputs": []
    },
    {
      "cell_type": "markdown",
      "metadata": {
        "id": "Zl4ZPWbpOyet"
      },
      "source": [
        "Также для подбора гиперпараметров напишем функцию, визуализирующую поиск оптимального значения гиперпараметра по сетке"
      ]
    },
    {
      "cell_type": "code",
      "metadata": {
        "id": "gV0ORYE4PVuF"
      },
      "source": [
        "def search_and_draw(X, y, model, param_name, grid, param_scale='ordinary', draw=True):\n",
        "    parameters = {param_name: grid}\n",
        "    \n",
        "    CV_model = GridSearchCV(estimator=model, \n",
        "                            param_grid=parameters,\n",
        "                            cv=5, \n",
        "                            scoring='f1',\n",
        "                            n_jobs=-1, \n",
        "                            verbose=10)\n",
        "    CV_model.fit(X, y)\n",
        "    means = CV_model.cv_results_['mean_test_score']\n",
        "    error = CV_model.cv_results_['std_test_score']\n",
        "\n",
        "    if draw:\n",
        "        y_train_predicted = CV_model.predict_proba(X)[:, 1]\n",
        "        y_test_predicted = CV_model.predict_proba(X_test_scaled)[:, 1]\n",
        "\n",
        "        train_auc = roc_auc_score(y_train, y_train_predicted)\n",
        "        test_auc = roc_auc_score(y_test, y_test_predicted)\n",
        "\n",
        "        plt.figure(figsize=(10,7))\n",
        "        plt.plot(*roc_curve(y_train, y_train_predicted)[:2], label='train AUC={:.4f}'.format(train_auc))\n",
        "        plt.plot(*roc_curve(y_test, y_test_predicted)[:2], label='test AUC={:.4f}'.format(test_auc))\n",
        "        legend_box = plt.legend(fontsize='large', framealpha=1).get_frame()\n",
        "        legend_box.set_facecolor(\"white\")\n",
        "        legend_box.set_edgecolor(\"black\")\n",
        "        plt.plot(np.linspace(0,1,100), np.linspace(0,1,100))\n",
        "        plt.show()\n",
        "\n",
        "        plt.figure(figsize=(15,8))\n",
        "        plt.title('choose ' + param_name)\n",
        "\n",
        "\n",
        "        if (param_scale == 'log'):\n",
        "            plt.xscale('log')\n",
        "\n",
        "        plt.plot(grid, means, label='mean values of score', color='red', lw=3)\n",
        "\n",
        "        # plt.fill_between(grid, means - 2 * error, means + 2 * error, \n",
        "        #                  color='green', label='filled area between errors', alpha=0.5)\n",
        "        legend_box = plt.legend(framealpha=1).get_frame()\n",
        "        legend_box.set_facecolor(\"white\")\n",
        "        legend_box.set_edgecolor(\"black\")\n",
        "        plt.xlabel('parameter')\n",
        "        plt.ylabel('roc_auc')\n",
        "        plt.show()\n",
        "        \n",
        "    return means, error"
      ],
      "execution_count": 33,
      "outputs": []
    },
    {
      "cell_type": "code",
      "metadata": {
        "id": "DN7a6Mz_PXq9"
      },
      "source": [
        "models = [KNeighborsClassifier(), DecisionTreeClassifier()]\n",
        "param_names = ['n_neighbors', 'max_depth', 'n_estimators']\n",
        "grids = [np.array(np.linspace(4, 50, 8), dtype='int'), np.arange(3, 80, 8)]\n",
        "param_scales = ['ordinary', 'ordinary']"
      ],
      "execution_count": 34,
      "outputs": []
    },
    {
      "cell_type": "markdown",
      "metadata": {
        "id": "lk5Grj-cScNW"
      },
      "source": [
        "Сравним результаты, если мы будем использовать данные с нормализацией и без"
      ]
    },
    {
      "cell_type": "code",
      "metadata": {
        "colab": {
          "base_uri": "https://localhost:8080/",
          "height": 1000
        },
        "id": "pj6PRXSAQQpF",
        "outputId": "e8fe3398-43b1-4821-d5be-a2e44015863b"
      },
      "source": [
        "for model, param_name, grid, param_scale in zip(models,# С нормализацией \n",
        "                                                param_names, \n",
        "                                                grids, \n",
        "                                                param_scales):\n",
        "    search_and_draw(X_train_scaled, y_train, model, param_name, grid, param_scale)"
      ],
      "execution_count": 35,
      "outputs": [
        {
          "output_type": "stream",
          "name": "stdout",
          "text": [
            "Fitting 5 folds for each of 8 candidates, totalling 40 fits\n"
          ]
        },
        {
          "output_type": "stream",
          "name": "stderr",
          "text": [
            "[Parallel(n_jobs=-1)]: Using backend LokyBackend with 2 concurrent workers.\n",
            "[Parallel(n_jobs=-1)]: Done   1 tasks      | elapsed:    0.9s\n",
            "[Parallel(n_jobs=-1)]: Done   4 tasks      | elapsed:    1.0s\n",
            "[Parallel(n_jobs=-1)]: Done   9 tasks      | elapsed:    1.1s\n",
            "[Parallel(n_jobs=-1)]: Batch computation too fast (0.1923s.) Setting batch_size=2.\n",
            "[Parallel(n_jobs=-1)]: Done  14 tasks      | elapsed:    1.1s\n",
            "[Parallel(n_jobs=-1)]: Batch computation too fast (0.0706s.) Setting batch_size=4.\n",
            "[Parallel(n_jobs=-1)]: Done  28 tasks      | elapsed:    1.3s\n",
            "[Parallel(n_jobs=-1)]: Batch computation too fast (0.1265s.) Setting batch_size=8.\n",
            "[Parallel(n_jobs=-1)]: Done  32 out of  40 | elapsed:    1.3s remaining:    0.3s\n",
            "[Parallel(n_jobs=-1)]: Done  40 out of  40 | elapsed:    1.4s finished\n"
          ]
        },
        {
          "output_type": "display_data",
          "data": {
            "image/png": "[encoded data removed]",
            "text/plain": [
              "<Figure size 720x504 with 1 Axes>"
            ]
          },
          "metadata": {
            "needs_background": "light"
          }
        },
        {
          "output_type": "display_data",
          "data": {
            "image/png": "[encoded data removed]",
            "text/plain": [
              "<Figure size 1080x576 with 1 Axes>"
            ]
          },
          "metadata": {
            "needs_background": "light"
          }
        },
        {
          "output_type": "stream",
          "name": "stdout",
          "text": [
            "Fitting 5 folds for each of 10 candidates, totalling 50 fits\n"
          ]
        },
        {
          "output_type": "stream",
          "name": "stderr",
          "text": [
            "[Parallel(n_jobs=-1)]: Using backend LokyBackend with 2 concurrent workers.\n",
            "[Parallel(n_jobs=-1)]: Done   1 tasks      | elapsed:    0.0s\n",
            "[Parallel(n_jobs=-1)]: Batch computation too fast (0.0186s.) Setting batch_size=2.\n",
            "[Parallel(n_jobs=-1)]: Done   4 tasks      | elapsed:    0.0s\n",
            "[Parallel(n_jobs=-1)]: Batch computation too fast (0.0198s.) Setting batch_size=4.\n",
            "[Parallel(n_jobs=-1)]: Done  16 tasks      | elapsed:    0.1s\n",
            "[Parallel(n_jobs=-1)]: Batch computation too fast (0.0299s.) Setting batch_size=8.\n",
            "[Parallel(n_jobs=-1)]: Batch computation too fast (0.0500s.) Setting batch_size=16.\n",
            "[Parallel(n_jobs=-1)]: Done  37 tasks      | elapsed:    0.1s\n",
            "[Parallel(n_jobs=-1)]: Done  50 out of  50 | elapsed:    0.2s finished\n"
          ]
        },
        {
          "output_type": "display_data",
          "data": {
            "image/png": "[encoded data removed]",
            "text/plain": [
              "<Figure size 720x504 with 1 Axes>"
            ]
          },
          "metadata": {
            "needs_background": "light"
          }
        },
        {
          "output_type": "display_data",
          "data": {
            "image/png": "[encoded data removed]",
            "text/plain": [
              "<Figure size 1080x576 with 1 Axes>"
            ]
          },
          "metadata": {
            "needs_background": "light"
          }
        }
      ]
    },
    {
      "cell_type": "code",
      "metadata": {
        "colab": {
          "base_uri": "https://localhost:8080/",
          "height": 1000
        },
        "id": "3nAqRLerS0Vg",
        "outputId": "d4f5eabe-67df-4631-dbe2-e7379843cb55"
      },
      "source": [
        "for model, param_name, grid, param_scale in zip(models,# Без нормализации\n",
        "                                                param_names, \n",
        "                                                grids, \n",
        "                                                param_scales):\n",
        "    search_and_draw(X_train, y_train, model, param_name, grid, param_scale)"
      ],
      "execution_count": 36,
      "outputs": [
        {
          "output_type": "stream",
          "name": "stdout",
          "text": [
            "Fitting 5 folds for each of 8 candidates, totalling 40 fits\n"
          ]
        },
        {
          "output_type": "stream",
          "name": "stderr",
          "text": [
            "[Parallel(n_jobs=-1)]: Using backend LokyBackend with 2 concurrent workers.\n",
            "[Parallel(n_jobs=-1)]: Done   1 tasks      | elapsed:    0.0s\n",
            "[Parallel(n_jobs=-1)]: Batch computation too fast (0.0208s.) Setting batch_size=2.\n",
            "[Parallel(n_jobs=-1)]: Done   4 tasks      | elapsed:    0.1s\n",
            "[Parallel(n_jobs=-1)]: Batch computation too fast (0.0562s.) Setting batch_size=4.\n",
            "[Parallel(n_jobs=-1)]: Done  16 tasks      | elapsed:    0.2s\n",
            "[Parallel(n_jobs=-1)]: Batch computation too fast (0.1109s.) Setting batch_size=8.\n",
            "[Parallel(n_jobs=-1)]: Done  30 tasks      | elapsed:    0.3s\n",
            "[Parallel(n_jobs=-1)]: Done  37 tasks      | elapsed:    0.4s\n",
            "[Parallel(n_jobs=-1)]: Done  40 out of  40 | elapsed:    0.4s finished\n"
          ]
        },
        {
          "output_type": "display_data",
          "data": {
            "image/png": "[encoded data removed]",
            "text/plain": [
              "<Figure size 720x504 with 1 Axes>"
            ]
          },
          "metadata": {
            "needs_background": "light"
          }
        },
        {
          "output_type": "display_data",
          "data": {
            "image/png": "[encoded data removed]",
            "text/plain": [
              "<Figure size 1080x576 with 1 Axes>"
            ]
          },
          "metadata": {
            "needs_background": "light"
          }
        },
        {
          "output_type": "stream",
          "name": "stdout",
          "text": [
            "Fitting 5 folds for each of 10 candidates, totalling 50 fits\n"
          ]
        },
        {
          "output_type": "stream",
          "name": "stderr",
          "text": [
            "[Parallel(n_jobs=-1)]: Using backend LokyBackend with 2 concurrent workers.\n",
            "[Parallel(n_jobs=-1)]: Done   1 tasks      | elapsed:    0.0s\n",
            "[Parallel(n_jobs=-1)]: Batch computation too fast (0.0137s.) Setting batch_size=2.\n",
            "[Parallel(n_jobs=-1)]: Done   4 tasks      | elapsed:    0.0s\n",
            "[Parallel(n_jobs=-1)]: Batch computation too fast (0.0207s.) Setting batch_size=4.\n",
            "[Parallel(n_jobs=-1)]: Done  16 tasks      | elapsed:    0.1s\n",
            "[Parallel(n_jobs=-1)]: Batch computation too fast (0.0392s.) Setting batch_size=8.\n",
            "[Parallel(n_jobs=-1)]: Batch computation too fast (0.1420s.) Setting batch_size=16.\n",
            "[Parallel(n_jobs=-1)]: Done  37 tasks      | elapsed:    0.2s\n",
            "[Parallel(n_jobs=-1)]: Done  41 out of  50 | elapsed:    0.3s remaining:    0.1s\n",
            "[Parallel(n_jobs=-1)]: Done  50 out of  50 | elapsed:    0.3s finished\n"
          ]
        },
        {
          "output_type": "display_data",
          "data": {
            "image/png": "[encoded data removed]",
            "text/plain": [
              "<Figure size 720x504 with 1 Axes>"
            ]
          },
          "metadata": {
            "needs_background": "light"
          }
        },
        {
          "output_type": "display_data",
          "data": {
            "image/png": "[encoded data removed]",
            "text/plain": [
              "<Figure size 1080x576 with 1 Axes>"
            ]
          },
          "metadata": {
            "needs_background": "light"
          }
        }
      ]
    },
    {
      "cell_type": "markdown",
      "metadata": {
        "id": "elwDpkJ42-Fu"
      },
      "source": [
        "### Попробуем Random Forest\n"
      ]
    },
    {
      "cell_type": "code",
      "metadata": {
        "id": "TMwnSyRfeCYz"
      },
      "source": [
        "from sklearn.ensemble import RandomForestClassifier\n",
        "from sklearn.model_selection import cross_val_score\n",
        "\n",
        "from sklearn.model_selection import KFold\n",
        "from sklearn.metrics import roc_auc_score\n",
        "from tqdm.notebook import tqdm"
      ],
      "execution_count": 37,
      "outputs": []
    },
    {
      "cell_type": "code",
      "metadata": {
        "colab": {
          "base_uri": "https://localhost:8080/",
          "height": 49,
          "referenced_widgets": [
            "f3ffbbebf8af4ed98e97d2bea382a7fb",
            "a268e7c885124a4d9cd33832e344bd1f",
            "3061d8d06cb84ac9a81e9d86974de868",
            "91fa3809fd86486288d1f1d4e3c72fbd",
            "30466defe11547b49165bb98278a88d4",
            "bdb5cf2610664dbebd6ea2511eaef0b5",
            "bbb04416ad6d4d959766d08ccff0ef50",
            "c8722ab0febf407488b0f7b9cf2e7bfb",
            "71d4406d57574c9381c3aaaa7e59ed73",
            "0be28b5078624ec6933f40d0623420e6",
            "50d0f613471d44f7a90582408f67348d",
            "6205622ba71b46e1b5d6f2bbe238d66a",
            "08c3706a4816428192b6a5eb12b5ef98",
            "bf9ac9ab31c34a2a92757fc01040529a",
            "18dfa264c1e34028ab643fe2b1f7ff79",
            "2d1206393a4947a4b43c438bb28bd94e",
            "2e2c6d62c136487aa3cc6105c4c41d38",
            "43a5e97f8fd64e6b94a88ab941ef875d",
            "8be5fb73a88f4152a78d801820f21be0",
            "66d08e6db4cd469db843794956cda3e9",
            "5eb67ea553044e1a83eac41164249275",
            "def8decc1454406ab8f2ad21e7fc16cb"
          ]
        },
        "id": "cQ9lvsyXd--1",
        "outputId": "62c79796-28bb-4b7f-a251-2996536717f6"
      },
      "source": [
        "max_trees = 200\n",
        "\n",
        "values = np.arange(max_trees) + 1\n",
        "\n",
        "kf = KFold(n_splits=5, shuffle=True, random_state=42)\n",
        "\n",
        "global_scores = []\n",
        "\n",
        "for train_indices, val_indices in tqdm(kf.split(X_train), total=5):\n",
        "    scores = []\n",
        "    \n",
        "    X_train_kf = X_train_scaled[train_indices]\n",
        "    y_train_kf = y_train[train_indices]\n",
        "    \n",
        "    X_val_kf = X_train[val_indices]\n",
        "    y_val_kf = y_train[val_indices]\n",
        "    \n",
        "    forest = RandomForestClassifier(n_estimators=max_trees)\n",
        "    forest.fit(X_train_kf, y_train_kf)\n",
        "    trees = forest.estimators_\n",
        "    \n",
        "    for number_of_trees in tqdm(values, leave=False):\n",
        "        thinned_forest = RandomForestClassifier(n_estimators=number_of_trees)\n",
        "        \n",
        "        thinned_forest.n_classes_ = 2\n",
        "        thinned_forest.estimators_ = trees[:number_of_trees]\n",
        "\n",
        "        scores.append(roc_auc_score(y_val_kf, thinned_forest.predict_proba(X_val_kf)[:, 1]))\n",
        "    \n",
        "    scores = np.array(scores)\n",
        "    \n",
        "    global_scores.append(scores)\n",
        "\n",
        "global_scores = np.stack(global_scores, axis=0)"
      ],
      "execution_count": 38,
      "outputs": [
        {
          "output_type": "display_data",
          "data": {
            "application/vnd.jupyter.widget-view+json": {
              "model_id": "f3ffbbebf8af4ed98e97d2bea382a7fb",
              "version_minor": 0,
              "version_major": 2
            },
            "text/plain": [
              "  0%|          | 0/5 [00:00<?, ?it/s]"
            ]
          },
          "metadata": {}
        },
        {
          "output_type": "display_data",
          "data": {
            "application/vnd.jupyter.widget-view+json": {
              "model_id": "6205622ba71b46e1b5d6f2bbe238d66a",
              "version_minor": 0,
              "version_major": 2
            },
            "text/plain": [
              "  0%|          | 0/200 [00:00<?, ?it/s]"
            ]
          },
          "metadata": {}
        },
        {
          "output_type": "display_data",
          "data": {
            "application/vnd.jupyter.widget-view+json": {
              "model_id": "ed3fea3e4eb44ee1bcfa5c0f1c2d705e",
              "version_minor": 0,
              "version_major": 2
            },
            "text/plain": [
              "  0%|          | 0/200 [00:00<?, ?it/s]"
            ]
          },
          "metadata": {}
        },
        {
          "output_type": "display_data",
          "data": {
            "application/vnd.jupyter.widget-view+json": {
              "model_id": "0a2fd9cd0258460c9941f2c6e4c7d4af",
              "version_minor": 0,
              "version_major": 2
            },
            "text/plain": [
              "  0%|          | 0/200 [00:00<?, ?it/s]"
            ]
          },
          "metadata": {}
        },
        {
          "output_type": "display_data",
          "data": {
            "application/vnd.jupyter.widget-view+json": {
              "model_id": "ab2e68ff0f01417e88993fa3651b9bf2",
              "version_minor": 0,
              "version_major": 2
            },
            "text/plain": [
              "  0%|          | 0/200 [00:00<?, ?it/s]"
            ]
          },
          "metadata": {}
        },
        {
          "output_type": "display_data",
          "data": {
            "application/vnd.jupyter.widget-view+json": {
              "model_id": "301dc7c299814c8da218318d7ad2ae0e",
              "version_minor": 0,
              "version_major": 2
            },
            "text/plain": [
              "  0%|          | 0/200 [00:00<?, ?it/s]"
            ]
          },
          "metadata": {}
        }
      ]
    },
    {
      "cell_type": "code",
      "metadata": {
        "colab": {
          "base_uri": "https://localhost:8080/",
          "height": 462
        },
        "id": "t8RzvbzUeOac",
        "outputId": "548a2697-e5a8-48ad-97d9-27a129bbd65b"
      },
      "source": [
        "mean_cross_val_score = global_scores.mean(axis=0)\n",
        "std_cross_val_score = global_scores.std(axis=0)\n",
        "\n",
        "plt.figure(figsize=(15,8))\n",
        "plt.title('Quality of random forest')\n",
        "\n",
        "plt.plot(values, mean_cross_val_score, label='mean values', color='red', lw=3)\n",
        "plt.fill_between(values, \n",
        "                 mean_cross_val_score - 2 * std_cross_val_score, \n",
        "                 mean_cross_val_score + 2 * std_cross_val_score, \n",
        "                 color='green', \n",
        "                 label='filled area between errors',\n",
        "                 alpha=0.5)\n",
        "legend_box = plt.legend(framealpha=1).get_frame()\n",
        "legend_box.set_facecolor(\"white\")\n",
        "legend_box.set_edgecolor(\"black\")\n",
        "plt.xlabel('number of trees')\n",
        "plt.ylabel('roc-auc')\n",
        "\n",
        "plt.show()"
      ],
      "execution_count": 39,
      "outputs": [
        {
          "output_type": "display_data",
          "data": {
            "image/png": "[encoded data removed]",
            "text/plain": [
              "<Figure size 1080x576 with 1 Axes>"
            ]
          },
          "metadata": {
            "needs_background": "light"
          }
        }
      ]
    },
    {
      "cell_type": "code",
      "metadata": {
        "id": "5HPxpf7ZgVKO"
      },
      "source": [
        "model = RandomForestClassifier(n_estimators=115, n_jobs=-1)\n",
        "\n",
        "model.fit(X_train, y_train)\n",
        "y_train_predicted = model.predict_proba(X_train)[:, 1]\n",
        "y_test_predicted = model.predict_proba(X_test)[:, 1]"
      ],
      "execution_count": 40,
      "outputs": []
    },
    {
      "cell_type": "code",
      "metadata": {
        "id": "LuFKwASkgWre"
      },
      "source": [
        "from sklearn.metrics import roc_auc_score, roc_curve"
      ],
      "execution_count": 41,
      "outputs": []
    },
    {
      "cell_type": "code",
      "metadata": {
        "colab": {
          "base_uri": "https://localhost:8080/",
          "height": 414
        },
        "id": "-l1d5a2NgX7-",
        "outputId": "5ea6251c-5ab7-4e32-aca3-001fe77a185b"
      },
      "source": [
        "train_auc = roc_auc_score(y_train, y_train_predicted)\n",
        "test_auc = roc_auc_score(y_test, y_test_predicted)\n",
        "\n",
        "plt.figure(figsize=(20,10))\n",
        "plt.plot(*roc_curve(y_train, y_train_predicted)[:2], label='train AUC={:.4f}'.format(train_auc))\n",
        "plt.plot(*roc_curve(y_test, y_test_predicted)[:2], label='test AUC={:.4f}'.format(test_auc))\n",
        "legend_box = plt.legend(fontsize='large', framealpha=1).get_frame()\n",
        "legend_box.set_facecolor(\"white\")\n",
        "legend_box.set_edgecolor(\"black\")\n",
        "plt.plot(np.linspace(0,1,100), np.linspace(0,1,100))\n",
        "plt.show()"
      ],
      "execution_count": 42,
      "outputs": [
        {
          "output_type": "display_data",
          "data": {
            "image/png": "[encoded data removed]",
            "text/plain": [
              "<Figure size 1440x720 with 1 Axes>"
            ]
          },
          "metadata": {
            "needs_background": "light"
          }
        }
      ]
    },
    {
      "cell_type": "markdown",
      "metadata": {
        "id": "kH4mlkRum_if"
      },
      "source": [
        "### Попробуем стекинг моделей"
      ]
    },
    {
      "cell_type": "code",
      "metadata": {
        "id": "GvigF3UmgX1F"
      },
      "source": [
        "from sklearn.model_selection import cross_val_predict"
      ],
      "execution_count": 43,
      "outputs": []
    },
    {
      "cell_type": "code",
      "metadata": {
        "id": "CVLbyZmWhGXW"
      },
      "source": [
        "def compute_meta_feature(model, X_train, X_test, y_train, cv):\n",
        "    try:\n",
        "        train_answers = cross_val_predict(model, X_train, y_train, cv=cv, method='predict_proba')[:, 1]\n",
        "        model.fit(X_train, y_train)\n",
        "        return train_answers, model.predict_proba(X_test)[:, 1]\n",
        "    \n",
        "    except Exception:\n",
        "        train_answers = cross_val_predict(model, X_train, y_train, cv=cv, method='predict')[:, 1]\n",
        "        model.fit(X_train, y_train)\n",
        "        return train_answers, model.predict(X_test)[:, 1]"
      ],
      "execution_count": 44,
      "outputs": []
    },
    {
      "cell_type": "code",
      "metadata": {
        "id": "FLDt8NyGhKB_"
      },
      "source": [
        "from sklearn.ensemble import RandomForestClassifier\n",
        "from sklearn.linear_model import LogisticRegression\n",
        "from sklearn.neighbors import KNeighborsClassifier"
      ],
      "execution_count": 45,
      "outputs": []
    },
    {
      "cell_type": "code",
      "metadata": {
        "id": "kuP9rsrbhLtO"
      },
      "source": [
        "models = []\n",
        "models.append(KNeighborsClassifier(n_jobs=-1, n_neighbors=11))\n",
        "models.append(LogisticRegression())\n",
        "models.append(RandomForestClassifier(max_depth=3, n_estimators=115, n_jobs=-1))\n",
        "models.append(RandomForestClassifier(max_depth=7, n_estimators=115, n_jobs=-1))\n",
        "models.append(DecisionTreeClassifier(max_depth=8))"
      ],
      "execution_count": 46,
      "outputs": []
    },
    {
      "cell_type": "code",
      "metadata": {
        "id": "jk5AHddFheSp"
      },
      "source": [
        "meta_features_train = np.zeros((X_train.shape[0], 0))\n",
        "meta_features_test = np.zeros((X_test.shape[0], 0))"
      ],
      "execution_count": 47,
      "outputs": []
    },
    {
      "cell_type": "code",
      "metadata": {
        "colab": {
          "base_uri": "https://localhost:8080/",
          "height": 625,
          "referenced_widgets": [
            "13423aef042743109894179c554a5731",
            "76533d9995ab4f2eaf3c426ade55fd99",
            "6edd9d399d05429fbc5907f0328e65c5",
            "29d92e4c56c244ba9a4c5456bbc54239",
            "e154f59cece64f8792828e2730b47ba3",
            "803f0a899b504073a02fa26b3ce46ca6",
            "8141b36204b246a0ae67f090657fe382",
            "abc2ed43a87a4b71851fe2ea6f9ea1d1",
            "d1f0f9dd6164417b9fe94a6fc4f98ea8",
            "aa220defd7a243fc9a02931762989476",
            "d29b1ad0519947e38afcfa1ff54bb21e"
          ]
        },
        "id": "E3yYmyEEhgAf",
        "outputId": "eee72d6c-14d6-46ad-d941-febb1f0086c7"
      },
      "source": [
        "for model in tqdm(models):\n",
        "    train, test = compute_meta_feature(model, X_train, X_test, y_train, 5)\n",
        "    meta_features_train = np.append(meta_features_train, train.reshape((train.size, 1)), axis=1)\n",
        "    meta_features_test = np.append(meta_features_test, test.reshape((test.size, 1)), axis=1)"
      ],
      "execution_count": 48,
      "outputs": [
        {
          "output_type": "display_data",
          "data": {
            "application/vnd.jupyter.widget-view+json": {
              "model_id": "13423aef042743109894179c554a5731",
              "version_minor": 0,
              "version_major": 2
            },
            "text/plain": [
              "  0%|          | 0/5 [00:00<?, ?it/s]"
            ]
          },
          "metadata": {}
        },
        {
          "output_type": "stream",
          "name": "stderr",
          "text": [
            "/usr/local/lib/python3.7/dist-packages/sklearn/linear_model/_logistic.py:940: ConvergenceWarning: lbfgs failed to converge (status=1):\n",
            "STOP: TOTAL NO. of ITERATIONS REACHED LIMIT.\n",
            "\n",
            "Increase the number of iterations (max_iter) or scale the data as shown in:\n",
            "    https://scikit-learn.org/stable/modules/preprocessing.html\n",
            "Please also refer to the documentation for alternative solver options:\n",
            "    https://scikit-learn.org/stable/modules/linear_model.html#logistic-regression\n",
            "  extra_warning_msg=_LOGISTIC_SOLVER_CONVERGENCE_MSG)\n",
            "/usr/local/lib/python3.7/dist-packages/sklearn/linear_model/_logistic.py:940: ConvergenceWarning: lbfgs failed to converge (status=1):\n",
            "STOP: TOTAL NO. of ITERATIONS REACHED LIMIT.\n",
            "\n",
            "Increase the number of iterations (max_iter) or scale the data as shown in:\n",
            "    https://scikit-learn.org/stable/modules/preprocessing.html\n",
            "Please also refer to the documentation for alternative solver options:\n",
            "    https://scikit-learn.org/stable/modules/linear_model.html#logistic-regression\n",
            "  extra_warning_msg=_LOGISTIC_SOLVER_CONVERGENCE_MSG)\n",
            "/usr/local/lib/python3.7/dist-packages/sklearn/linear_model/_logistic.py:940: ConvergenceWarning: lbfgs failed to converge (status=1):\n",
            "STOP: TOTAL NO. of ITERATIONS REACHED LIMIT.\n",
            "\n",
            "Increase the number of iterations (max_iter) or scale the data as shown in:\n",
            "    https://scikit-learn.org/stable/modules/preprocessing.html\n",
            "Please also refer to the documentation for alternative solver options:\n",
            "    https://scikit-learn.org/stable/modules/linear_model.html#logistic-regression\n",
            "  extra_warning_msg=_LOGISTIC_SOLVER_CONVERGENCE_MSG)\n",
            "/usr/local/lib/python3.7/dist-packages/sklearn/linear_model/_logistic.py:940: ConvergenceWarning: lbfgs failed to converge (status=1):\n",
            "STOP: TOTAL NO. of ITERATIONS REACHED LIMIT.\n",
            "\n",
            "Increase the number of iterations (max_iter) or scale the data as shown in:\n",
            "    https://scikit-learn.org/stable/modules/preprocessing.html\n",
            "Please also refer to the documentation for alternative solver options:\n",
            "    https://scikit-learn.org/stable/modules/linear_model.html#logistic-regression\n",
            "  extra_warning_msg=_LOGISTIC_SOLVER_CONVERGENCE_MSG)\n"
          ]
        }
      ]
    },
    {
      "cell_type": "code",
      "metadata": {
        "id": "o-r-FOtfhjQO"
      },
      "source": [
        "stacking_model = LogisticRegression()\n",
        "stacking_model.fit(meta_features_train, y_train)\n",
        "\n",
        "y_train_predicted = stacking_model.predict_proba(meta_features_train)[:, 1]\n",
        "y_test_predicted = stacking_model.predict_proba(meta_features_test)[:, 1]"
      ],
      "execution_count": 49,
      "outputs": []
    },
    {
      "cell_type": "code",
      "metadata": {
        "colab": {
          "base_uri": "https://localhost:8080/",
          "height": 432
        },
        "id": "Oopz_RtOhkZI",
        "outputId": "6a604e03-6ba8-4c5a-80ae-7613d7b51e5d"
      },
      "source": [
        "train_auc = roc_auc_score(y_train, y_train_predicted)\n",
        "test_auc = roc_auc_score(y_test, y_test_predicted)\n",
        "\n",
        "plt.figure(figsize=(10,7))\n",
        "plt.plot(*roc_curve(y_train, y_train_predicted)[:2], label='train AUC={:.4f}'.format(train_auc))\n",
        "plt.plot(*roc_curve(y_test, y_test_predicted)[:2], label='test AUC={:.4f}'.format(test_auc))\n",
        "legend_box = plt.legend(fontsize='large', framealpha=1).get_frame()\n",
        "legend_box.set_facecolor(\"white\")\n",
        "legend_box.set_edgecolor(\"black\")\n",
        "plt.plot(np.linspace(0,1,100), np.linspace(0,1,100))\n",
        "plt.show()"
      ],
      "execution_count": 50,
      "outputs": [
        {
          "output_type": "display_data",
          "data": {
            "image/png": "[encoded data removed]",
            "text/plain": [
              "<Figure size 720x504 with 1 Axes>"
            ]
          },
          "metadata": {
            "needs_background": "light"
          }
        }
      ]
    },
    {
      "cell_type": "markdown",
      "metadata": {
        "id": "GElkixyEnDP7"
      },
      "source": [
        "### Попробуем  бустинг"
      ]
    },
    {
      "cell_type": "markdown",
      "metadata": {
        "id": "f-Bdbci3nGE8"
      },
      "source": [
        "#### XG boost"
      ]
    },
    {
      "cell_type": "code",
      "metadata": {
        "id": "cU-QbpoZhzWY"
      },
      "source": [
        "import xgboost"
      ],
      "execution_count": 51,
      "outputs": []
    },
    {
      "cell_type": "code",
      "metadata": {
        "id": "gUTbTys2h11P"
      },
      "source": [
        "boosting_model = xgboost.XGBClassifier(n_estimators=500)\n",
        "\n",
        "boosting_model.fit(X_train, y_train)\n",
        "\n",
        "y_train_predicted = boosting_model.predict_proba(X_train)[:, 1]\n",
        "y_test_predicted = boosting_model.predict_proba(X_test)[:, 1]"
      ],
      "execution_count": 52,
      "outputs": []
    },
    {
      "cell_type": "code",
      "metadata": {
        "colab": {
          "base_uri": "https://localhost:8080/",
          "height": 432
        },
        "id": "BHC2TTykh3LI",
        "outputId": "8f3deb4a-1e84-4def-b64b-8df744b33c68"
      },
      "source": [
        "train_auc = roc_auc_score(y_train, y_train_predicted)\n",
        "test_auc = roc_auc_score(y_test, y_test_predicted)\n",
        "\n",
        "plt.figure(figsize=(10,7))\n",
        "plt.plot(*roc_curve(y_train, y_train_predicted)[:2], label='train AUC={:.4f}'.format(train_auc))\n",
        "plt.plot(*roc_curve(y_test, y_test_predicted)[:2], label='test AUC={:.4f}'.format(test_auc))\n",
        "legend_box = plt.legend(fontsize='large', framealpha=1).get_frame()\n",
        "legend_box.set_facecolor(\"white\")\n",
        "legend_box.set_edgecolor(\"black\")\n",
        "plt.plot(np.linspace(0,1,100), np.linspace(0,1,100))\n",
        "plt.show()"
      ],
      "execution_count": 53,
      "outputs": [
        {
          "output_type": "display_data",
          "data": {
            "image/png": "[encoded data removed]",
            "text/plain": [
              "<Figure size 720x504 with 1 Axes>"
            ]
          },
          "metadata": {
            "needs_background": "light"
          }
        }
      ]
    },
    {
      "cell_type": "markdown",
      "metadata": {
        "id": "yAvxffc5nRGt"
      },
      "source": [
        "#### CAT BOOST (Загруженный результат)"
      ]
    },
    {
      "cell_type": "code",
      "metadata": {
        "colab": {
          "base_uri": "https://localhost:8080/"
        },
        "id": "1UyH9EDSiCRK",
        "outputId": "23793a3e-e790-4554-9fee-6a7078f11f2d"
      },
      "source": [
        "pip install catboost"
      ],
      "execution_count": 54,
      "outputs": [
        {
          "output_type": "stream",
          "name": "stdout",
          "text": [
            "Collecting catboost\n",
            "  Downloading catboost-1.0.0-cp37-none-manylinux1_x86_64.whl (76.4 MB)\n",
            "\u001b[K     |████████████████████████████████| 76.4 MB 21 kB/s \n",
            "\u001b[?25hRequirement already satisfied: scipy in /usr/local/lib/python3.7/dist-packages (from catboost) (1.4.1)\n",
            "Requirement already satisfied: six in /usr/local/lib/python3.7/dist-packages (from catboost) (1.15.0)\n",
            "Requirement already satisfied: pandas>=0.24.0 in /usr/local/lib/python3.7/dist-packages (from catboost) (1.1.5)\n",
            "Requirement already satisfied: graphviz in /usr/local/lib/python3.7/dist-packages (from catboost) (0.10.1)\n",
            "Requirement already satisfied: numpy>=1.16.0 in /usr/local/lib/python3.7/dist-packages (from catboost) (1.19.5)\n",
            "Requirement already satisfied: matplotlib in /usr/local/lib/python3.7/dist-packages (from catboost) (3.2.2)\n",
            "Requirement already satisfied: plotly in /usr/local/lib/python3.7/dist-packages (from catboost) (4.4.1)\n",
            "Requirement already satisfied: python-dateutil>=2.7.3 in /usr/local/lib/python3.7/dist-packages (from pandas>=0.24.0->catboost) (2.8.2)\n",
            "Requirement already satisfied: pytz>=2017.2 in /usr/local/lib/python3.7/dist-packages (from pandas>=0.24.0->catboost) (2018.9)\n",
            "Requirement already satisfied: cycler>=0.10 in /usr/local/lib/python3.7/dist-packages (from matplotlib->catboost) (0.10.0)\n",
            "Requirement already satisfied: pyparsing!=2.0.4,!=2.1.2,!=2.1.6,>=2.0.1 in /usr/local/lib/python3.7/dist-packages (from matplotlib->catboost) (2.4.7)\n",
            "Requirement already satisfied: kiwisolver>=1.0.1 in /usr/local/lib/python3.7/dist-packages (from matplotlib->catboost) (1.3.2)\n",
            "Requirement already satisfied: retrying>=1.3.3 in /usr/local/lib/python3.7/dist-packages (from plotly->catboost) (1.3.3)\n",
            "Installing collected packages: catboost\n",
            "Successfully installed catboost-1.0.0\n"
          ]
        }
      ]
    },
    {
      "cell_type": "code",
      "metadata": {
        "id": "TwXsyTAziGil"
      },
      "source": [
        "import catboost"
      ],
      "execution_count": 55,
      "outputs": []
    },
    {
      "cell_type": "markdown",
      "metadata": {
        "id": "Bg7wxlfBGZvk"
      },
      "source": [
        "Самое время вспомнить про наш датасет без One-hot encoding-а"
      ]
    },
    {
      "cell_type": "code",
      "metadata": {
        "id": "EDYi-PZ8Glf6"
      },
      "source": [
        "passengers_for_cat_boost = passengers_for_cat_boost.dropna(axis=0, how='any')\n",
        "X = passengers_for_cat_boost.drop(['Survived'], axis=1)\n",
        "y = passengers_for_cat_boost['Survived']"
      ],
      "execution_count": 56,
      "outputs": []
    },
    {
      "cell_type": "code",
      "metadata": {
        "id": "JmVV1dHmiHev"
      },
      "source": [
        "X_train_origin, X_test_origin, y_train, y_test = train_test_split(X.values, y.values, \n",
        "                                                       train_size=0.8, \n",
        "                                                       random_state=42)"
      ],
      "execution_count": 57,
      "outputs": []
    },
    {
      "cell_type": "code",
      "metadata": {
        "colab": {
          "base_uri": "https://localhost:8080/"
        },
        "id": "0j976HzfiRrX",
        "outputId": "e8cfe0fa-b2e7-4837-f87c-8c09743a3521"
      },
      "source": [
        "boosting_model = catboost.CatBoostClassifier(n_estimators=200, cat_features=[1, 5])\n",
        "\n",
        "boosting_model.fit(X_train_origin, y_train)\n",
        "\n",
        "y_train_predicted = boosting_model.predict_proba(X_train_origin)[:, 1]\n",
        "y_test_predicted = boosting_model.predict_proba(X_test_origin)[:, 1]"
      ],
      "execution_count": 58,
      "outputs": [
        {
          "output_type": "stream",
          "name": "stdout",
          "text": [
            "Learning rate set to 0.045907\n",
            "0:\tlearn: 0.6565965\ttotal: 51.3ms\tremaining: 10.2s\n",
            "1:\tlearn: 0.6255207\ttotal: 54.4ms\tremaining: 5.38s\n",
            "2:\tlearn: 0.5963501\ttotal: 57ms\tremaining: 3.75s\n",
            "3:\tlearn: 0.5722539\ttotal: 59.3ms\tremaining: 2.91s\n",
            "4:\tlearn: 0.5469196\ttotal: 61.8ms\tremaining: 2.41s\n",
            "5:\tlearn: 0.5288040\ttotal: 63.5ms\tremaining: 2.05s\n",
            "6:\tlearn: 0.5104634\ttotal: 65.8ms\tremaining: 1.81s\n",
            "7:\tlearn: 0.4982790\ttotal: 67.2ms\tremaining: 1.61s\n",
            "8:\tlearn: 0.4833556\ttotal: 69.1ms\tremaining: 1.47s\n",
            "9:\tlearn: 0.4714063\ttotal: 71.3ms\tremaining: 1.35s\n",
            "10:\tlearn: 0.4596370\ttotal: 73.5ms\tremaining: 1.26s\n",
            "11:\tlearn: 0.4522765\ttotal: 74.7ms\tremaining: 1.17s\n",
            "12:\tlearn: 0.4414655\ttotal: 76.8ms\tremaining: 1.1s\n",
            "13:\tlearn: 0.4327899\ttotal: 79ms\tremaining: 1.05s\n",
            "14:\tlearn: 0.4254228\ttotal: 80.7ms\tremaining: 995ms\n",
            "15:\tlearn: 0.4192958\ttotal: 82.7ms\tremaining: 951ms\n",
            "16:\tlearn: 0.4128885\ttotal: 85ms\tremaining: 915ms\n",
            "17:\tlearn: 0.4092153\ttotal: 86.5ms\tremaining: 875ms\n",
            "18:\tlearn: 0.4035954\ttotal: 88.7ms\tremaining: 845ms\n",
            "19:\tlearn: 0.3986777\ttotal: 90.7ms\tremaining: 817ms\n",
            "20:\tlearn: 0.3937121\ttotal: 92.8ms\tremaining: 791ms\n",
            "21:\tlearn: 0.3913765\ttotal: 94.1ms\tremaining: 761ms\n",
            "22:\tlearn: 0.3889016\ttotal: 95.4ms\tremaining: 734ms\n",
            "23:\tlearn: 0.3867160\ttotal: 97ms\tremaining: 711ms\n",
            "24:\tlearn: 0.3850032\ttotal: 98.4ms\tremaining: 689ms\n",
            "25:\tlearn: 0.3805548\ttotal: 101ms\tremaining: 673ms\n",
            "26:\tlearn: 0.3759278\ttotal: 103ms\tremaining: 658ms\n",
            "27:\tlearn: 0.3743338\ttotal: 105ms\tremaining: 643ms\n",
            "28:\tlearn: 0.3709242\ttotal: 107ms\tremaining: 631ms\n",
            "29:\tlearn: 0.3680205\ttotal: 109ms\tremaining: 618ms\n",
            "30:\tlearn: 0.3653216\ttotal: 111ms\tremaining: 607ms\n",
            "31:\tlearn: 0.3644695\ttotal: 113ms\tremaining: 593ms\n",
            "32:\tlearn: 0.3619336\ttotal: 115ms\tremaining: 582ms\n",
            "33:\tlearn: 0.3608542\ttotal: 117ms\tremaining: 572ms\n",
            "34:\tlearn: 0.3591225\ttotal: 119ms\tremaining: 563ms\n",
            "35:\tlearn: 0.3570927\ttotal: 122ms\tremaining: 554ms\n",
            "36:\tlearn: 0.3563040\ttotal: 124ms\tremaining: 545ms\n",
            "37:\tlearn: 0.3548850\ttotal: 126ms\tremaining: 537ms\n",
            "38:\tlearn: 0.3532878\ttotal: 128ms\tremaining: 529ms\n",
            "39:\tlearn: 0.3525744\ttotal: 130ms\tremaining: 522ms\n",
            "40:\tlearn: 0.3514875\ttotal: 132ms\tremaining: 514ms\n",
            "41:\tlearn: 0.3509734\ttotal: 135ms\tremaining: 507ms\n",
            "42:\tlearn: 0.3508330\ttotal: 136ms\tremaining: 498ms\n",
            "43:\tlearn: 0.3505036\ttotal: 138ms\tremaining: 489ms\n",
            "44:\tlearn: 0.3504605\ttotal: 139ms\tremaining: 479ms\n",
            "45:\tlearn: 0.3488743\ttotal: 141ms\tremaining: 474ms\n",
            "46:\tlearn: 0.3486941\ttotal: 143ms\tremaining: 464ms\n",
            "47:\tlearn: 0.3471477\ttotal: 145ms\tremaining: 459ms\n",
            "48:\tlearn: 0.3467406\ttotal: 147ms\tremaining: 453ms\n",
            "49:\tlearn: 0.3466113\ttotal: 149ms\tremaining: 447ms\n",
            "50:\tlearn: 0.3462063\ttotal: 151ms\tremaining: 442ms\n",
            "51:\tlearn: 0.3456029\ttotal: 153ms\tremaining: 436ms\n",
            "52:\tlearn: 0.3451580\ttotal: 156ms\tremaining: 431ms\n",
            "53:\tlearn: 0.3440872\ttotal: 158ms\tremaining: 427ms\n",
            "54:\tlearn: 0.3439372\ttotal: 160ms\tremaining: 421ms\n",
            "55:\tlearn: 0.3432121\ttotal: 162ms\tremaining: 416ms\n",
            "56:\tlearn: 0.3429056\ttotal: 164ms\tremaining: 412ms\n",
            "57:\tlearn: 0.3428675\ttotal: 166ms\tremaining: 406ms\n",
            "58:\tlearn: 0.3426924\ttotal: 168ms\tremaining: 401ms\n",
            "59:\tlearn: 0.3425925\ttotal: 170ms\tremaining: 397ms\n",
            "60:\tlearn: 0.3418491\ttotal: 172ms\tremaining: 393ms\n",
            "61:\tlearn: 0.3417933\ttotal: 174ms\tremaining: 387ms\n",
            "62:\tlearn: 0.3405618\ttotal: 176ms\tremaining: 383ms\n",
            "63:\tlearn: 0.3403982\ttotal: 178ms\tremaining: 378ms\n",
            "64:\tlearn: 0.3402519\ttotal: 180ms\tremaining: 374ms\n",
            "65:\tlearn: 0.3390830\ttotal: 182ms\tremaining: 370ms\n",
            "66:\tlearn: 0.3390249\ttotal: 183ms\tremaining: 364ms\n",
            "67:\tlearn: 0.3386211\ttotal: 186ms\tremaining: 360ms\n",
            "68:\tlearn: 0.3378788\ttotal: 188ms\tremaining: 357ms\n",
            "69:\tlearn: 0.3366720\ttotal: 193ms\tremaining: 359ms\n",
            "70:\tlearn: 0.3363937\ttotal: 196ms\tremaining: 356ms\n",
            "71:\tlearn: 0.3362527\ttotal: 198ms\tremaining: 351ms\n",
            "72:\tlearn: 0.3355446\ttotal: 200ms\tremaining: 348ms\n",
            "73:\tlearn: 0.3345466\ttotal: 202ms\tremaining: 344ms\n",
            "74:\tlearn: 0.3339699\ttotal: 204ms\tremaining: 340ms\n",
            "75:\tlearn: 0.3337993\ttotal: 206ms\tremaining: 337ms\n",
            "76:\tlearn: 0.3337982\ttotal: 207ms\tremaining: 331ms\n",
            "77:\tlearn: 0.3337809\ttotal: 209ms\tremaining: 327ms\n",
            "78:\tlearn: 0.3333528\ttotal: 211ms\tremaining: 323ms\n",
            "79:\tlearn: 0.3330341\ttotal: 213ms\tremaining: 320ms\n",
            "80:\tlearn: 0.3326825\ttotal: 215ms\tremaining: 316ms\n",
            "81:\tlearn: 0.3326798\ttotal: 217ms\tremaining: 312ms\n",
            "82:\tlearn: 0.3321570\ttotal: 219ms\tremaining: 309ms\n",
            "83:\tlearn: 0.3311724\ttotal: 221ms\tremaining: 305ms\n",
            "84:\tlearn: 0.3310294\ttotal: 223ms\tremaining: 301ms\n",
            "85:\tlearn: 0.3308586\ttotal: 225ms\tremaining: 298ms\n",
            "86:\tlearn: 0.3306276\ttotal: 230ms\tremaining: 298ms\n",
            "87:\tlearn: 0.3302379\ttotal: 233ms\tremaining: 296ms\n",
            "88:\tlearn: 0.3297995\ttotal: 237ms\tremaining: 295ms\n",
            "89:\tlearn: 0.3294587\ttotal: 239ms\tremaining: 292ms\n",
            "90:\tlearn: 0.3291587\ttotal: 241ms\tremaining: 289ms\n",
            "91:\tlearn: 0.3290010\ttotal: 243ms\tremaining: 285ms\n",
            "92:\tlearn: 0.3284303\ttotal: 245ms\tremaining: 282ms\n",
            "93:\tlearn: 0.3282105\ttotal: 247ms\tremaining: 279ms\n",
            "94:\tlearn: 0.3279959\ttotal: 249ms\tremaining: 276ms\n",
            "95:\tlearn: 0.3276941\ttotal: 252ms\tremaining: 273ms\n",
            "96:\tlearn: 0.3272034\ttotal: 254ms\tremaining: 270ms\n",
            "97:\tlearn: 0.3271640\ttotal: 255ms\tremaining: 266ms\n",
            "98:\tlearn: 0.3266073\ttotal: 258ms\tremaining: 263ms\n",
            "99:\tlearn: 0.3265227\ttotal: 260ms\tremaining: 260ms\n",
            "100:\tlearn: 0.3260273\ttotal: 262ms\tremaining: 257ms\n",
            "101:\tlearn: 0.3256667\ttotal: 264ms\tremaining: 254ms\n",
            "102:\tlearn: 0.3253554\ttotal: 267ms\tremaining: 251ms\n",
            "103:\tlearn: 0.3251874\ttotal: 269ms\tremaining: 249ms\n",
            "104:\tlearn: 0.3250944\ttotal: 271ms\tremaining: 246ms\n",
            "105:\tlearn: 0.3250882\ttotal: 273ms\tremaining: 242ms\n",
            "106:\tlearn: 0.3247931\ttotal: 275ms\tremaining: 239ms\n",
            "107:\tlearn: 0.3245960\ttotal: 277ms\tremaining: 236ms\n",
            "108:\tlearn: 0.3243878\ttotal: 279ms\tremaining: 233ms\n",
            "109:\tlearn: 0.3242706\ttotal: 281ms\tremaining: 230ms\n",
            "110:\tlearn: 0.3240655\ttotal: 283ms\tremaining: 227ms\n",
            "111:\tlearn: 0.3240503\ttotal: 285ms\tremaining: 224ms\n",
            "112:\tlearn: 0.3238547\ttotal: 287ms\tremaining: 221ms\n",
            "113:\tlearn: 0.3238291\ttotal: 289ms\tremaining: 218ms\n",
            "114:\tlearn: 0.3236033\ttotal: 291ms\tremaining: 215ms\n",
            "115:\tlearn: 0.3235549\ttotal: 294ms\tremaining: 213ms\n",
            "116:\tlearn: 0.3234474\ttotal: 295ms\tremaining: 210ms\n",
            "117:\tlearn: 0.3234225\ttotal: 297ms\tremaining: 206ms\n",
            "118:\tlearn: 0.3229952\ttotal: 299ms\tremaining: 204ms\n",
            "119:\tlearn: 0.3228708\ttotal: 301ms\tremaining: 201ms\n",
            "120:\tlearn: 0.3225362\ttotal: 304ms\tremaining: 198ms\n",
            "121:\tlearn: 0.3223218\ttotal: 306ms\tremaining: 195ms\n",
            "122:\tlearn: 0.3221543\ttotal: 307ms\tremaining: 192ms\n",
            "123:\tlearn: 0.3219524\ttotal: 310ms\tremaining: 190ms\n",
            "124:\tlearn: 0.3214610\ttotal: 312ms\tremaining: 187ms\n",
            "125:\tlearn: 0.3214516\ttotal: 313ms\tremaining: 184ms\n",
            "126:\tlearn: 0.3213836\ttotal: 315ms\tremaining: 181ms\n",
            "127:\tlearn: 0.3212800\ttotal: 318ms\tremaining: 179ms\n",
            "128:\tlearn: 0.3209515\ttotal: 320ms\tremaining: 176ms\n",
            "129:\tlearn: 0.3206694\ttotal: 322ms\tremaining: 173ms\n",
            "130:\tlearn: 0.3203409\ttotal: 324ms\tremaining: 171ms\n",
            "131:\tlearn: 0.3203192\ttotal: 326ms\tremaining: 168ms\n",
            "132:\tlearn: 0.3202732\ttotal: 329ms\tremaining: 165ms\n",
            "133:\tlearn: 0.3200143\ttotal: 332ms\tremaining: 164ms\n",
            "134:\tlearn: 0.3196232\ttotal: 334ms\tremaining: 161ms\n",
            "135:\tlearn: 0.3193475\ttotal: 337ms\tremaining: 158ms\n",
            "136:\tlearn: 0.3191000\ttotal: 339ms\tremaining: 156ms\n",
            "137:\tlearn: 0.3191000\ttotal: 340ms\tremaining: 153ms\n",
            "138:\tlearn: 0.3185605\ttotal: 343ms\tremaining: 150ms\n",
            "139:\tlearn: 0.3180280\ttotal: 345ms\tremaining: 148ms\n",
            "140:\tlearn: 0.3176126\ttotal: 348ms\tremaining: 145ms\n",
            "141:\tlearn: 0.3170636\ttotal: 350ms\tremaining: 143ms\n",
            "142:\tlearn: 0.3168633\ttotal: 352ms\tremaining: 140ms\n",
            "143:\tlearn: 0.3166145\ttotal: 355ms\tremaining: 138ms\n",
            "144:\tlearn: 0.3165323\ttotal: 357ms\tremaining: 135ms\n",
            "145:\tlearn: 0.3162043\ttotal: 359ms\tremaining: 133ms\n",
            "146:\tlearn: 0.3158272\ttotal: 361ms\tremaining: 130ms\n",
            "147:\tlearn: 0.3157043\ttotal: 364ms\tremaining: 128ms\n",
            "148:\tlearn: 0.3156085\ttotal: 366ms\tremaining: 125ms\n",
            "149:\tlearn: 0.3155695\ttotal: 368ms\tremaining: 123ms\n",
            "150:\tlearn: 0.3153458\ttotal: 372ms\tremaining: 121ms\n",
            "151:\tlearn: 0.3152900\ttotal: 377ms\tremaining: 119ms\n",
            "152:\tlearn: 0.3148482\ttotal: 381ms\tremaining: 117ms\n",
            "153:\tlearn: 0.3148482\ttotal: 382ms\tremaining: 114ms\n",
            "154:\tlearn: 0.3141243\ttotal: 384ms\tremaining: 111ms\n",
            "155:\tlearn: 0.3139662\ttotal: 386ms\tremaining: 109ms\n",
            "156:\tlearn: 0.3135380\ttotal: 388ms\tremaining: 106ms\n",
            "157:\tlearn: 0.3134192\ttotal: 391ms\tremaining: 104ms\n",
            "158:\tlearn: 0.3132684\ttotal: 393ms\tremaining: 101ms\n",
            "159:\tlearn: 0.3130346\ttotal: 395ms\tremaining: 98.8ms\n",
            "160:\tlearn: 0.3128042\ttotal: 397ms\tremaining: 96.3ms\n",
            "161:\tlearn: 0.3123510\ttotal: 400ms\tremaining: 93.8ms\n",
            "162:\tlearn: 0.3117366\ttotal: 403ms\tremaining: 91.4ms\n",
            "163:\tlearn: 0.3115412\ttotal: 405ms\tremaining: 88.9ms\n",
            "164:\tlearn: 0.3110491\ttotal: 407ms\tremaining: 86.4ms\n",
            "165:\tlearn: 0.3106949\ttotal: 410ms\tremaining: 83.9ms\n",
            "166:\tlearn: 0.3105260\ttotal: 412ms\tremaining: 81.4ms\n",
            "167:\tlearn: 0.3103204\ttotal: 414ms\tremaining: 78.9ms\n",
            "168:\tlearn: 0.3100201\ttotal: 416ms\tremaining: 76.4ms\n",
            "169:\tlearn: 0.3099871\ttotal: 419ms\tremaining: 73.9ms\n",
            "170:\tlearn: 0.3096800\ttotal: 422ms\tremaining: 71.5ms\n",
            "171:\tlearn: 0.3096225\ttotal: 424ms\tremaining: 69ms\n",
            "172:\tlearn: 0.3093072\ttotal: 426ms\tremaining: 66.5ms\n",
            "173:\tlearn: 0.3091292\ttotal: 428ms\tremaining: 64ms\n",
            "174:\tlearn: 0.3086439\ttotal: 431ms\tremaining: 61.5ms\n",
            "175:\tlearn: 0.3083998\ttotal: 433ms\tremaining: 59ms\n",
            "176:\tlearn: 0.3078063\ttotal: 435ms\tremaining: 56.5ms\n",
            "177:\tlearn: 0.3074010\ttotal: 437ms\tremaining: 54ms\n",
            "178:\tlearn: 0.3073755\ttotal: 438ms\tremaining: 51.4ms\n",
            "179:\tlearn: 0.3067816\ttotal: 440ms\tremaining: 48.9ms\n",
            "180:\tlearn: 0.3066786\ttotal: 442ms\tremaining: 46.4ms\n",
            "181:\tlearn: 0.3064807\ttotal: 445ms\tremaining: 44ms\n",
            "182:\tlearn: 0.3061513\ttotal: 447ms\tremaining: 41.5ms\n",
            "183:\tlearn: 0.3058328\ttotal: 449ms\tremaining: 39.1ms\n",
            "184:\tlearn: 0.3057423\ttotal: 452ms\tremaining: 36.6ms\n",
            "185:\tlearn: 0.3054347\ttotal: 454ms\tremaining: 34.2ms\n",
            "186:\tlearn: 0.3052611\ttotal: 456ms\tremaining: 31.7ms\n",
            "187:\tlearn: 0.3052611\ttotal: 457ms\tremaining: 29.2ms\n",
            "188:\tlearn: 0.3050713\ttotal: 460ms\tremaining: 26.8ms\n",
            "189:\tlearn: 0.3049157\ttotal: 466ms\tremaining: 24.5ms\n",
            "190:\tlearn: 0.3047011\ttotal: 468ms\tremaining: 22.1ms\n",
            "191:\tlearn: 0.3043574\ttotal: 473ms\tremaining: 19.7ms\n",
            "192:\tlearn: 0.3039586\ttotal: 476ms\tremaining: 17.2ms\n",
            "193:\tlearn: 0.3037995\ttotal: 478ms\tremaining: 14.8ms\n",
            "194:\tlearn: 0.3037780\ttotal: 479ms\tremaining: 12.3ms\n",
            "195:\tlearn: 0.3035995\ttotal: 481ms\tremaining: 9.83ms\n",
            "196:\tlearn: 0.3034144\ttotal: 483ms\tremaining: 7.36ms\n",
            "197:\tlearn: 0.3031816\ttotal: 485ms\tremaining: 4.9ms\n",
            "198:\tlearn: 0.3028144\ttotal: 487ms\tremaining: 2.45ms\n",
            "199:\tlearn: 0.3026139\ttotal: 489ms\tremaining: 0us\n"
          ]
        }
      ]
    },
    {
      "cell_type": "code",
      "metadata": {
        "id": "CXzpyhyOiZtZ",
        "colab": {
          "base_uri": "https://localhost:8080/",
          "height": 432
        },
        "outputId": "e87ea981-bf67-42c7-93fb-431023e3be4a"
      },
      "source": [
        "train_auc = roc_auc_score(y_train, y_train_predicted)\n",
        "test_auc = roc_auc_score(y_test, y_test_predicted)\n",
        "\n",
        "plt.figure(figsize=(10,7))\n",
        "plt.plot(*roc_curve(y_train, y_train_predicted)[:2], label='train AUC={:.4f}'.format(train_auc))\n",
        "plt.plot(*roc_curve(y_test, y_test_predicted)[:2], label='test AUC={:.4f}'.format(test_auc))\n",
        "legend_box = plt.legend(fontsize='large', framealpha=1).get_frame()\n",
        "legend_box.set_facecolor(\"white\")\n",
        "legend_box.set_edgecolor(\"black\")\n",
        "plt.plot(np.linspace(0,1,100), np.linspace(0,1,100))\n",
        "plt.show()"
      ],
      "execution_count": 59,
      "outputs": [
        {
          "output_type": "display_data",
          "data": {
            "image/png": "[encoded data removed]",
            "text/plain": [
              "<Figure size 720x504 with 1 Axes>"
            ]
          },
          "metadata": {
            "needs_background": "light"
          }
        }
      ]
    },
    {
      "cell_type": "code",
      "metadata": {
        "id": "F0fvRjraXD37"
      },
      "source": [
        "from sklearn.metrics import roc_auc_score, roc_curve"
      ],
      "execution_count": 60,
      "outputs": []
    },
    {
      "cell_type": "code",
      "metadata": {
        "colab": {
          "base_uri": "https://localhost:8080/",
          "height": 432
        },
        "id": "nInG2W6LW-Ov",
        "outputId": "dd5bddeb-2a68-452b-e2e9-baf4b27d2dbd"
      },
      "source": [
        "train_auc = roc_auc_score(y_train, y_train_predicted)\n",
        "test_auc = roc_auc_score(y_test, y_test_predicted)\n",
        "\n",
        "plt.figure(figsize=(10,7))\n",
        "plt.plot(*roc_curve(y_train, y_train_predicted)[:2], label='train AUC={:.4f}'.format(train_auc))\n",
        "plt.plot(*roc_curve(y_test, y_test_predicted)[:2], label='test AUC={:.4f}'.format(test_auc))\n",
        "legend_box = plt.legend(fontsize='large', framealpha=1).get_frame()\n",
        "legend_box.set_facecolor(\"white\")\n",
        "legend_box.set_edgecolor(\"black\")\n",
        "plt.plot(np.linspace(0,1,100), np.linspace(0,1,100))\n",
        "plt.show()"
      ],
      "execution_count": 61,
      "outputs": [
        {
          "output_type": "display_data",
          "data": {
            "image/png": "[encoded data removed]",
            "text/plain": [
              "<Figure size 720x504 with 1 Axes>"
            ]
          },
          "metadata": {
            "needs_background": "light"
          }
        }
      ]
    },
    {
      "cell_type": "markdown",
      "metadata": {
        "id": "7jqqVzljwUOh"
      },
      "source": [
        "#### Предсказание и выгрузка лучшего результата"
      ]
    },
    {
      "cell_type": "code",
      "metadata": {
        "id": "h2lKXKNXa2Op"
      },
      "source": [
        "test= pd.read_csv('/content/drive/MyDrive/Colab Notebooks/Titanic_data/test.csv')\n",
        "answer = pd.DataFrame()\n",
        "answer['PassengerId'] = test['PassengerId']\n",
        "test = test.drop(['Name', 'Ticket', 'Cabin', 'PassengerId', 'Age'] , axis = 1)"
      ],
      "execution_count": 83,
      "outputs": []
    },
    {
      "cell_type": "code",
      "metadata": {
        "colab": {
          "base_uri": "https://localhost:8080/"
        },
        "id": "EhpqPNRnwTfg",
        "outputId": "fdce222b-f448-4e9c-ee1f-689af7b5b81f"
      },
      "source": [
        "\n",
        "test_val = test.values\n",
        "prediction = boosting_model.predict(test_val)\n",
        "prediction"
      ],
      "execution_count": 86,
      "outputs": [
        {
          "output_type": "execute_result",
          "data": {
            "text/plain": [
              "array([0, 1, 0, 0, 1, 0, 1, 0, 1, 0, 0, 0, 1, 0, 1, 1, 0, 0, 1, 1, 0, 0,\n",
              "       1, 0, 1, 0, 1, 0, 0, 0, 0, 0, 1, 1, 0, 0, 1, 1, 0, 1, 0, 0, 0, 1,\n",
              "       1, 0, 0, 0, 1, 1, 0, 0, 1, 1, 0, 0, 0, 0, 0, 1, 0, 0, 0, 1, 0, 1,\n",
              "       1, 0, 0, 1, 1, 0, 1, 0, 1, 0, 0, 1, 0, 1, 0, 0, 0, 0, 0, 0, 1, 1,\n",
              "       1, 0, 1, 0, 1, 0, 0, 0, 1, 0, 1, 0, 1, 0, 0, 0, 1, 0, 0, 0, 0, 0,\n",
              "       0, 1, 1, 1, 1, 0, 0, 1, 0, 1, 1, 0, 1, 0, 0, 1, 0, 1, 0, 0, 0, 0,\n",
              "       1, 0, 0, 0, 0, 0, 1, 0, 1, 1, 0, 0, 0, 0, 0, 0, 0, 0, 1, 0, 0, 1,\n",
              "       0, 0, 1, 1, 0, 1, 1, 0, 1, 0, 0, 1, 0, 0, 1, 1, 0, 0, 0, 0, 0, 1,\n",
              "       1, 0, 1, 1, 0, 0, 1, 0, 1, 0, 1, 0, 1, 0, 0, 0, 0, 0, 0, 0, 0, 1,\n",
              "       0, 1, 1, 0, 0, 1, 0, 0, 1, 0, 1, 0, 0, 0, 0, 1, 1, 0, 1, 0, 1, 0,\n",
              "       1, 0, 1, 0, 1, 1, 0, 1, 0, 0, 0, 1, 0, 0, 0, 0, 0, 0, 1, 1, 1, 1,\n",
              "       0, 0, 0, 0, 1, 0, 1, 1, 1, 0, 0, 0, 0, 0, 0, 0, 1, 0, 0, 0, 1, 1,\n",
              "       0, 0, 0, 0, 1, 0, 0, 0, 1, 1, 0, 1, 0, 0, 0, 0, 1, 0, 1, 1, 1, 0,\n",
              "       0, 0, 0, 0, 0, 1, 0, 0, 0, 0, 1, 0, 0, 0, 0, 0, 0, 0, 1, 1, 0, 0,\n",
              "       0, 1, 0, 0, 0, 1, 1, 1, 0, 0, 0, 0, 0, 0, 0, 0, 1, 0, 1, 0, 0, 0,\n",
              "       1, 0, 0, 1, 0, 0, 0, 0, 0, 0, 0, 0, 0, 1, 0, 1, 0, 1, 0, 1, 1, 0,\n",
              "       0, 0, 1, 0, 1, 0, 0, 1, 0, 1, 1, 0, 1, 1, 0, 1, 1, 0, 0, 1, 0, 0,\n",
              "       1, 1, 1, 0, 0, 0, 0, 0, 1, 1, 0, 1, 0, 0, 0, 0, 0, 1, 0, 0, 0, 1,\n",
              "       0, 1, 0, 0, 1, 0, 1, 0, 0, 0, 0, 0, 1, 1, 1, 1, 1, 0, 1, 0, 0, 0])"
            ]
          },
          "metadata": {},
          "execution_count": 86
        }
      ]
    },
    {
      "cell_type": "code",
      "metadata": {
        "id": "QisqByUqk7Gc"
      },
      "source": [
        "answer['Survived'] = prediction"
      ],
      "execution_count": 87,
      "outputs": []
    },
    {
      "cell_type": "code",
      "metadata": {
        "id": "CmGOUVu-4DkB"
      },
      "source": [
        "answer.to_csv(r'/content/drive/MyDrive/Colab Notebooks/to_send_Stepik_kaggle.csv', index=False) "
      ],
      "execution_count": 89,
      "outputs": []
    }
  ]
}